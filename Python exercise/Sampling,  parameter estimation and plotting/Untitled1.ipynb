{
 "cells": [
  {
   "cell_type": "code",
   "execution_count": 4,
   "id": "informed-basket",
   "metadata": {},
   "outputs": [],
   "source": [
    "import numpy as np"
   ]
  },
  {
   "cell_type": "code",
   "execution_count": 6,
   "id": "secure-excess",
   "metadata": {},
   "outputs": [
    {
     "data": {
      "text/plain": [
       "array([0. , 0.1, 0.2, 0.3, 0.4, 0.5, 0.6, 0.7, 0.8, 0.9, 1. ])"
      ]
     },
     "execution_count": 6,
     "metadata": {},
     "output_type": "execute_result"
    }
   ],
   "source": [
    "np.linspace(0.0, 1.0, num=11)"
   ]
  },
  {
   "cell_type": "code",
   "execution_count": 28,
   "id": "prepared-issue",
   "metadata": {},
   "outputs": [],
   "source": [
    "N = 11\n",
    "x = np.linspace(0, 1, N, endpoint=True)"
   ]
  },
  {
   "cell_type": "code",
   "execution_count": 29,
   "id": "limited-complement",
   "metadata": {},
   "outputs": [
    {
     "data": {
      "text/plain": [
       "array([0. , 0.1, 0.2, 0.3, 0.4, 0.5, 0.6, 0.7, 0.8, 0.9, 1. ])"
      ]
     },
     "execution_count": 29,
     "metadata": {},
     "output_type": "execute_result"
    }
   ],
   "source": [
    "x"
   ]
  },
  {
   "cell_type": "code",
   "execution_count": 16,
   "id": "incredible-favorite",
   "metadata": {},
   "outputs": [],
   "source": [
    "data = [0.72, 0.83, 0.3]"
   ]
  },
  {
   "cell_type": "code",
   "execution_count": 5,
   "id": "taken-equivalent",
   "metadata": {},
   "outputs": [],
   "source": [
    "def create_bins(width, q):\n",
    "\n",
    "\n",
    "    bins = []\n",
    "    for low in np.arange(0.0, 0.0+ q*width, width):\n",
    "        bins.append((low, low+width))\n",
    "    return bins"
   ]
  },
  {
   "cell_type": "code",
   "execution_count": 6,
   "id": "loved-manor",
   "metadata": {},
   "outputs": [
    {
     "data": {
      "text/plain": [
       "[(0.0, 0.1),\n",
       " (0.1, 0.2),\n",
       " (0.2, 0.30000000000000004),\n",
       " (0.30000000000000004, 0.4),\n",
       " (0.4, 0.5),\n",
       " (0.5, 0.6),\n",
       " (0.6000000000000001, 0.7000000000000001),\n",
       " (0.7000000000000001, 0.8),\n",
       " (0.8, 0.9),\n",
       " (0.9, 1.0)]"
      ]
     },
     "execution_count": 6,
     "metadata": {},
     "output_type": "execute_result"
    }
   ],
   "source": [
    "bins = create_bins(width=0.1,q=10)\n",
    "\n",
    "bins"
   ]
  },
  {
   "cell_type": "code",
   "execution_count": 54,
   "id": "military-jamaica",
   "metadata": {
    "scrolled": true
   },
   "outputs": [
    {
     "data": {
      "text/plain": [
       "array([0.1])"
      ]
     },
     "execution_count": 54,
     "metadata": {},
     "output_type": "execute_result"
    }
   ],
   "source": [
    " np.arange(0.1, 1,5 )"
   ]
  },
  {
   "cell_type": "code",
   "execution_count": 67,
   "id": "trying-design",
   "metadata": {},
   "outputs": [],
   "source": []
  },
  {
   "cell_type": "code",
   "execution_count": 1,
   "id": "dependent-richards",
   "metadata": {},
   "outputs": [],
   "source": [
    "def make_bins(data, bin_size):\n",
    "  \n",
    "  binned_data = {}  #variable to store the output\n",
    "  bin_low = 0.0  #initial lower limit of the bin\n",
    "  bin_high = bin_size  #initial high limit of the bin\n",
    "  key = str(bin_low) + '-' + str(bin_high)  #variable stores the key name\n",
    "  i = 1  #counter for the values of the floats fits in the actal bin\n",
    "    \n",
    "  for data_piece in data:  #iter over the sorted data\n",
    " \n",
    "    while data_piece < bin_low:\n",
    "      bin_low += bin_size\n",
    "      bin_high += bin_size\n",
    "  \n",
    "    if bin_low <= data_piece < bin_high:  #if the current data fits the bin, lower inclusive and upper exclusive\n",
    "      binned_data[key] = i  #append the counter for the key\n",
    "      i += 1  #increment the key\n",
    "  \n",
    "    else:  # if the current data doesn't fit the bin\n",
    "      i = 1  #reset counter to 1\n",
    "      bin_low += bin_size\n",
    "      bin_high += bin_size  #and increment the bin limits by the bin size\n",
    "      key = str(bin_low) + '-' + str(bin_high) # generate a new key\n",
    "      binned_data[key] = i  #and append it \n",
    "  \n",
    "  return(binned_data)"
   ]
  },
  {
   "cell_type": "code",
   "execution_count": null,
   "id": "afraid-representation",
   "metadata": {},
   "outputs": [],
   "source": [
    "make_bins()"
   ]
  }
 ],
 "metadata": {
  "kernelspec": {
   "display_name": "Python 3",
   "language": "python",
   "name": "python3"
  },
  "language_info": {
   "codemirror_mode": {
    "name": "ipython",
    "version": 3
   },
   "file_extension": ".py",
   "mimetype": "text/x-python",
   "name": "python",
   "nbconvert_exporter": "python",
   "pygments_lexer": "ipython3",
   "version": "3.8.5"
  }
 },
 "nbformat": 4,
 "nbformat_minor": 5
}

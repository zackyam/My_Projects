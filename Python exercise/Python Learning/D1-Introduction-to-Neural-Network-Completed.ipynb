{
 "cells": [
  {
   "cell_type": "markdown",
   "metadata": {},
   "source": [
    "# Introduction to Neural Network\n",
    "\n",
    "The widespread adoption of artificial intelligence in recent years has been largely driven by advancement in neural networks. Neural networks is behind systems ranging from \n",
    "<a href=\"https://deepmind.com/research/alphago/\">AlphaGo</a>, \n",
    "<a href=\"https://translate.google.com/\">Google Translate</a> \n",
    "to <a href=\"https://www.tesla.com/en_HK/autopilot\">Tesla Autopilot</a>.\n",
    "\n",
    "Neural network is fundamentally numeric computation, so any software with decent numeric computation capabilities can be used to construct and train a neural network. That said, while in theory you can construct a neural network in Excel, in practice it will be very troublesome since Excel is not designed with neural network in mind. Libraries are that specifically geared toward neural network include:\n",
    "- Google's <a href=\"https://www.tensorflow.org/\">Tensorflow</a>\n",
    "- Microsoft's <a href=\"https://github.com/Microsoft/CNTK\">CNTK</a>\n",
    "- Facebook's <a href=\"http://pytorch.org/\">PyTorch</a> and <a href=\"https://caffe2.ai/\">Caffe2</a>\n",
    "- Intel's <a href=\"https://ai.intel.com/neon/\">neon</a>\n",
    "- <a href=\"http://deeplearning.net/software/theano/\">Theano</a> and <a href=\"http://caffe.berkeleyvision.org/\">Caffe</a>\n",
    "\n",
    "In this course we will focus on using <a href=\"https://keras.io/\">```keras```</a>, which is a high-level library for constructing neural networks. Keras runs on top of a numerical computation library of your choice, defaulting to ```tensorflow```. A library such as Keras significantly simplify the workflow of constructing and training neural networks. \n",
    "\n",
    "<img src=\"../Images/nn_libraries.png\" width=\"80%\">"
   ]
  },
  {
   "cell_type": "markdown",
   "metadata": {},
   "source": [
    "Before we start, we will first disable the server's GPU so that everything runs on its CPU. Later we will turn it back on to see how much speed up we can get. This setting has no effect if you do not have a (Nvidia) GPU."
   ]
  },
  {
   "cell_type": "code",
   "execution_count": 1,
   "metadata": {},
   "outputs": [],
   "source": [
    "import os\n",
    "os.environ[\"CUDA_VISIBLE_DEVICES\"] = \"\""
   ]
  },
  {
   "cell_type": "markdown",
   "metadata": {},
   "source": [
    "## A Simple Example: Binary Neural Network Classifier\n",
    "\n",
    "As a first example, we will train a neural network to the following classification task:\n",
    "\n",
    "|y|x1|x2|\n",
    "|-|-|-|\n",
    "|0|1|0|\n",
    "|1|0|1|\n",
    "\n",
    "To be clear: there is absolutely no need to use neural network for such as simple task. A simpler model will train a lot faster and potentially with better accuracy.\n",
    "\n",
    "We first generate the data:"
   ]
  },
  {
   "cell_type": "code",
   "execution_count": 1,
   "metadata": {},
   "outputs": [],
   "source": [
    "import numpy as np \n",
    "from sklearn.model_selection import train_test_split\n",
    "\n",
    "#Generate 2000 samples. [1,0] -> 0, [0,1] -> 1\n",
    "X = np.repeat([[1,0]], 1000, axis=0)\n",
    "y = np.repeat([0], 1000, axis=0)\n",
    "X = np.append(X,np.repeat([[0,1]], 1000, axis=0),axis=0)\n",
    "y = np.append(y,np.repeat([1], 1000, axis=0),axis=0)\n",
    "\n",
    "#Shuffle and split data into train set and test set\n",
    "X_train, X_test, y_train, y_test = train_test_split(X,y)"
   ]
  },
  {
   "cell_type": "markdown",
   "metadata": {},
   "source": [
    "We will construct a neural network classifier for this task. \n",
    "\n",
    "A neural network model is made up of multiple layers. The simpliest model would have three layers:\n",
    "- An *input layer*. This layer specify the nature of the input data. In this example, we only need to tell Keras that we have two variables to input.\n",
    "- A *hidden layer*. This layer contains neuron(s) that process the input data.\n",
    "- An *ouput layer*. The neurons in this layer process the output from the hidden layer and generate predictions. This layer contains as many neurons as the number of target variables we try to predict. \n",
    "\n",
    "Below is the simplest neural network one can come up with, with only one hidden neuron. The neuron computes the following function:\n",
    "}\n",
    "$$\n",
    "F \\left( b + \\sum\\nolimits_{i}{w_{i}x_{i}} \\right)\n",
    "$$\n",
    "\n",
    "where $x_i$ are inputs, b the intercept (called *bias* in machine learning), $w_i$ coefficients (called *weights*) and $F$ is an *activation function*. In this example we will use the logistic function (also called the *sigmoid function*) as the activation function:\n",
    "\n",
    "$$\n",
    "F(z) = \\frac{e^z}{1+e^z}\n",
    "$$\n",
    "\n",
    "So the neuron is essentially a logit regression."
   ]
  },
  {
   "cell_type": "code",
   "execution_count": 3,
   "metadata": {},
   "outputs": [
    {
     "name": "stdout",
     "output_type": "stream",
     "text": [
      "Epoch 1/50\n",
      "1500/1500 [==============================] - 0s 192us/step - loss: 0.6918 - acc: 0.4973\n",
      "Epoch 2/50\n",
      "1500/1500 [==============================] - 0s 53us/step - loss: 0.6886 - acc: 0.4973\n",
      "Epoch 3/50\n",
      "1500/1500 [==============================] - 0s 54us/step - loss: 0.6855 - acc: 0.4973\n",
      "Epoch 4/50\n",
      "1500/1500 [==============================] - 0s 51us/step - loss: 0.6824 - acc: 0.4973\n",
      "Epoch 5/50\n",
      "1500/1500 [==============================] - 0s 63us/step - loss: 0.6790 - acc: 0.4973\n",
      "Epoch 6/50\n",
      "1500/1500 [==============================] - 0s 75us/step - loss: 0.6752 - acc: 0.4973\n",
      "Epoch 7/50\n",
      "1500/1500 [==============================] - 0s 75us/step - loss: 0.6709 - acc: 0.4973\n",
      "Epoch 8/50\n",
      "1500/1500 [==============================] - 0s 75us/step - loss: 0.6660 - acc: 0.4973\n",
      "Epoch 9/50\n",
      "1500/1500 [==============================] - 0s 77us/step - loss: 0.6603 - acc: 0.4973\n",
      "Epoch 10/50\n",
      "1500/1500 [==============================] - 0s 77us/step - loss: 0.6538 - acc: 0.4973\n",
      "Epoch 11/50\n",
      "1500/1500 [==============================] - 0s 75us/step - loss: 0.6467 - acc: 0.4973\n",
      "Epoch 12/50\n",
      "1500/1500 [==============================] - 0s 73us/step - loss: 0.6387 - acc: 0.4973\n",
      "Epoch 13/50\n",
      "1500/1500 [==============================] - 0s 76us/step - loss: 0.6302 - acc: 0.6740\n",
      "Epoch 14/50\n",
      "1500/1500 [==============================] - 0s 76us/step - loss: 0.6210 - acc: 1.0000\n",
      "Epoch 15/50\n",
      "1500/1500 [==============================] - 0s 75us/step - loss: 0.6114 - acc: 1.0000\n",
      "Epoch 16/50\n",
      "1500/1500 [==============================] - 0s 75us/step - loss: 0.6011 - acc: 1.0000\n",
      "Epoch 17/50\n",
      "1500/1500 [==============================] - 0s 78us/step - loss: 0.5906 - acc: 1.0000\n",
      "Epoch 18/50\n",
      "1500/1500 [==============================] - 0s 75us/step - loss: 0.5798 - acc: 1.0000\n",
      "Epoch 19/50\n",
      "1500/1500 [==============================] - 0s 79us/step - loss: 0.5686 - acc: 1.0000\n",
      "Epoch 20/50\n",
      "1500/1500 [==============================] - 0s 78us/step - loss: 0.5573 - acc: 1.0000\n",
      "Epoch 21/50\n",
      "1500/1500 [==============================] - 0s 77us/step - loss: 0.5459 - acc: 1.0000\n",
      "Epoch 22/50\n",
      "1500/1500 [==============================] - 0s 78us/step - loss: 0.5344 - acc: 1.0000\n",
      "Epoch 23/50\n",
      "1500/1500 [==============================] - 0s 76us/step - loss: 0.5229 - acc: 1.0000\n",
      "Epoch 24/50\n",
      "1500/1500 [==============================] - 0s 75us/step - loss: 0.5115 - acc: 1.0000\n",
      "Epoch 25/50\n",
      "1500/1500 [==============================] - 0s 77us/step - loss: 0.5001 - acc: 1.0000\n",
      "Epoch 26/50\n",
      "1500/1500 [==============================] - 0s 76us/step - loss: 0.4888 - acc: 1.0000\n",
      "Epoch 27/50\n",
      "1500/1500 [==============================] - 0s 77us/step - loss: 0.4777 - acc: 1.0000\n",
      "Epoch 28/50\n",
      "1500/1500 [==============================] - 0s 77us/step - loss: 0.4668 - acc: 1.0000\n",
      "Epoch 29/50\n",
      "1500/1500 [==============================] - 0s 79us/step - loss: 0.4560 - acc: 1.0000\n",
      "Epoch 30/50\n",
      "1500/1500 [==============================] - 0s 74us/step - loss: 0.4455 - acc: 1.0000\n",
      "Epoch 31/50\n",
      "1500/1500 [==============================] - 0s 76us/step - loss: 0.4351 - acc: 1.0000\n",
      "Epoch 32/50\n",
      "1500/1500 [==============================] - 0s 78us/step - loss: 0.4250 - acc: 1.0000\n",
      "Epoch 33/50\n",
      "1500/1500 [==============================] - 0s 74us/step - loss: 0.4151 - acc: 1.0000\n",
      "Epoch 34/50\n",
      "1500/1500 [==============================] - 0s 77us/step - loss: 0.4055 - acc: 1.0000\n",
      "Epoch 35/50\n",
      "1500/1500 [==============================] - 0s 78us/step - loss: 0.3961 - acc: 1.0000\n",
      "Epoch 36/50\n",
      "1500/1500 [==============================] - 0s 75us/step - loss: 0.3869 - acc: 1.0000\n",
      "Epoch 37/50\n",
      "1500/1500 [==============================] - 0s 78us/step - loss: 0.3780 - acc: 1.0000\n",
      "Epoch 38/50\n",
      "1500/1500 [==============================] - 0s 73us/step - loss: 0.3693 - acc: 1.0000\n",
      "Epoch 39/50\n",
      "1500/1500 [==============================] - 0s 76us/step - loss: 0.3608 - acc: 1.0000\n",
      "Epoch 40/50\n",
      "1500/1500 [==============================] - 0s 75us/step - loss: 0.3526 - acc: 1.0000\n",
      "Epoch 41/50\n",
      "1500/1500 [==============================] - 0s 80us/step - loss: 0.3446 - acc: 1.0000\n",
      "Epoch 42/50\n",
      "1500/1500 [==============================] - 0s 75us/step - loss: 0.3368 - acc: 1.0000\n",
      "Epoch 43/50\n",
      "1500/1500 [==============================] - 0s 78us/step - loss: 0.3293 - acc: 1.0000\n",
      "Epoch 44/50\n",
      "1500/1500 [==============================] - 0s 76us/step - loss: 0.3219 - acc: 1.0000\n",
      "Epoch 45/50\n",
      "1500/1500 [==============================] - 0s 74us/step - loss: 0.3148 - acc: 1.0000\n",
      "Epoch 46/50\n",
      "1500/1500 [==============================] - 0s 77us/step - loss: 0.3078 - acc: 1.0000\n",
      "Epoch 47/50\n",
      "1500/1500 [==============================] - 0s 80us/step - loss: 0.3011 - acc: 1.0000\n",
      "Epoch 48/50\n",
      "1500/1500 [==============================] - 0s 77us/step - loss: 0.2945 - acc: 1.0000\n",
      "Epoch 49/50\n",
      "1500/1500 [==============================] - 0s 77us/step - loss: 0.2881 - acc: 1.0000\n",
      "Epoch 50/50\n",
      "1500/1500 [==============================] - 0s 75us/step - loss: 0.2819 - acc: 1.0000\n"
     ]
    },
    {
     "data": {
      "text/plain": [
       "<keras.callbacks.History at 0x7f304c15c438>"
      ]
     },
     "execution_count": 3,
     "metadata": {},
     "output_type": "execute_result"
    }
   ],
   "source": [
    "from keras.layers import Input, Dense\n",
    "from keras.models import Model\n",
    "\n",
    "# Set up layers \n",
    "inputs = Input(shape=(2,))\n",
    "x = Dense(1, activation='sigmoid')(inputs)\n",
    "predictions = Dense(1, activation='sigmoid')(x)\n",
    "\n",
    "# Set up model\n",
    "model = Model(inputs=inputs, outputs=predictions)\n",
    "model.compile(optimizer='adam',\n",
    "              loss='binary_crossentropy',\n",
    "              metrics=['accuracy'])\n",
    "model.fit(X_train,y_train,epochs=50)  # starts training"
   ]
  },
  {
   "cell_type": "markdown",
   "metadata": {},
   "source": [
    "Out-of-sample test can be conducted with ```model.evaluate()```:"
   ]
  },
  {
   "cell_type": "code",
   "execution_count": 4,
   "metadata": {},
   "outputs": [
    {
     "name": "stdout",
     "output_type": "stream",
     "text": [
      "500/500 [==============================] - 0s 125us/step\n"
     ]
    },
    {
     "data": {
      "text/plain": [
       "[0.2778225965499878, 1.0]"
      ]
     },
     "execution_count": 4,
     "metadata": {},
     "output_type": "execute_result"
    }
   ],
   "source": [
    "model.evaluate(x=X_test,y=y_test)"
   ]
  },
  {
   "cell_type": "markdown",
   "metadata": {},
   "source": [
    "The first number is the model's loss while the subsequent numbers are the metrics we specified. In our case, they are ```binary_crossentropy``` and ```accuracy``` respectively.\n",
    "\n",
    "Unlike OLS, a neural network's performance could vary across runs. Run the code a few more times and see how the performance vary.\n",
    "\n",
    "Make prediction (this is called *inference* in machine learning) with ```model.predict()```:"
   ]
  },
  {
   "cell_type": "code",
   "execution_count": 5,
   "metadata": {
    "scrolled": false
   },
   "outputs": [
    {
     "name": "stdout",
     "output_type": "stream",
     "text": [
      "[[0.7232238]]\n"
     ]
    }
   ],
   "source": [
    "x = np.array([[0,1]])\n",
    "print(model.predict(x))"
   ]
  },
  {
   "cell_type": "markdown",
   "metadata": {},
   "source": [
    "## Activations\n",
    "\n",
    "Different activation can have profound impact on model performance. Besides ```sigmoid```, which is just a different name for the logistic function, there are other activation function such as ```tanh``` and ```relu```. ```relu```, which stands for **RE**ctified **L**inear **U**nit, is a particular common choice due to its good performance."
   ]
  },
  {
   "cell_type": "code",
   "execution_count": 7,
   "metadata": {},
   "outputs": [
    {
     "name": "stdout",
     "output_type": "stream",
     "text": [
      "Epoch 1/50\n",
      "1500/1500 [==============================] - 0s 196us/step - loss: 0.6067 - acc: 0.4927\n",
      "Epoch 2/50\n",
      "1500/1500 [==============================] - 0s 49us/step - loss: 0.5729 - acc: 0.9860\n",
      "Epoch 3/50\n",
      "1500/1500 [==============================] - 0s 53us/step - loss: 0.5473 - acc: 1.0000\n",
      "Epoch 4/50\n",
      "1500/1500 [==============================] - 0s 51us/step - loss: 0.5224 - acc: 1.0000\n",
      "Epoch 5/50\n",
      "1500/1500 [==============================] - 0s 65us/step - loss: 0.4976 - acc: 1.0000\n",
      "Epoch 6/50\n",
      "1500/1500 [==============================] - 0s 77us/step - loss: 0.4733 - acc: 1.0000\n",
      "Epoch 7/50\n",
      "1500/1500 [==============================] - 0s 77us/step - loss: 0.4496 - acc: 1.0000\n",
      "Epoch 8/50\n",
      "1500/1500 [==============================] - 0s 76us/step - loss: 0.4267 - acc: 1.0000\n",
      "Epoch 9/50\n",
      "1500/1500 [==============================] - 0s 79us/step - loss: 0.4048 - acc: 1.0000\n",
      "Epoch 10/50\n",
      "1500/1500 [==============================] - 0s 76us/step - loss: 0.3839 - acc: 1.0000\n",
      "Epoch 11/50\n",
      "1500/1500 [==============================] - 0s 78us/step - loss: 0.3641 - acc: 1.0000\n",
      "Epoch 12/50\n",
      "1500/1500 [==============================] - 0s 76us/step - loss: 0.3454 - acc: 1.0000\n",
      "Epoch 13/50\n",
      "1500/1500 [==============================] - 0s 82us/step - loss: 0.3278 - acc: 1.0000\n",
      "Epoch 14/50\n",
      "1500/1500 [==============================] - 0s 78us/step - loss: 0.3112 - acc: 1.0000\n",
      "Epoch 15/50\n",
      "1500/1500 [==============================] - 0s 74us/step - loss: 0.2957 - acc: 1.0000\n",
      "Epoch 16/50\n",
      "1500/1500 [==============================] - 0s 77us/step - loss: 0.2812 - acc: 1.0000\n",
      "Epoch 17/50\n",
      "1500/1500 [==============================] - 0s 79us/step - loss: 0.2676 - acc: 1.0000\n",
      "Epoch 18/50\n",
      "1500/1500 [==============================] - 0s 81us/step - loss: 0.2548 - acc: 1.0000\n",
      "Epoch 19/50\n",
      "1500/1500 [==============================] - 0s 76us/step - loss: 0.2429 - acc: 1.0000\n",
      "Epoch 20/50\n",
      "1500/1500 [==============================] - 0s 76us/step - loss: 0.2317 - acc: 1.0000\n",
      "Epoch 21/50\n",
      "1500/1500 [==============================] - 0s 77us/step - loss: 0.2212 - acc: 1.0000\n",
      "Epoch 22/50\n",
      "1500/1500 [==============================] - 0s 78us/step - loss: 0.2114 - acc: 1.0000\n",
      "Epoch 23/50\n",
      "1500/1500 [==============================] - 0s 76us/step - loss: 0.2022 - acc: 1.0000\n",
      "Epoch 24/50\n",
      "1500/1500 [==============================] - 0s 79us/step - loss: 0.1935 - acc: 1.0000\n",
      "Epoch 25/50\n",
      "1500/1500 [==============================] - 0s 75us/step - loss: 0.1854 - acc: 1.0000\n",
      "Epoch 26/50\n",
      "1500/1500 [==============================] - 0s 77us/step - loss: 0.1777 - acc: 1.0000\n",
      "Epoch 27/50\n",
      "1500/1500 [==============================] - 0s 78us/step - loss: 0.1705 - acc: 1.0000\n",
      "Epoch 28/50\n",
      "1500/1500 [==============================] - 0s 79us/step - loss: 0.1637 - acc: 1.0000\n",
      "Epoch 29/50\n",
      "1500/1500 [==============================] - 0s 78us/step - loss: 0.1572 - acc: 1.0000\n",
      "Epoch 30/50\n",
      "1500/1500 [==============================] - 0s 78us/step - loss: 0.1511 - acc: 1.0000\n",
      "Epoch 31/50\n",
      "1500/1500 [==============================] - 0s 76us/step - loss: 0.1453 - acc: 1.0000\n",
      "Epoch 32/50\n",
      "1500/1500 [==============================] - 0s 76us/step - loss: 0.1399 - acc: 1.0000\n",
      "Epoch 33/50\n",
      "1500/1500 [==============================] - 0s 77us/step - loss: 0.1347 - acc: 1.0000\n",
      "Epoch 34/50\n",
      "1500/1500 [==============================] - 0s 77us/step - loss: 0.1298 - acc: 1.0000\n",
      "Epoch 35/50\n",
      "1500/1500 [==============================] - 0s 79us/step - loss: 0.1251 - acc: 1.0000\n",
      "Epoch 36/50\n",
      "1500/1500 [==============================] - 0s 78us/step - loss: 0.1207 - acc: 1.0000\n",
      "Epoch 37/50\n",
      "1500/1500 [==============================] - 0s 78us/step - loss: 0.1164 - acc: 1.0000\n",
      "Epoch 38/50\n",
      "1500/1500 [==============================] - 0s 79us/step - loss: 0.1124 - acc: 1.0000\n",
      "Epoch 39/50\n",
      "1500/1500 [==============================] - 0s 76us/step - loss: 0.1086 - acc: 1.0000\n",
      "Epoch 40/50\n",
      "1500/1500 [==============================] - 0s 76us/step - loss: 0.1049 - acc: 1.0000\n",
      "Epoch 41/50\n",
      "1500/1500 [==============================] - 0s 80us/step - loss: 0.1014 - acc: 1.0000\n",
      "Epoch 42/50\n",
      "1500/1500 [==============================] - 0s 79us/step - loss: 0.0981 - acc: 1.0000\n",
      "Epoch 43/50\n",
      "1500/1500 [==============================] - 0s 78us/step - loss: 0.0949 - acc: 1.0000\n",
      "Epoch 44/50\n",
      "1500/1500 [==============================] - 0s 77us/step - loss: 0.0919 - acc: 1.0000\n",
      "Epoch 45/50\n",
      "1500/1500 [==============================] - 0s 79us/step - loss: 0.0890 - acc: 1.0000\n",
      "Epoch 46/50\n",
      "1500/1500 [==============================] - 0s 75us/step - loss: 0.0862 - acc: 1.0000\n",
      "Epoch 47/50\n",
      "1500/1500 [==============================] - 0s 78us/step - loss: 0.0835 - acc: 1.0000\n",
      "Epoch 48/50\n",
      "1500/1500 [==============================] - 0s 80us/step - loss: 0.0809 - acc: 1.0000\n",
      "Epoch 49/50\n",
      "1500/1500 [==============================] - 0s 76us/step - loss: 0.0785 - acc: 1.0000\n",
      "Epoch 50/50\n",
      "1500/1500 [==============================] - 0s 77us/step - loss: 0.0761 - acc: 1.0000\n"
     ]
    },
    {
     "data": {
      "text/plain": [
       "<keras.callbacks.History at 0x7efc3c1a2e48>"
      ]
     },
     "execution_count": 7,
     "metadata": {},
     "output_type": "execute_result"
    }
   ],
   "source": [
    "# Replace 'sigmoid' with 'relu' for the hidden layer\n",
    "inputs = Input(shape=(2,))\n",
    "x = Dense(1, activation='relu')(inputs)\n",
    "predictions = Dense(1, activation='sigmoid')(x)\n",
    "\n",
    "model = Model(inputs=inputs,outputs=predictions)\n",
    "model.compile(optimizer='adam',\n",
    "              loss='binary_crossentropy',\n",
    "              metrics=['accuracy'])\n",
    "model.fit(X_train,y_train,epochs=50)"
   ]
  },
  {
   "cell_type": "markdown",
   "metadata": {},
   "source": [
    "Why is ReLU performing so much better than the logistic function? Let us take a look at the shape of each function:\n",
    "<img src=\"../Images/logistic_v_relu.png\">\n",
    "The most prominent feature of the logistic function is that it is bounded between 0 and 1. This means it is virtually flat for very large or very small input values, and flat means small gradient. As gradient descent relies on gradient to learn, small gradient implies slow learning. ReLU avoids this issue by being linear above zero."
   ]
  },
  {
   "cell_type": "markdown",
   "metadata": {},
   "source": [
    "## Neural Network Regression\n",
    "\n",
    "Next we are going use a neural network in a regression task. The true data generating process (DGP) is as follows:\n",
    "\n",
    "$$\n",
    "y = x^5 -2x^3 + 6x^2 + 10x - 5\n",
    "$$\n",
    "\n",
    "The model does not know the true DGP, so it needs to figure out the relationship between $y$ and $x$ from the data.\n",
    "\n",
    "First we generate the data:"
   ]
  },
  {
   "cell_type": "code",
   "execution_count": 6,
   "metadata": {},
   "outputs": [],
   "source": [
    "#Generate 1000 samples\n",
    "X = np.random.rand(1000,1)\n",
    "y = X**5 - 2*X**3 + 6*X**2 + 10*X - 5\n",
    "\n",
    "#Shuffle and split data into train set and test set\n",
    "X_train, X_test, y_train, y_test = train_test_split(X,y)"
   ]
  },
  {
   "cell_type": "markdown",
   "metadata": {},
   "source": [
    "Then we construct the model:"
   ]
  },
  {
   "cell_type": "code",
   "execution_count": 24,
   "metadata": {},
   "outputs": [
    {
     "name": "stdout",
     "output_type": "stream",
     "text": [
      "Epoch 1/200\n",
      "750/750 [==============================] - 0s 617us/step - loss: 17.6618\n",
      "Epoch 2/200\n",
      "750/750 [==============================] - 0s 50us/step - loss: 17.3984\n",
      "Epoch 3/200\n",
      "750/750 [==============================] - 0s 59us/step - loss: 17.2102\n",
      "Epoch 4/200\n",
      "750/750 [==============================] - 0s 65us/step - loss: 17.0297\n",
      "Epoch 5/200\n",
      "750/750 [==============================] - 0s 48us/step - loss: 16.8280\n",
      "Epoch 6/200\n",
      "750/750 [==============================] - 0s 46us/step - loss: 16.6344\n",
      "Epoch 7/200\n",
      "750/750 [==============================] - 0s 45us/step - loss: 16.4318\n",
      "Epoch 8/200\n",
      "750/750 [==============================] - 0s 48us/step - loss: 16.2183\n",
      "Epoch 9/200\n",
      "750/750 [==============================] - 0s 50us/step - loss: 15.9813\n",
      "Epoch 10/200\n",
      "750/750 [==============================] - 0s 47us/step - loss: 15.7471\n",
      "Epoch 11/200\n",
      "750/750 [==============================] - 0s 46us/step - loss: 15.5045\n",
      "Epoch 12/200\n",
      "750/750 [==============================] - 0s 45us/step - loss: 15.2697\n",
      "Epoch 13/200\n",
      "750/750 [==============================] - 0s 50us/step - loss: 14.9556\n",
      "Epoch 14/200\n",
      "750/750 [==============================] - 0s 68us/step - loss: 14.6942\n",
      "Epoch 15/200\n",
      "750/750 [==============================] - 0s 66us/step - loss: 14.3842\n",
      "Epoch 16/200\n",
      "750/750 [==============================] - 0s 68us/step - loss: 14.0497\n",
      "Epoch 17/200\n",
      "750/750 [==============================] - 0s 67us/step - loss: 13.7020\n",
      "Epoch 18/200\n",
      "750/750 [==============================] - 0s 67us/step - loss: 13.3375\n",
      "Epoch 19/200\n",
      "750/750 [==============================] - 0s 65us/step - loss: 12.9515\n",
      "Epoch 20/200\n",
      "750/750 [==============================] - 0s 66us/step - loss: 12.5622\n",
      "Epoch 21/200\n",
      "750/750 [==============================] - 0s 68us/step - loss: 12.1426\n",
      "Epoch 22/200\n",
      "750/750 [==============================] - 0s 66us/step - loss: 11.7149\n",
      "Epoch 23/200\n",
      "750/750 [==============================] - 0s 66us/step - loss: 11.2784\n",
      "Epoch 24/200\n",
      "750/750 [==============================] - 0s 67us/step - loss: 10.7953\n",
      "Epoch 25/200\n",
      "750/750 [==============================] - 0s 64us/step - loss: 10.3230\n",
      "Epoch 26/200\n",
      "750/750 [==============================] - 0s 67us/step - loss: 9.8443\n",
      "Epoch 27/200\n",
      "750/750 [==============================] - 0s 68us/step - loss: 9.3422\n",
      "Epoch 28/200\n",
      "750/750 [==============================] - 0s 71us/step - loss: 8.8368\n",
      "Epoch 29/200\n",
      "750/750 [==============================] - 0s 67us/step - loss: 8.3518\n",
      "Epoch 30/200\n",
      "750/750 [==============================] - 0s 70us/step - loss: 7.8245\n",
      "Epoch 31/200\n",
      "750/750 [==============================] - 0s 66us/step - loss: 7.3440\n",
      "Epoch 32/200\n",
      "750/750 [==============================] - 0s 69us/step - loss: 6.8386\n",
      "Epoch 33/200\n",
      "750/750 [==============================] - 0s 66us/step - loss: 6.3478\n",
      "Epoch 34/200\n",
      "750/750 [==============================] - 0s 68us/step - loss: 5.8716\n",
      "Epoch 35/200\n",
      "750/750 [==============================] - 0s 66us/step - loss: 5.4055\n",
      "Epoch 36/200\n",
      "750/750 [==============================] - 0s 65us/step - loss: 4.9596\n",
      "Epoch 37/200\n",
      "750/750 [==============================] - 0s 70us/step - loss: 4.5236\n",
      "Epoch 38/200\n",
      "750/750 [==============================] - 0s 64us/step - loss: 4.1024\n",
      "Epoch 39/200\n",
      "750/750 [==============================] - 0s 66us/step - loss: 3.7141\n",
      "Epoch 40/200\n",
      "750/750 [==============================] - 0s 68us/step - loss: 3.3454\n",
      "Epoch 41/200\n",
      "750/750 [==============================] - 0s 68us/step - loss: 2.9953\n",
      "Epoch 42/200\n",
      "750/750 [==============================] - 0s 68us/step - loss: 2.6713\n",
      "Epoch 43/200\n",
      "750/750 [==============================] - 0s 67us/step - loss: 2.3720\n",
      "Epoch 44/200\n",
      "750/750 [==============================] - 0s 68us/step - loss: 2.1055\n",
      "Epoch 45/200\n",
      "750/750 [==============================] - 0s 70us/step - loss: 1.8508\n",
      "Epoch 46/200\n",
      "750/750 [==============================] - 0s 68us/step - loss: 1.6271\n",
      "Epoch 47/200\n",
      "750/750 [==============================] - 0s 67us/step - loss: 1.4282\n",
      "Epoch 48/200\n",
      "750/750 [==============================] - 0s 72us/step - loss: 1.2498\n",
      "Epoch 49/200\n",
      "750/750 [==============================] - 0s 67us/step - loss: 1.0927\n",
      "Epoch 50/200\n",
      "750/750 [==============================] - 0s 67us/step - loss: 0.9553\n",
      "Epoch 51/200\n",
      "750/750 [==============================] - 0s 68us/step - loss: 0.8322\n",
      "Epoch 52/200\n",
      "750/750 [==============================] - 0s 67us/step - loss: 0.7288\n",
      "Epoch 53/200\n",
      "750/750 [==============================] - 0s 66us/step - loss: 0.6383\n",
      "Epoch 54/200\n",
      "750/750 [==============================] - 0s 64us/step - loss: 0.5611\n",
      "Epoch 55/200\n",
      "750/750 [==============================] - 0s 66us/step - loss: 0.4967\n",
      "Epoch 56/200\n",
      "750/750 [==============================] - 0s 66us/step - loss: 0.4434\n",
      "Epoch 57/200\n",
      "750/750 [==============================] - 0s 66us/step - loss: 0.3980\n",
      "Epoch 58/200\n",
      "750/750 [==============================] - 0s 63us/step - loss: 0.3615\n",
      "Epoch 59/200\n",
      "750/750 [==============================] - 0s 66us/step - loss: 0.3309\n",
      "Epoch 60/200\n",
      "750/750 [==============================] - 0s 66us/step - loss: 0.3053\n",
      "Epoch 61/200\n",
      "750/750 [==============================] - 0s 66us/step - loss: 0.2840\n",
      "Epoch 62/200\n",
      "750/750 [==============================] - 0s 67us/step - loss: 0.2674\n",
      "Epoch 63/200\n",
      "750/750 [==============================] - 0s 68us/step - loss: 0.2545\n",
      "Epoch 64/200\n",
      "750/750 [==============================] - 0s 65us/step - loss: 0.2439\n",
      "Epoch 65/200\n",
      "750/750 [==============================] - 0s 72us/step - loss: 0.2361\n",
      "Epoch 66/200\n",
      "750/750 [==============================] - 0s 68us/step - loss: 0.2300\n",
      "Epoch 67/200\n",
      "750/750 [==============================] - 0s 66us/step - loss: 0.2248\n",
      "Epoch 68/200\n",
      "750/750 [==============================] - 0s 65us/step - loss: 0.2205\n",
      "Epoch 69/200\n",
      "750/750 [==============================] - 0s 66us/step - loss: 0.2167\n",
      "Epoch 70/200\n",
      "750/750 [==============================] - 0s 67us/step - loss: 0.2141\n",
      "Epoch 71/200\n",
      "750/750 [==============================] - 0s 69us/step - loss: 0.2119\n",
      "Epoch 72/200\n",
      "750/750 [==============================] - 0s 67us/step - loss: 0.2103\n",
      "Epoch 73/200\n",
      "750/750 [==============================] - 0s 66us/step - loss: 0.2087\n",
      "Epoch 74/200\n",
      "750/750 [==============================] - 0s 64us/step - loss: 0.2084\n",
      "Epoch 75/200\n",
      "750/750 [==============================] - 0s 65us/step - loss: 0.2072\n",
      "Epoch 76/200\n",
      "750/750 [==============================] - 0s 68us/step - loss: 0.2061\n",
      "Epoch 77/200\n",
      "750/750 [==============================] - 0s 66us/step - loss: 0.2054\n",
      "Epoch 78/200\n",
      "750/750 [==============================] - 0s 66us/step - loss: 0.2046\n",
      "Epoch 79/200\n",
      "750/750 [==============================] - 0s 64us/step - loss: 0.2032\n",
      "Epoch 80/200\n",
      "750/750 [==============================] - 0s 66us/step - loss: 0.2027\n",
      "Epoch 81/200\n",
      "750/750 [==============================] - 0s 64us/step - loss: 0.2017\n",
      "Epoch 82/200\n",
      "750/750 [==============================] - 0s 69us/step - loss: 0.2009\n",
      "Epoch 83/200\n",
      "750/750 [==============================] - 0s 67us/step - loss: 0.2002\n",
      "Epoch 84/200\n",
      "750/750 [==============================] - 0s 66us/step - loss: 0.2000\n",
      "Epoch 85/200\n",
      "750/750 [==============================] - 0s 67us/step - loss: 0.1993\n",
      "Epoch 86/200\n",
      "750/750 [==============================] - 0s 66us/step - loss: 0.1990\n",
      "Epoch 87/200\n",
      "750/750 [==============================] - 0s 67us/step - loss: 0.1977\n",
      "Epoch 88/200\n",
      "750/750 [==============================] - 0s 69us/step - loss: 0.1976\n",
      "Epoch 89/200\n",
      "750/750 [==============================] - 0s 65us/step - loss: 0.1969\n",
      "Epoch 90/200\n",
      "750/750 [==============================] - 0s 66us/step - loss: 0.1964\n",
      "Epoch 91/200\n",
      "750/750 [==============================] - 0s 66us/step - loss: 0.1953\n",
      "Epoch 92/200\n",
      "750/750 [==============================] - 0s 67us/step - loss: 0.1968\n",
      "Epoch 93/200\n",
      "750/750 [==============================] - 0s 67us/step - loss: 0.1948\n",
      "Epoch 94/200\n",
      "750/750 [==============================] - 0s 67us/step - loss: 0.1931\n",
      "Epoch 95/200\n",
      "750/750 [==============================] - 0s 67us/step - loss: 0.1938\n",
      "Epoch 96/200\n",
      "750/750 [==============================] - 0s 65us/step - loss: 0.1928\n",
      "Epoch 97/200\n",
      "750/750 [==============================] - 0s 64us/step - loss: 0.1908\n",
      "Epoch 98/200\n",
      "750/750 [==============================] - 0s 67us/step - loss: 0.1928\n",
      "Epoch 99/200\n",
      "750/750 [==============================] - 0s 68us/step - loss: 0.1901\n",
      "Epoch 100/200\n",
      "750/750 [==============================] - 0s 66us/step - loss: 0.1893\n",
      "Epoch 101/200\n",
      "750/750 [==============================] - 0s 68us/step - loss: 0.1900\n",
      "Epoch 102/200\n",
      "750/750 [==============================] - 0s 67us/step - loss: 0.1889\n",
      "Epoch 103/200\n",
      "750/750 [==============================] - 0s 66us/step - loss: 0.1871\n",
      "Epoch 104/200\n",
      "750/750 [==============================] - 0s 68us/step - loss: 0.1873\n",
      "Epoch 105/200\n",
      "750/750 [==============================] - 0s 66us/step - loss: 0.1871\n",
      "Epoch 106/200\n",
      "750/750 [==============================] - 0s 68us/step - loss: 0.1851\n",
      "Epoch 107/200\n",
      "750/750 [==============================] - 0s 65us/step - loss: 0.1844\n",
      "Epoch 108/200\n",
      "750/750 [==============================] - 0s 69us/step - loss: 0.1843\n",
      "Epoch 109/200\n",
      "750/750 [==============================] - 0s 66us/step - loss: 0.1845\n",
      "Epoch 110/200\n",
      "750/750 [==============================] - 0s 67us/step - loss: 0.1830\n",
      "Epoch 111/200\n",
      "750/750 [==============================] - 0s 67us/step - loss: 0.1818\n",
      "Epoch 112/200\n",
      "750/750 [==============================] - 0s 69us/step - loss: 0.1829\n",
      "Epoch 113/200\n",
      "750/750 [==============================] - 0s 65us/step - loss: 0.1842\n",
      "Epoch 114/200\n",
      "750/750 [==============================] - 0s 69us/step - loss: 0.1799\n",
      "Epoch 115/200\n",
      "750/750 [==============================] - 0s 69us/step - loss: 0.1787\n",
      "Epoch 116/200\n",
      "750/750 [==============================] - 0s 66us/step - loss: 0.1784\n",
      "Epoch 117/200\n",
      "750/750 [==============================] - 0s 67us/step - loss: 0.1791\n",
      "Epoch 118/200\n",
      "750/750 [==============================] - 0s 68us/step - loss: 0.1784\n",
      "Epoch 119/200\n",
      "750/750 [==============================] - 0s 67us/step - loss: 0.1772\n",
      "Epoch 120/200\n",
      "750/750 [==============================] - 0s 67us/step - loss: 0.1761\n",
      "Epoch 121/200\n",
      "750/750 [==============================] - 0s 65us/step - loss: 0.1777\n",
      "Epoch 122/200\n",
      "750/750 [==============================] - 0s 68us/step - loss: 0.1747\n",
      "Epoch 123/200\n",
      "750/750 [==============================] - 0s 68us/step - loss: 0.1748\n",
      "Epoch 124/200\n",
      "750/750 [==============================] - 0s 67us/step - loss: 0.1729\n",
      "Epoch 125/200\n",
      "750/750 [==============================] - 0s 68us/step - loss: 0.1744\n",
      "Epoch 126/200\n",
      "750/750 [==============================] - 0s 67us/step - loss: 0.1721\n",
      "Epoch 127/200\n",
      "750/750 [==============================] - 0s 65us/step - loss: 0.1714\n",
      "Epoch 128/200\n",
      "750/750 [==============================] - 0s 65us/step - loss: 0.1716\n",
      "Epoch 129/200\n",
      "750/750 [==============================] - 0s 68us/step - loss: 0.1705\n",
      "Epoch 130/200\n",
      "750/750 [==============================] - 0s 65us/step - loss: 0.1704\n",
      "Epoch 131/200\n",
      "750/750 [==============================] - 0s 66us/step - loss: 0.1688\n",
      "Epoch 132/200\n",
      "750/750 [==============================] - 0s 68us/step - loss: 0.1685\n",
      "Epoch 133/200\n",
      "750/750 [==============================] - 0s 69us/step - loss: 0.1662\n",
      "Epoch 134/200\n",
      "750/750 [==============================] - 0s 69us/step - loss: 0.1659\n",
      "Epoch 135/200\n",
      "750/750 [==============================] - 0s 68us/step - loss: 0.1661\n",
      "Epoch 136/200\n",
      "750/750 [==============================] - 0s 68us/step - loss: 0.1656\n",
      "Epoch 137/200\n",
      "750/750 [==============================] - 0s 67us/step - loss: 0.1660\n",
      "Epoch 138/200\n",
      "750/750 [==============================] - 0s 65us/step - loss: 0.1655\n",
      "Epoch 139/200\n",
      "750/750 [==============================] - 0s 67us/step - loss: 0.1637\n",
      "Epoch 140/200\n",
      "750/750 [==============================] - 0s 64us/step - loss: 0.1629\n",
      "Epoch 141/200\n",
      "750/750 [==============================] - 0s 67us/step - loss: 0.1620\n",
      "Epoch 142/200\n",
      "750/750 [==============================] - 0s 66us/step - loss: 0.1612\n",
      "Epoch 143/200\n",
      "750/750 [==============================] - 0s 64us/step - loss: 0.1608\n",
      "Epoch 144/200\n",
      "750/750 [==============================] - 0s 66us/step - loss: 0.1597\n",
      "Epoch 145/200\n",
      "750/750 [==============================] - 0s 67us/step - loss: 0.1591\n",
      "Epoch 146/200\n",
      "750/750 [==============================] - 0s 69us/step - loss: 0.1582\n",
      "Epoch 147/200\n",
      "750/750 [==============================] - 0s 67us/step - loss: 0.1592\n",
      "Epoch 148/200\n",
      "750/750 [==============================] - 0s 66us/step - loss: 0.1577\n",
      "Epoch 149/200\n",
      "750/750 [==============================] - 0s 66us/step - loss: 0.1603\n",
      "Epoch 150/200\n",
      "750/750 [==============================] - 0s 68us/step - loss: 0.1564\n",
      "Epoch 151/200\n",
      "750/750 [==============================] - 0s 68us/step - loss: 0.1561\n",
      "Epoch 152/200\n",
      "750/750 [==============================] - 0s 66us/step - loss: 0.1547\n",
      "Epoch 153/200\n",
      "750/750 [==============================] - 0s 67us/step - loss: 0.1545\n",
      "Epoch 154/200\n",
      "750/750 [==============================] - 0s 68us/step - loss: 0.1536\n",
      "Epoch 155/200\n",
      "750/750 [==============================] - 0s 65us/step - loss: 0.1525\n",
      "Epoch 156/200\n",
      "750/750 [==============================] - 0s 68us/step - loss: 0.1516\n",
      "Epoch 157/200\n",
      "750/750 [==============================] - 0s 66us/step - loss: 0.1508\n",
      "Epoch 158/200\n",
      "750/750 [==============================] - 0s 69us/step - loss: 0.1524\n",
      "Epoch 159/200\n",
      "750/750 [==============================] - 0s 68us/step - loss: 0.1495\n",
      "Epoch 160/200\n",
      "750/750 [==============================] - 0s 68us/step - loss: 0.1487\n",
      "Epoch 161/200\n",
      "750/750 [==============================] - 0s 66us/step - loss: 0.1488\n",
      "Epoch 162/200\n",
      "750/750 [==============================] - 0s 69us/step - loss: 0.1494\n",
      "Epoch 163/200\n",
      "750/750 [==============================] - 0s 67us/step - loss: 0.1494\n",
      "Epoch 164/200\n",
      "750/750 [==============================] - 0s 67us/step - loss: 0.1478\n",
      "Epoch 165/200\n",
      "750/750 [==============================] - 0s 68us/step - loss: 0.1454\n",
      "Epoch 166/200\n",
      "750/750 [==============================] - 0s 68us/step - loss: 0.1460\n",
      "Epoch 167/200\n",
      "750/750 [==============================] - 0s 64us/step - loss: 0.1461\n",
      "Epoch 168/200\n",
      "750/750 [==============================] - 0s 67us/step - loss: 0.1439\n",
      "Epoch 169/200\n",
      "750/750 [==============================] - 0s 68us/step - loss: 0.1436\n",
      "Epoch 170/200\n",
      "750/750 [==============================] - 0s 65us/step - loss: 0.1427\n",
      "Epoch 171/200\n",
      "750/750 [==============================] - 0s 67us/step - loss: 0.1416\n",
      "Epoch 172/200\n",
      "750/750 [==============================] - 0s 67us/step - loss: 0.1428\n",
      "Epoch 173/200\n",
      "750/750 [==============================] - 0s 69us/step - loss: 0.1408\n",
      "Epoch 174/200\n",
      "750/750 [==============================] - 0s 66us/step - loss: 0.1391\n",
      "Epoch 175/200\n",
      "750/750 [==============================] - 0s 67us/step - loss: 0.1398\n",
      "Epoch 176/200\n",
      "750/750 [==============================] - 0s 68us/step - loss: 0.1384\n",
      "Epoch 177/200\n",
      "750/750 [==============================] - 0s 68us/step - loss: 0.1397\n",
      "Epoch 178/200\n",
      "750/750 [==============================] - 0s 67us/step - loss: 0.1376\n",
      "Epoch 179/200\n",
      "750/750 [==============================] - 0s 67us/step - loss: 0.1370\n",
      "Epoch 180/200\n",
      "750/750 [==============================] - 0s 65us/step - loss: 0.1373\n",
      "Epoch 181/200\n",
      "750/750 [==============================] - 0s 67us/step - loss: 0.1356\n",
      "Epoch 182/200\n",
      "750/750 [==============================] - 0s 67us/step - loss: 0.1360\n",
      "Epoch 183/200\n",
      "750/750 [==============================] - 0s 67us/step - loss: 0.1393\n",
      "Epoch 184/200\n",
      "750/750 [==============================] - 0s 66us/step - loss: 0.1340\n",
      "Epoch 185/200\n",
      "750/750 [==============================] - 0s 68us/step - loss: 0.1331\n",
      "Epoch 186/200\n",
      "750/750 [==============================] - 0s 67us/step - loss: 0.1329\n",
      "Epoch 187/200\n",
      "750/750 [==============================] - 0s 69us/step - loss: 0.1333\n",
      "Epoch 188/200\n",
      "750/750 [==============================] - 0s 65us/step - loss: 0.1323\n",
      "Epoch 189/200\n",
      "750/750 [==============================] - 0s 67us/step - loss: 0.1323\n",
      "Epoch 190/200\n",
      "750/750 [==============================] - 0s 68us/step - loss: 0.1305\n",
      "Epoch 191/200\n",
      "750/750 [==============================] - 0s 66us/step - loss: 0.1297\n",
      "Epoch 192/200\n",
      "750/750 [==============================] - 0s 67us/step - loss: 0.1292\n",
      "Epoch 193/200\n",
      "750/750 [==============================] - 0s 67us/step - loss: 0.1285\n",
      "Epoch 194/200\n",
      "750/750 [==============================] - 0s 69us/step - loss: 0.1273\n",
      "Epoch 195/200\n",
      "750/750 [==============================] - 0s 67us/step - loss: 0.1269\n",
      "Epoch 196/200\n",
      "750/750 [==============================] - 0s 68us/step - loss: 0.1265\n",
      "Epoch 197/200\n",
      "750/750 [==============================] - 0s 68us/step - loss: 0.1291\n",
      "Epoch 198/200\n",
      "750/750 [==============================] - 0s 72us/step - loss: 0.1256\n",
      "Epoch 199/200\n",
      "750/750 [==============================] - 0s 66us/step - loss: 0.1263\n",
      "Epoch 200/200\n",
      "750/750 [==============================] - 0s 66us/step - loss: 0.1263\n",
      "250/250 [==============================] - 0s 128us/step\n"
     ]
    },
    {
     "data": {
      "text/plain": [
       "0.12364446806907654"
      ]
     },
     "execution_count": 24,
     "metadata": {},
     "output_type": "execute_result"
    }
   ],
   "source": [
    "# Single hidden layer with 100 neurons\n",
    "inputs = Input(shape=(1,))\n",
    "x = Dense(100, activation='relu')(inputs)\n",
    "predictions = Dense(1, activation='linear')(x)\n",
    "\n",
    "model = Model(inputs=inputs, outputs=predictions)\n",
    "model.compile(optimizer='adam',\n",
    "              loss='mean_squared_error')\n",
    "model.fit(X_train,y_train,epochs=200)\n",
    "model.evaluate(x=X_test,y=y_test)"
   ]
  },
  {
   "cell_type": "markdown",
   "metadata": {},
   "source": [
    "We are going to run the model through different settings. The function contains everything we have coded previously:"
   ]
  },
  {
   "cell_type": "code",
   "execution_count": 12,
   "metadata": {},
   "outputs": [],
   "source": [
    "import time\n",
    "from keras.layers import Input, Dense\n",
    "from keras.models import Model\n",
    "import keras.backend\n",
    "\n",
    "def polyNN(data,\n",
    "           hidden_count=100,\n",
    "           epochs=200,\n",
    "           batch_size=32,\n",
    "           activation='relu'):\n",
    "    \n",
    "    #Record the start time\n",
    "    start = time.time()\n",
    "    \n",
    "    #Unpack the data\n",
    "    X_train, X_test, y_train, y_test = data\n",
    "    \n",
    "    #Layers\n",
    "    inputs = Input(shape=(X_train.shape[1],))\n",
    "    x = Dense(hidden_count, activation=activation)(inputs)\n",
    "    predictions = Dense(1, activation='linear')(x)\n",
    "\n",
    "    #Model\n",
    "    model = Model(inputs=inputs, outputs=predictions)\n",
    "    model.compile(optimizer='adam',\n",
    "                  loss='mean_squared_error')\n",
    "    model.fit(X_train,y_train,epochs=epochs,batch_size=batch_size,verbose=0) #Do not display progress\n",
    "    \n",
    "    #Collect and display info\n",
    "    param_count = model.count_params()\n",
    "    loss_tr = round(model.evaluate(x=X_train,y=y_train,batch_size=batch_size,verbose=0),4)\n",
    "    loss_te = round(model.evaluate(x=X_test,y=y_test,batch_size=batch_size,verbose=0),4)\n",
    "    elapsed = round(time.time() - start,2)    \n",
    "    print(\"Hidden count:\",str(hidden_count).ljust(5),\n",
    "          \"Parameters:\",str(param_count).ljust(6),\n",
    "          \"loss (train,test):\",str(loss_tr).ljust(7),str(loss_te).ljust(7),\n",
    "          \"Time:\",str(elapsed)+\"s\",\n",
    "         )\n",
    "    \n",
    "    keras.backend.clear_session()"
   ]
  },
  {
   "cell_type": "markdown",
   "metadata": {},
   "source": [
    "`clear_session()` is called at the end of the function to clear existing models from memory. This is important if you are working with multiple models&mdash;for example, when you run through different sets of hyperparameters&mdash;to avoid running out of memory.\n",
    "\n",
    "Now we can easily try out different settings:"
   ]
  },
  {
   "cell_type": "code",
   "execution_count": 13,
   "metadata": {},
   "outputs": [
    {
     "name": "stdout",
     "output_type": "stream",
     "text": [
      "Hidden count: 1     Parameters: 4      loss (train,test): 0.538   0.559   Time: 10.24s\n",
      "Hidden count: 10    Parameters: 31     loss (train,test): 0.384   0.4088  Time: 10.44s\n",
      "Hidden count: 50    Parameters: 151    loss (train,test): 0.2109  0.2321  Time: 10.34s\n",
      "Hidden count: 100   Parameters: 301    loss (train,test): 0.2195  0.2411  Time: 10.28s\n",
      "Hidden count: 500   Parameters: 1501   loss (train,test): 0.179   0.1994  Time: 10.63s\n"
     ]
    }
   ],
   "source": [
    "data = train_test_split(X,y)\n",
    "\n",
    "polyNN(data,hidden_count=1)\n",
    "polyNN(data,hidden_count=10)\n",
    "polyNN(data,hidden_count=50)\n",
    "polyNN(data,hidden_count=100)\n",
    "polyNN(data,hidden_count=500)"
   ]
  },
  {
   "cell_type": "markdown",
   "metadata": {},
   "source": [
    "Here we see the universal approximation theory in work: the more neurons we have the better the fit.\n",
    "\n",
    "One trick that can often improve performance: *standardizing* data."
   ]
  },
  {
   "cell_type": "code",
   "execution_count": 14,
   "metadata": {},
   "outputs": [
    {
     "name": "stdout",
     "output_type": "stream",
     "text": [
      "Hidden count: 1     Parameters: 4      loss (train,test): 19.0162 16.6388 Time: 10.3s\n",
      "Hidden count: 10    Parameters: 31     loss (train,test): 0.0116  0.0108  Time: 10.26s\n",
      "Hidden count: 50    Parameters: 151    loss (train,test): 0.0023  0.0018  Time: 10.3s\n",
      "Hidden count: 100   Parameters: 301    loss (train,test): 0.0003  0.0002  Time: 10.38s\n",
      "Hidden count: 500   Parameters: 1501   loss (train,test): 0.0001  0.0     Time: 10.85s\n"
     ]
    }
   ],
   "source": [
    "from sklearn import preprocessing\n",
    "scalar = preprocessing.StandardScaler().fit(X)\n",
    "X_std = scalar.transform(X)\n",
    "\n",
    "data_std = train_test_split(X_std,y)\n",
    "\n",
    "polyNN(data_std,hidden_count=1)\n",
    "polyNN(data_std,hidden_count=10)\n",
    "polyNN(data_std,hidden_count=50)\n",
    "polyNN(data_std,hidden_count=100)\n",
    "polyNN(data_std,hidden_count=500)"
   ]
  },
  {
   "cell_type": "markdown",
   "metadata": {},
   "source": [
    "While `StandardScaler` works quite well when there is only a single feature, its sensitivity to outliers makes it unsuitable for situations with mulitple highly unbalanced features. Scikit-learn offers <a href=\"https://scikit-learn.org/stable/auto_examples/preprocessing/plot_all_scaling.html#sphx-glr-auto-examples-preprocessing-plot-all-scaling-py\">other scalers</a> such as `RobustScaler` that might work better in those cases. \n"
   ]
  },
  {
   "cell_type": "markdown",
   "metadata": {},
   "source": [
    "Now let us run everything again with logistic activation:"
   ]
  },
  {
   "cell_type": "code",
   "execution_count": 15,
   "metadata": {},
   "outputs": [
    {
     "name": "stdout",
     "output_type": "stream",
     "text": [
      "Hidden count: 1     Parameters: 4      loss (train,test): 9.9855  10.123  Time: 10.2s\n",
      "Hidden count: 10    Parameters: 31     loss (train,test): 0.3448  0.3164  Time: 10.22s\n",
      "Hidden count: 50    Parameters: 151    loss (train,test): 0.1049  0.0988  Time: 10.41s\n",
      "Hidden count: 100   Parameters: 301    loss (train,test): 0.1285  0.1224  Time: 10.23s\n",
      "Hidden count: 500   Parameters: 1501   loss (train,test): 0.1614  0.1543  Time: 10.47s\n"
     ]
    }
   ],
   "source": [
    "polyNN(data,hidden_count=1,activation='sigmoid')\n",
    "polyNN(data,hidden_count=10,activation='sigmoid')\n",
    "polyNN(data,hidden_count=50,activation='sigmoid')\n",
    "polyNN(data,hidden_count=100,activation='sigmoid')\n",
    "polyNN(data,hidden_count=500,activation='sigmoid')"
   ]
  },
  {
   "cell_type": "code",
   "execution_count": 16,
   "metadata": {},
   "outputs": [
    {
     "name": "stdout",
     "output_type": "stream",
     "text": [
      "Hidden count: 1     Parameters: 4      loss (train,test): 7.0556  6.1302  Time: 10.22s\n",
      "Hidden count: 10    Parameters: 31     loss (train,test): 0.1503  0.1399  Time: 10.23s\n",
      "Hidden count: 50    Parameters: 151    loss (train,test): 0.0203  0.0197  Time: 10.28s\n",
      "Hidden count: 100   Parameters: 301    loss (train,test): 0.0108  0.0101  Time: 10.28s\n",
      "Hidden count: 500   Parameters: 1501   loss (train,test): 0.0155  0.0143  Time: 10.72s\n"
     ]
    }
   ],
   "source": [
    "polyNN(data_std,hidden_count=1,activation='sigmoid')\n",
    "polyNN(data_std,hidden_count=10,activation='sigmoid')\n",
    "polyNN(data_std,hidden_count=50,activation='sigmoid')\n",
    "polyNN(data_std,hidden_count=100,activation='sigmoid')\n",
    "polyNN(data_std,hidden_count=500,activation='sigmoid')"
   ]
  },
  {
   "cell_type": "markdown",
   "metadata": {},
   "source": [
    "Did you notice how the logistic activation function actually performed better than ReLU when the data is not standardized? What we are seeing here is that ReLU is much more sensitive to data standardization than the logistic function. This is a good example why so much research goes into optimizing the modelling process&mdash;because every details matters.\n",
    "\n",
    "<!--Further reading: <a href=\"https://towardsdatascience.com/weight-initialization-in-neural-networks-a-journey-from-the-basics-to-kaiming-954fb9b47c79\">Weight Initialization in Neural Networks: A Journey From the Basics to Kaiming</a>. These articles also contain links to the most important research papers when\n",
    "http://deepdish.io/2015/02/24/network-initialization/\n",
    "-->"
   ]
  },
  {
   "cell_type": "markdown",
   "metadata": {},
   "source": [
    "### Dropout\n",
    "\n",
    "As neural networks are highly flexible, they can easily overfit. Dropout is a regularization technique that works by randomly setting the outputs of some neurons to zero, thereby forcing the network to not rely too much on a specific neurons or feature. The function below added a 50% dropout to the hidden layer:"
   ]
  },
  {
   "cell_type": "code",
   "execution_count": 46,
   "metadata": {},
   "outputs": [],
   "source": [
    "from keras.layers import Dropout\n",
    "\n",
    "def polyNN(data,\n",
    "           hidden_count=100,\n",
    "           epochs=200,\n",
    "           batch_size=32,\n",
    "           activation='relu',\n",
    "           dropout=0.5):\n",
    "    \n",
    "    #Record the start time\n",
    "    start = time.time()\n",
    "    \n",
    "    #Unpack the data\n",
    "    X_train, X_test, y_train, y_test = data\n",
    "    \n",
    "    #Layers\n",
    "    inputs = Input(shape=(X_train.shape[1],))\n",
    "    x = Dense(hidden_count, activation=activation)(inputs)\n",
    "    x = Dropout(dropout)(x)\n",
    "    predictions = Dense(1, activation='linear')(x)\n",
    "\n",
    "    #Model\n",
    "    model = Model(inputs=inputs, outputs=predictions)\n",
    "    model.compile(optimizer='adam',\n",
    "                  loss='mean_squared_error')\n",
    "    model.fit(X_train,y_train,epochs=epochs,batch_size=batch_size,verbose=0) #Do not display progress\n",
    "    \n",
    "    #Collect and display info\n",
    "    param_count = model.count_params()\n",
    "    loss_tr = round(model.evaluate(x=X_train,y=y_train,batch_size=batch_size,verbose=0),4)\n",
    "    loss_te = round(model.evaluate(x=X_test,y=y_test,batch_size=batch_size,verbose=0),4)\n",
    "    elapsed = round(time.time() - start,2)    \n",
    "    print(\"Hidden count:\",str(hidden_count).ljust(5),\n",
    "          \"Parameters:\",str(param_count).ljust(6),\n",
    "          \"loss (train,test):\",str(loss_tr).ljust(7),str(loss_te).ljust(7),\n",
    "          \"Time:\",str(elapsed)+\"s\",\n",
    "         )\n",
    "    \n",
    "    keras.backend.clear_session()"
   ]
  },
  {
   "cell_type": "code",
   "execution_count": 47,
   "metadata": {},
   "outputs": [
    {
     "name": "stdout",
     "output_type": "stream",
     "text": [
      "Hidden count: 1     Parameters: 4        loss: 11.13465   Time: 12.23s\n",
      "Hidden count: 10    Parameters: 31       loss: 0.78444    Time: 11.23s\n",
      "Hidden count: 50    Parameters: 151      loss: 0.14042    Time: 11.66s\n",
      "Hidden count: 100   Parameters: 301      loss: 0.06533    Time: 11.66s\n",
      "Hidden count: 500   Parameters: 1501     loss: 0.03915    Time: 13.97s\n"
     ]
    }
   ],
   "source": [
    "polyNN(data_std,hidden_count=1,activation='sigmoid')\n",
    "polyNN(data_std,hidden_count=10,activation='sigmoid')\n",
    "polyNN(data_std,hidden_count=50,activation='sigmoid')\n",
    "polyNN(data_std,hidden_count=100,activation='sigmoid')\n",
    "polyNN(data_std,hidden_count=500,activation='sigmoid')"
   ]
  },
  {
   "cell_type": "markdown",
   "metadata": {},
   "source": [
    "## Speed Things Up\n",
    "\n",
    "Due to its complexity, neural network trains a lot slower than the other techniques we have covered previously. To speed up training, we can ask Keras to go through more samples before updating the model's parameters by specifying a larger ```batch_size```. Doing so allows Keras to make better use of the CPU's parallel processing capabitilies.\n",
    "\n",
    "Keras' default batch size is 32. We will try 128 instead:"
   ]
  },
  {
   "cell_type": "code",
   "execution_count": 34,
   "metadata": {
    "scrolled": true
   },
   "outputs": [
    {
     "name": "stdout",
     "output_type": "stream",
     "text": [
      "Hidden count: 1     Parameters: 4        loss: 13.38211   Time: 3.06s\n",
      "Hidden count: 10    Parameters: 31       loss: 0.24119    Time: 3.07s\n",
      "Hidden count: 50    Parameters: 151      loss: 0.08507    Time: 3.08s\n",
      "Hidden count: 100   Parameters: 301      loss: 0.0162     Time: 2.92s\n",
      "Hidden count: 500   Parameters: 1501     loss: 0.0025     Time: 3.82s\n"
     ]
    }
   ],
   "source": [
    "batch_size = 128\n",
    "polyNN(data_std,hidden_count=1,batch_size=batch_size)\n",
    "polyNN(data_std,hidden_count=10,batch_size=batch_size)\n",
    "polyNN(data_std,hidden_count=50,batch_size=batch_size)\n",
    "polyNN(data_std,hidden_count=100,batch_size=batch_size)\n",
    "polyNN(data_std,hidden_count=500,batch_size=batch_size)"
   ]
  },
  {
   "cell_type": "markdown",
   "metadata": {},
   "source": [
    "Holding the number of epochs constant, what you should see with a larger batch size is faster training but also larger error. The latter is due to the fact that we are updating the parameters less often, resulting in slower learn. This can be countered by increasing the number of epochs."
   ]
  },
  {
   "cell_type": "markdown",
   "metadata": {},
   "source": [
    "## Running Model on GPU\n",
    "\n",
    "If you have a GPU in your computer, you can now turn it on to see how much it speeds up the process of training."
   ]
  },
  {
   "cell_type": "code",
   "execution_count": 12,
   "metadata": {},
   "outputs": [],
   "source": [
    "import os\n",
    "os.environ[\"CUDA_VISIBLE_DEVICES\"] = \"0\""
   ]
  },
  {
   "cell_type": "code",
   "execution_count": null,
   "metadata": {},
   "outputs": [],
   "source": [
    "polyNN(data,hidden_count=1)"
   ]
  },
  {
   "cell_type": "markdown",
   "metadata": {},
   "source": [
    "With a GPU you can take advantage of its high number of core count by setting a much higher batch size, such as 1000:"
   ]
  },
  {
   "cell_type": "code",
   "execution_count": null,
   "metadata": {},
   "outputs": [],
   "source": [
    "batch_size = 1000\n",
    "polyNN(data,hidden_count=1,batch_size=batch_size)\n",
    "polyNN(data,hidden_count=10,batch_size=batch_size)\n",
    "polyNN(data,hidden_count=50,batch_size=batch_size)\n",
    "polyNN(data,hidden_count=100,batch_size=batch_size)\n",
    "polyNN(data,hidden_count=500,batch_size=batch_size)"
   ]
  },
  {
   "cell_type": "markdown",
   "metadata": {},
   "source": [
    "To compensate for the less frequent update, we can increase the number of epochs:"
   ]
  },
  {
   "cell_type": "code",
   "execution_count": null,
   "metadata": {},
   "outputs": [],
   "source": [
    "batch_size = 1000\n",
    "epochs = 600\n",
    "polyNN(data,hidden_count=1,epochs=epochs,batch_size=batch_size)\n",
    "polyNN(data,hidden_count=10,epochs=epochs,batch_size=batch_size)\n",
    "polyNN(data,hidden_count=50,epochs=epochs,batch_size=batch_size)\n",
    "polyNN(data,hidden_count=100,epochs=epochs,batch_size=batch_size)\n",
    "polyNN(data,hidden_count=500,epochs=epochs,batch_size=batch_size)"
   ]
  },
  {
   "cell_type": "markdown",
   "metadata": {},
   "source": [
    "## Deep Learning\n",
    "\n",
    "*Deep learning* is the stacking of multiple layers of neurons. Holding the number of parameters constant, this often performs better than having only a single hidden layer."
   ]
  },
  {
   "cell_type": "code",
   "execution_count": 35,
   "metadata": {},
   "outputs": [],
   "source": [
    "def polyDNN(data,\n",
    "            hidden_count=100,\n",
    "            epochs=200,\n",
    "            batch_size=1000,\n",
    "            layers=1,\n",
    "            activation='relu'\n",
    "           ):\n",
    "        \n",
    "    start = time.time()    \n",
    "\n",
    "    X_train, X_test, y_train, y_test = data\n",
    "    \n",
    "    #Layers\n",
    "    inputs = Input(shape=(X_train.shape[1],))\n",
    "    x = Dense(hidden_count, activation=activation)(inputs)\n",
    "    for _ in range(1,layers):\n",
    "        x = Dense(hidden_count, activation=activation)(x)    \n",
    "    predictions = Dense(1, activation='linear')(x)\n",
    "\n",
    "    #Model\n",
    "    model = Model(inputs=inputs, outputs=predictions)\n",
    "    model.compile(optimizer='adam',\n",
    "                  loss='mean_squared_error')\n",
    "    model.fit(X_train,y_train,epochs=epochs,batch_size=batch_size,verbose=0) \n",
    "    \n",
    "    #Collect and display info\n",
    "    param_count = model.count_params()\n",
    "    loss = round(model.evaluate(x=X_test,y=y_test,batch_size=batch_size,verbose=0),5)\n",
    "    elapsed = round(time.time() - start,2)    \n",
    "    print(\"Hidden count:\",str(hidden_count).ljust(5),\n",
    "          \"Parameters:\",str(param_count).ljust(8),\n",
    "          \"loss:\",str(loss).ljust(10),\n",
    "          \"Time:\",str(elapsed)+\"s\",\n",
    "         )"
   ]
  },
  {
   "cell_type": "markdown",
   "metadata": {},
   "source": [
    "Let us run the model through various settings. I have chosen the neuron count such that the number of parameters is roughly the same as in the single-layer case."
   ]
  },
  {
   "cell_type": "code",
   "execution_count": 36,
   "metadata": {},
   "outputs": [
    {
     "name": "stdout",
     "output_type": "stream",
     "text": [
      "Hidden count: 1     Parameters: 6        loss: 17.85002   Time: 1.26s\n",
      "Hidden count: 10    Parameters: 141      loss: 18.73769   Time: 1.23s\n",
      "Hidden count: 15    Parameters: 286      loss: 6.55141    Time: 1.37s\n",
      "Hidden count: 36    Parameters: 1441     loss: 0.13383    Time: 1.56s\n"
     ]
    }
   ],
   "source": [
    "polyDNN(data_std,hidden_count=1,layers=2)\n",
    "polyDNN(data_std,hidden_count=10,layers=2)\n",
    "polyDNN(data_std,hidden_count=15,layers=2)\n",
    "polyDNN(data_std,hidden_count=36,layers=2)"
   ]
  },
  {
   "cell_type": "code",
   "execution_count": 37,
   "metadata": {
    "scrolled": true
   },
   "outputs": [
    {
     "name": "stdout",
     "output_type": "stream",
     "text": [
      "Hidden count: 1     Parameters: 6        loss: 18.26953   Time: 3.09s\n",
      "Hidden count: 10    Parameters: 141      loss: 2.85986    Time: 3.11s\n",
      "Hidden count: 15    Parameters: 286      loss: 1.03628    Time: 3.14s\n",
      "Hidden count: 36    Parameters: 1441     loss: 0.02806    Time: 3.95s\n"
     ]
    }
   ],
   "source": [
    "epochs=800\n",
    "polyDNN(data,hidden_count=1,layers=2,epochs=epochs)\n",
    "polyDNN(data,hidden_count=10,layers=2,epochs=epochs)\n",
    "polyDNN(data,hidden_count=15,layers=2,epochs=epochs)\n",
    "polyDNN(data,hidden_count=36,layers=2,epochs=epochs)"
   ]
  },
  {
   "cell_type": "markdown",
   "metadata": {},
   "source": [
    "### MNIST\n",
    "MNIST is a dataset of 70000 handwritten digits. It is often used to teach image recognition due to its simplicity. "
   ]
  },
  {
   "cell_type": "code",
   "execution_count": 2,
   "metadata": {},
   "outputs": [],
   "source": [
    "import keras\n",
    "from keras.datasets import mnist\n",
    "\n",
    "# the data, split between train and test sets\n",
    "(x_train, y_train), (x_test, y_test) = mnist.load_data()"
   ]
  },
  {
   "cell_type": "markdown",
   "metadata": {},
   "source": [
    "Each sample consists of a 28x28 monochome image of a handwritten digit stored as a 2D numpy array:"
   ]
  },
  {
   "cell_type": "code",
   "execution_count": 3,
   "metadata": {},
   "outputs": [
    {
     "data": {
      "image/png": "[encoded data removed]",
      "text/plain": [
       "<Figure size 432x288 with 1 Axes>"
      ]
     },
     "metadata": {
      "needs_background": "light"
     },
     "output_type": "display_data"
    }
   ],
   "source": [
    "from matplotlib import pyplot as plt\n",
    "plt.imshow(x_train[0], cmap='gray')\n",
    "plt.show()"
   ]
  },
  {
   "cell_type": "markdown",
   "metadata": {},
   "source": [
    "Target is digit's value:"
   ]
  },
  {
   "cell_type": "code",
   "execution_count": 43,
   "metadata": {
    "scrolled": true
   },
   "outputs": [
    {
     "data": {
      "text/plain": [
       "5"
      ]
     },
     "execution_count": 43,
     "metadata": {},
     "output_type": "execute_result"
    }
   ],
   "source": [
    "y_train[0]"
   ]
  },
  {
   "cell_type": "markdown",
   "metadata": {},
   "source": [
    "For classification task, the common practice is to have one output neuron per class. We can use `keras.utils.to_categorical()` to convert the target value to a dummy vector:"
   ]
  },
  {
   "cell_type": "code",
   "execution_count": 44,
   "metadata": {},
   "outputs": [
    {
     "data": {
      "text/plain": [
       "array([0., 0., 0., 0., 0., 1., 0., 0., 0., 0.], dtype=float32)"
      ]
     },
     "execution_count": 44,
     "metadata": {},
     "output_type": "execute_result"
    }
   ],
   "source": [
    "y_train = keras.utils.to_categorical(y_train, num_classes)\n",
    "y_train[0]"
   ]
  },
  {
   "cell_type": "markdown",
   "metadata": {},
   "source": [
    "We will use a single-layer fully-connected network withe 100 hidden neurons. There are two more preprocessing tasks that we need to handle: flattening the 2D array into 1D and normalizing the features from 0-255 to 0-1:"
   ]
  },
  {
   "cell_type": "code",
   "execution_count": 19,
   "metadata": {},
   "outputs": [
    {
     "name": "stdout",
     "output_type": "stream",
     "text": [
      "Epoch 1/30\n",
      "60000/60000 [==============================] - 2s 41us/step - loss: 0.3767 - acc: 0.8981\n",
      "Epoch 2/30\n",
      "60000/60000 [==============================] - 2s 40us/step - loss: 0.1791 - acc: 0.9486\n",
      "Epoch 3/30\n",
      "60000/60000 [==============================] - 2s 40us/step - loss: 0.1319 - acc: 0.9624\n",
      "Epoch 4/30\n",
      "60000/60000 [==============================] - 2s 40us/step - loss: 0.1035 - acc: 0.9699\n",
      "Epoch 5/30\n",
      "60000/60000 [==============================] - 2s 40us/step - loss: 0.0853 - acc: 0.9755\n",
      "Epoch 6/30\n",
      "60000/60000 [==============================] - 2s 40us/step - loss: 0.0713 - acc: 0.9793\n",
      "Epoch 7/30\n",
      "60000/60000 [==============================] - 2s 40us/step - loss: 0.0614 - acc: 0.9824\n",
      "Epoch 8/30\n",
      "60000/60000 [==============================] - 2s 41us/step - loss: 0.0522 - acc: 0.9854\n",
      "Epoch 9/30\n",
      "60000/60000 [==============================] - 2s 41us/step - loss: 0.0455 - acc: 0.9871\n",
      "Epoch 10/30\n",
      "60000/60000 [==============================] - 2s 40us/step - loss: 0.0398 - acc: 0.9888\n",
      "Epoch 11/30\n",
      "60000/60000 [==============================] - 2s 40us/step - loss: 0.0341 - acc: 0.9905\n",
      "Epoch 12/30\n",
      "60000/60000 [==============================] - 2s 40us/step - loss: 0.0294 - acc: 0.9922\n",
      "Epoch 13/30\n",
      "60000/60000 [==============================] - 2s 40us/step - loss: 0.0258 - acc: 0.9932\n",
      "Epoch 14/30\n",
      "60000/60000 [==============================] - 2s 40us/step - loss: 0.0228 - acc: 0.9940\n",
      "Epoch 15/30\n",
      "60000/60000 [==============================] - 2s 40us/step - loss: 0.0197 - acc: 0.9953\n",
      "Epoch 16/30\n",
      "60000/60000 [==============================] - 2s 40us/step - loss: 0.0170 - acc: 0.9960\n",
      "Epoch 17/30\n",
      "60000/60000 [==============================] - 2s 40us/step - loss: 0.0153 - acc: 0.9965\n",
      "Epoch 18/30\n",
      "60000/60000 [==============================] - 2s 40us/step - loss: 0.0127 - acc: 0.9974\n",
      "Epoch 19/30\n",
      "60000/60000 [==============================] - 2s 40us/step - loss: 0.0107 - acc: 0.9979\n",
      "Epoch 20/30\n",
      "60000/60000 [==============================] - 2s 40us/step - loss: 0.0092 - acc: 0.9984\n",
      "Epoch 21/30\n",
      "60000/60000 [==============================] - 2s 40us/step - loss: 0.0089 - acc: 0.9983\n",
      "Epoch 22/30\n",
      "60000/60000 [==============================] - 2s 40us/step - loss: 0.0085 - acc: 0.9984\n",
      "Epoch 23/30\n",
      "60000/60000 [==============================] - 2s 40us/step - loss: 0.0074 - acc: 0.9986\n",
      "Epoch 24/30\n",
      "60000/60000 [==============================] - 2s 40us/step - loss: 0.0055 - acc: 0.9993\n",
      "Epoch 25/30\n",
      "60000/60000 [==============================] - 2s 40us/step - loss: 0.0044 - acc: 0.9996\n",
      "Epoch 26/30\n",
      "60000/60000 [==============================] - 2s 40us/step - loss: 0.0066 - acc: 0.9983\n",
      "Epoch 27/30\n",
      "60000/60000 [==============================] - 2s 40us/step - loss: 0.0051 - acc: 0.9991\n",
      "Epoch 28/30\n",
      "60000/60000 [==============================] - 2s 40us/step - loss: 0.0034 - acc: 0.9996\n",
      "Epoch 29/30\n",
      "60000/60000 [==============================] - 2s 40us/step - loss: 0.0035 - acc: 0.9995\n",
      "Epoch 30/30\n",
      "60000/60000 [==============================] - 2s 40us/step - loss: 0.0036 - acc: 0.9995\n",
      "10000/10000 [==============================] - 1s 54us/step\n"
     ]
    },
    {
     "data": {
      "text/plain": [
       "[0.09289859735903483, 0.9784]"
      ]
     },
     "execution_count": 19,
     "metadata": {},
     "output_type": "execute_result"
    }
   ],
   "source": [
    "# Settings\n",
    "batch_size = 128\n",
    "epochs = 30\n",
    "pixel_count = 28 * 28\n",
    "num_classes = 10 # target classes (0-9)\n",
    "\n",
    "# The data, split between train and test sets\n",
    "(x_train, y_train), (x_test, y_test) = mnist.load_data()\n",
    "\n",
    "# Flatten each image to a vector\n",
    "x_train = x_train.reshape(len(x_train),pixel_count)\n",
    "x_test = x_test.reshape(len(x_test),pixel_count)\n",
    "\n",
    "# Normalize features\n",
    "x_train = x_train.astype('float32') / 255\n",
    "x_test = x_test.astype('float32') / 255\n",
    "\n",
    "# convert class vectors to binary class matrices\n",
    "y_train = keras.utils.to_categorical(y_train, num_classes)\n",
    "y_test = keras.utils.to_categorical(y_test, num_classes)\n",
    "\n",
    "# Model\n",
    "inputs = Input(shape=(pixel_count,))\n",
    "x = Dense(100, activation='relu')(inputs)\n",
    "predictions = Dense(num_classes, activation='softmax')(x)\n",
    "\n",
    "model = Model(inputs=inputs, outputs=predictions)\n",
    "model.compile(optimizer='adam',\n",
    "              loss='categorical_crossentropy',\n",
    "              metrics=['accuracy'])\n",
    "\n",
    "# Train and evaluate\n",
    "model.fit(x_train,y_train,\n",
    "          batch_size=batch_size,\n",
    "          epochs=epochs)\n",
    "model.evaluate(x_test,y_test)"
   ]
  },
  {
   "cell_type": "markdown",
   "metadata": {},
   "source": [
    "With just 100 neurons we are able to achieve a 97% accuracy. With a more advanced convolutional network we should be able to do even better:"
   ]
  },
  {
   "cell_type": "code",
   "execution_count": 25,
   "metadata": {},
   "outputs": [
    {
     "name": "stdout",
     "output_type": "stream",
     "text": [
      "Train on 60000 samples, validate on 10000 samples\n",
      "Epoch 1/15\n",
      "60000/60000 [==============================] - 18s 307us/step - loss: 0.3405 - acc: 0.8981 - val_loss: 0.0991 - val_acc: 0.9669\n",
      "Epoch 2/15\n",
      "60000/60000 [==============================] - 18s 300us/step - loss: 0.1464 - acc: 0.9557 - val_loss: 0.0658 - val_acc: 0.9772\n",
      "Epoch 3/15\n",
      "60000/60000 [==============================] - 18s 300us/step - loss: 0.1118 - acc: 0.9661 - val_loss: 0.0629 - val_acc: 0.9800\n",
      "Epoch 4/15\n",
      "60000/60000 [==============================] - 18s 300us/step - loss: 0.0967 - acc: 0.9709 - val_loss: 0.0460 - val_acc: 0.9851\n",
      "Epoch 5/15\n",
      "60000/60000 [==============================] - 18s 300us/step - loss: 0.0854 - acc: 0.9733 - val_loss: 0.0448 - val_acc: 0.9856\n",
      "Epoch 6/15\n",
      "60000/60000 [==============================] - 18s 301us/step - loss: 0.0747 - acc: 0.9774 - val_loss: 0.0410 - val_acc: 0.9863\n",
      "Epoch 7/15\n",
      "60000/60000 [==============================] - 18s 301us/step - loss: 0.0680 - acc: 0.9793 - val_loss: 0.0390 - val_acc: 0.9878\n",
      "Epoch 8/15\n",
      "60000/60000 [==============================] - 18s 302us/step - loss: 0.0615 - acc: 0.9819 - val_loss: 0.0334 - val_acc: 0.9881\n",
      "Epoch 9/15\n",
      "60000/60000 [==============================] - 18s 301us/step - loss: 0.0592 - acc: 0.9819 - val_loss: 0.0338 - val_acc: 0.9899\n",
      "Epoch 10/15\n",
      "60000/60000 [==============================] - 18s 300us/step - loss: 0.0534 - acc: 0.9837 - val_loss: 0.0316 - val_acc: 0.9897\n",
      "Epoch 11/15\n",
      "60000/60000 [==============================] - 18s 300us/step - loss: 0.0519 - acc: 0.9843 - val_loss: 0.0340 - val_acc: 0.9898\n",
      "Epoch 12/15\n",
      "60000/60000 [==============================] - 18s 301us/step - loss: 0.0487 - acc: 0.9853 - val_loss: 0.0305 - val_acc: 0.9905\n",
      "Epoch 13/15\n",
      "60000/60000 [==============================] - 18s 300us/step - loss: 0.0448 - acc: 0.9861 - val_loss: 0.0334 - val_acc: 0.9894\n",
      "Epoch 14/15\n",
      "60000/60000 [==============================] - 18s 300us/step - loss: 0.0407 - acc: 0.9875 - val_loss: 0.0319 - val_acc: 0.9901\n",
      "Epoch 15/15\n",
      "60000/60000 [==============================] - 18s 301us/step - loss: 0.0412 - acc: 0.9872 - val_loss: 0.0310 - val_acc: 0.9903\n",
      "Test loss: 0.030980116269399876\n",
      "Test accuracy: 0.9903\n"
     ]
    }
   ],
   "source": [
    "import keras\n",
    "from keras.datasets import mnist\n",
    "from keras.models import Sequential\n",
    "from keras.layers import Dense, Dropout, Flatten\n",
    "from keras.layers import Conv2D, MaxPooling2D\n",
    "from keras import backend as K\n",
    "\n",
    "#Settings\n",
    "batch_size = 128\n",
    "num_classes = 10\n",
    "epochs = 15\n",
    "\n",
    "# input image dimensions\n",
    "img_rows, img_cols = 28, 28\n",
    "\n",
    "# The data, split between train and test sets\n",
    "(x_train, y_train), (x_test, y_test) = mnist.load_data()\n",
    "\n",
    "# Features has to be in the following shape: (obs, rows, cols, color channels)\n",
    "x_train = x_train.reshape(x_train.shape[0], img_rows, img_cols, 1)\n",
    "x_test = x_test.reshape(x_test.shape[0], img_rows, img_cols, 1)\n",
    "input_shape = (img_rows, img_cols, 1)\n",
    "\n",
    "# Normalize features\n",
    "x_train = x_train.astype('float32') / 255\n",
    "x_test = x_test.astype('float32') / 255\n",
    "\n",
    "# Convert class vectors to binary class matrices\n",
    "y_train = keras.utils.to_categorical(y_train, num_classes)\n",
    "y_test = keras.utils.to_categorical(y_test, num_classes)\n",
    "\n",
    "# Construct model using sequential syntax\n",
    "model = Sequential()\n",
    "model.add(Conv2D(6, kernel_size=(5, 5),\n",
    "                 activation='tanh',\n",
    "                 input_shape=input_shape))\n",
    "model.add(MaxPooling2D(pool_size=(2, 2)))\n",
    "model.add(Conv2D(16, (5, 5), activation='tanh'))\n",
    "model.add(MaxPooling2D(pool_size=(2, 2)))\n",
    "model.add(Dropout(0.25))\n",
    "model.add(Flatten())\n",
    "\n",
    "model.add(Dense(120, activation='tanh'))\n",
    "model.add(Dense(100, activation='tanh'))\n",
    "model.add(Dropout(0.5))\n",
    "model.add(Dense(num_classes, activation='softmax'))\n",
    "\n",
    "model.compile(loss=keras.losses.categorical_crossentropy,\n",
    "              optimizer=keras.optimizers.Adadelta(),\n",
    "              metrics=['accuracy'])\n",
    "\n",
    "model.fit(x_train, y_train,\n",
    "          batch_size=batch_size,\n",
    "          epochs=epochs,\n",
    "          verbose=1,\n",
    "          validation_data=(x_test, y_test))\n",
    "score = model.evaluate(x_test, y_test, verbose=0)\n",
    "print('Test loss:', score[0])\n",
    "print('Test accuracy:', score[1])"
   ]
  },
  {
   "cell_type": "markdown",
   "metadata": {},
   "source": [
    "Here is a very nice 3D visualization of what is going on inside a trained CNN: https://www.cs.ryerson.ca/~aharley/vis/conv/.\n",
    "I have set up the model above to resemble the one in the visualization. There are many hyperparameters that you can try adjusting to improve its performance&mdash;the number of layers, the number of filters, the size of the kernel, the type of activation and dropout ratio, etc."
   ]
  }
 ],
 "metadata": {
  "kernelspec": {
   "display_name": "Python 3",
   "language": "python",
   "name": "python3"
  },
  "language_info": {
   "codemirror_mode": {
    "name": "ipython",
    "version": 3
   },
   "file_extension": ".py",
   "mimetype": "text/x-python",
   "name": "python",
   "nbconvert_exporter": "python",
   "pygments_lexer": "ipython3",
   "version": "3.7.3"
  }
 },
 "nbformat": 4,
 "nbformat_minor": 2
}

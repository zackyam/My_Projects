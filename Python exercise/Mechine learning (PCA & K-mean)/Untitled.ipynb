{
 "cells": [
  {
   "cell_type": "code",
   "execution_count": 6,
   "id": "floral-wallet",
   "metadata": {},
   "outputs": [],
   "source": [
    "import os\n",
    "import os.path\n",
    "import numpy as np\n",
    "import matplotlib.pyplot as plt\n",
    "from scipy import misc\n",
    "from sklearn.decomposition import PCA\n",
    "from numpy.linalg import eig\n",
    "from sklearn.decomposition import PCA\n",
    "import matplotlib.pyplot as plt\n",
    "from sklearn.preprocessing import StandardScaler"
   ]
  },
  {
   "cell_type": "code",
   "execution_count": 7,
   "id": "becoming-round",
   "metadata": {},
   "outputs": [],
   "source": [
    "def load_data(digits, num):\n",
    "    '''\n",
    "    Loads all of the images into a data-array.\n",
    "\n",
    "    The training data has 5000 images per digit,\n",
    "    but loading that many images from the disk may take a while.  So, you can\n",
    "    just use a subset of them, say 300 for training (otherwise it will take a\n",
    "    long time to complete.\n",
    "\n",
    "    Note that each image as a 28x28 grayscale image, loaded as an array and\n",
    "    then reshaped into a single row-vector.\n",
    "\n",
    "    Use the function display(row-vector) to visualize an image.\n",
    "\n",
    "    '''\n",
    "    totalsize = 0\n",
    "    for digit in digits:\n",
    "        totalsize += min([len(next(os.walk('train%d' % digit))[2]), num])\n",
    "    print('We will load %d images' % totalsize)\n",
    "    X = np.zeros((totalsize, 784), dtype = np.uint8)   #784=28*28\n",
    "    for index in range(0, len(digits)):\n",
    "        digit = digits[index]\n",
    "        print('\\nReading images of digit %d' % digit)\n",
    "        for i in range(num):\n",
    "            pth = os.path.join('train%d' % digit,'%05d.pgm' % i)\n",
    "            image = misc.imread(pth).reshape((1, 784))\n",
    "            X[i + index * num, :] = image\n",
    "        print('\\n')\n",
    "    return X"
   ]
  },
  {
   "cell_type": "code",
   "execution_count": 8,
   "id": "antique-methodology",
   "metadata": {},
   "outputs": [],
   "source": [
    "def plot_mean_image(X, digits = [0]):\n",
    "    ''' example on presenting vector as an image\n",
    "    '''\n",
    "    plt.close('all')\n",
    "    meanrow = X.mean(0)\n",
    "    # present the row vector as an image\n",
    "    plt.imshow(np.reshape(meanrow,(28,28)))\n",
    "    plt.title('Mean image of digit ' + str(digits))\n",
    "    plt.gray(), plt.xticks(()), plt.yticks(()), plt.show()"
   ]
  },
  {
   "cell_type": "code",
   "execution_count": 9,
   "id": "occasional-confirmation",
   "metadata": {},
   "outputs": [
    {
     "ename": "StopIteration",
     "evalue": "",
     "output_type": "error",
     "traceback": [
      "\u001b[1;31m---------------------------------------------------------------------------\u001b[0m",
      "\u001b[1;31mStopIteration\u001b[0m                             Traceback (most recent call last)",
      "\u001b[1;32m<ipython-input-9-bbede6e735db>\u001b[0m in \u001b[0;36m<module>\u001b[1;34m\u001b[0m\n\u001b[0;32m     42\u001b[0m \u001b[1;33m\u001b[0m\u001b[0m\n\u001b[0;32m     43\u001b[0m \u001b[1;32mif\u001b[0m \u001b[0m__name__\u001b[0m \u001b[1;33m==\u001b[0m \u001b[1;34m'__main__'\u001b[0m\u001b[1;33m:\u001b[0m\u001b[1;33m\u001b[0m\u001b[1;33m\u001b[0m\u001b[0m\n\u001b[1;32m---> 44\u001b[1;33m     \u001b[0mmain\u001b[0m\u001b[1;33m(\u001b[0m\u001b[1;33m)\u001b[0m\u001b[1;33m\u001b[0m\u001b[1;33m\u001b[0m\u001b[0m\n\u001b[0m",
      "\u001b[1;32m<ipython-input-9-bbede6e735db>\u001b[0m in \u001b[0;36mmain\u001b[1;34m()\u001b[0m\n\u001b[0;32m      4\u001b[0m     \u001b[1;31m# for each digit, we just use 300 images\u001b[0m\u001b[1;33m\u001b[0m\u001b[1;33m\u001b[0m\u001b[1;33m\u001b[0m\u001b[0m\n\u001b[0;32m      5\u001b[0m     \u001b[1;31m# each row of matrix X represents an image\u001b[0m\u001b[1;33m\u001b[0m\u001b[1;33m\u001b[0m\u001b[1;33m\u001b[0m\u001b[0m\n\u001b[1;32m----> 6\u001b[1;33m     \u001b[0mX\u001b[0m \u001b[1;33m=\u001b[0m \u001b[0mload_data\u001b[0m\u001b[1;33m(\u001b[0m\u001b[0mdigits\u001b[0m\u001b[1;33m,\u001b[0m \u001b[1;36m300\u001b[0m\u001b[1;33m)\u001b[0m\u001b[1;33m\u001b[0m\u001b[1;33m\u001b[0m\u001b[0m\n\u001b[0m\u001b[0;32m      7\u001b[0m     \u001b[1;31m# plot the mean image of these images!\u001b[0m\u001b[1;33m\u001b[0m\u001b[1;33m\u001b[0m\u001b[1;33m\u001b[0m\u001b[0m\n\u001b[0;32m      8\u001b[0m     \u001b[1;31m# you will learn how to represent a row vector as an image in this function\u001b[0m\u001b[1;33m\u001b[0m\u001b[1;33m\u001b[0m\u001b[1;33m\u001b[0m\u001b[0m\n",
      "\u001b[1;32m<ipython-input-7-7e567f272554>\u001b[0m in \u001b[0;36mload_data\u001b[1;34m(digits, num)\u001b[0m\n\u001b[0;32m     16\u001b[0m     \u001b[0mtotalsize\u001b[0m \u001b[1;33m=\u001b[0m \u001b[1;36m0\u001b[0m\u001b[1;33m\u001b[0m\u001b[1;33m\u001b[0m\u001b[0m\n\u001b[0;32m     17\u001b[0m     \u001b[1;32mfor\u001b[0m \u001b[0mdigit\u001b[0m \u001b[1;32min\u001b[0m \u001b[0mdigits\u001b[0m\u001b[1;33m:\u001b[0m\u001b[1;33m\u001b[0m\u001b[1;33m\u001b[0m\u001b[0m\n\u001b[1;32m---> 18\u001b[1;33m         \u001b[0mtotalsize\u001b[0m \u001b[1;33m+=\u001b[0m \u001b[0mmin\u001b[0m\u001b[1;33m(\u001b[0m\u001b[1;33m[\u001b[0m\u001b[0mlen\u001b[0m\u001b[1;33m(\u001b[0m\u001b[0mnext\u001b[0m\u001b[1;33m(\u001b[0m\u001b[0mos\u001b[0m\u001b[1;33m.\u001b[0m\u001b[0mwalk\u001b[0m\u001b[1;33m(\u001b[0m\u001b[1;34m'train%d'\u001b[0m \u001b[1;33m%\u001b[0m \u001b[0mdigit\u001b[0m\u001b[1;33m)\u001b[0m\u001b[1;33m)\u001b[0m\u001b[1;33m[\u001b[0m\u001b[1;36m2\u001b[0m\u001b[1;33m]\u001b[0m\u001b[1;33m)\u001b[0m\u001b[1;33m,\u001b[0m \u001b[0mnum\u001b[0m\u001b[1;33m]\u001b[0m\u001b[1;33m)\u001b[0m\u001b[1;33m\u001b[0m\u001b[1;33m\u001b[0m\u001b[0m\n\u001b[0m\u001b[0;32m     19\u001b[0m     \u001b[0mprint\u001b[0m\u001b[1;33m(\u001b[0m\u001b[1;34m'We will load %d images'\u001b[0m \u001b[1;33m%\u001b[0m \u001b[0mtotalsize\u001b[0m\u001b[1;33m)\u001b[0m\u001b[1;33m\u001b[0m\u001b[1;33m\u001b[0m\u001b[0m\n\u001b[0;32m     20\u001b[0m     \u001b[0mX\u001b[0m \u001b[1;33m=\u001b[0m \u001b[0mnp\u001b[0m\u001b[1;33m.\u001b[0m\u001b[0mzeros\u001b[0m\u001b[1;33m(\u001b[0m\u001b[1;33m(\u001b[0m\u001b[0mtotalsize\u001b[0m\u001b[1;33m,\u001b[0m \u001b[1;36m784\u001b[0m\u001b[1;33m)\u001b[0m\u001b[1;33m,\u001b[0m \u001b[0mdtype\u001b[0m \u001b[1;33m=\u001b[0m \u001b[0mnp\u001b[0m\u001b[1;33m.\u001b[0m\u001b[0muint8\u001b[0m\u001b[1;33m)\u001b[0m   \u001b[1;31m#784=28*28\u001b[0m\u001b[1;33m\u001b[0m\u001b[1;33m\u001b[0m\u001b[0m\n",
      "\u001b[1;31mStopIteration\u001b[0m: "
     ]
    }
   ],
   "source": [
    "def main():\n",
    "    digits = [0, 1, 2]\n",
    "    # load handwritten images of digit 0, 1, 2 into a matrix X\n",
    "    # for each digit, we just use 300 images\n",
    "    # each row of matrix X represents an image\n",
    "    X = load_data(digits, 300)\n",
    "    # plot the mean image of these images!\n",
    "    # you will learn how to represent a row vector as an image in this function\n",
    "    plot_mean_image(X, digits)\n",
    "    \n",
    "    x_std = StandardScaler().fit_transform(X)\n",
    "\n",
    "    Xcov = np.cov(x_std.T)\n",
    "\n",
    "    d, V = np.linalg.eig(Xcov)\n",
    "    idx = d.argsort()[::-1] \n",
    "    d = d[idx] \n",
    "    V = V[:,idx]\n",
    "\n",
    "    ####################################################################\n",
    "    # you need to\n",
    "    #   1. do the PCA on matrix X;\n",
    "    #\n",
    "    #   2. plot the eigenimages (reshape the vector to 28*28 matrix then use\n",
    "    #   the function ``imshow'' in pyplot), save the images of eigenvectors\n",
    "    #   which correspond to largest 9 eigenvalues. Save them in a single file\n",
    "    #   ``eigenimages.jpg''.\n",
    "    #\n",
    "    #   3. plot the POV (the Portion of variance explained v.s. the number of\n",
    "    #   components we retain), save the figure in file ``pov.jpg''\n",
    "    #\n",
    "    #   4. report how many dimensions are need to preserve 0.9 POV, describe\n",
    "    #   your answers and your undestanding of the results in the plain text\n",
    "    #   file ``description2.txt''\n",
    "    #\n",
    "    #   5. remember to submit file ``eigenimages.jpg'', ``pov.jpg'',\n",
    "    #   ``description2.txt'' and ``ex2.py''.\n",
    "    #\n",
    "    # YOUR CODE HERE!\n",
    "    ####################################################################\n",
    "\n",
    "\n",
    "if __name__ == '__main__':\n",
    "    main()\n"
   ]
  }
 ],
 "metadata": {
  "kernelspec": {
   "display_name": "Python 3",
   "language": "python",
   "name": "python3"
  },
  "language_info": {
   "codemirror_mode": {
    "name": "ipython",
    "version": 3
   },
   "file_extension": ".py",
   "mimetype": "text/x-python",
   "name": "python",
   "nbconvert_exporter": "python",
   "pygments_lexer": "ipython3",
   "version": "3.8.5"
  }
 },
 "nbformat": 4,
 "nbformat_minor": 5
}

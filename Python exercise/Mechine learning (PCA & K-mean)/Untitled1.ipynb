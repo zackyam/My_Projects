{
 "cells": [
  {
   "cell_type": "code",
   "execution_count": 2,
   "id": "theoretical-fundamental",
   "metadata": {},
   "outputs": [],
   "source": [
    "from __future__ import print_function\n",
    "import numpy as np\n",
    "import matplotlib.cm as cm\n",
    "import matplotlib.pyplot as plt\n",
    "\n",
    "from sklearn.datasets import make_blobs\n",
    "from sklearn.cluster import KMeans\n",
    "from sklearn import metrics\n",
    "\n",
    "def create_dataset():\n",
    "    # Generate sample points\n",
    "    centers = [[3,5], [5,1], [8,2], [6,8], [9,7]]\n",
    "    X, y = make_blobs(n_samples=1000,centers=centers,cluster_std=[0.5, 0.5, 1, 1, 1],random_state=3320)\n",
    "    \n",
    "    u_labels = np.unique(label)\n",
    "\n",
    "    for i in u_labels:\n",
    "        plt.scatter(df[label == i , 0] , df[label == i , 1] , label = i)\n",
    "    plt.legend()\n",
    "    plt.show()\n",
    "    ####################################################################\n",
    "    # you need to\n",
    "    #   1. Plot the data points in a scatter plot.\n",
    "    #   2. Use color to represents the clusters.\n",
    "    #\n",
    "    # YOUR CODE HERE!\n",
    "    ####################################################################\n",
    "    return [X, y]"
   ]
  },
  {
   "cell_type": "code",
   "execution_count": 3,
   "id": "designing-clear",
   "metadata": {},
   "outputs": [
    {
     "data": {
      "text/plain": [
       "<function __main__.create_dataset()>"
      ]
     },
     "execution_count": 3,
     "metadata": {},
     "output_type": "execute_result"
    }
   ],
   "source": [
    "create_dataset"
   ]
  },
  {
   "cell_type": "code",
   "execution_count": null,
   "id": "martial-detector",
   "metadata": {},
   "outputs": [],
   "source": []
  }
 ],
 "metadata": {
  "kernelspec": {
   "display_name": "Python 3",
   "language": "python",
   "name": "python3"
  },
  "language_info": {
   "codemirror_mode": {
    "name": "ipython",
    "version": 3
   },
   "file_extension": ".py",
   "mimetype": "text/x-python",
   "name": "python",
   "nbconvert_exporter": "python",
   "pygments_lexer": "ipython3",
   "version": "3.8.5"
  }
 },
 "nbformat": 4,
 "nbformat_minor": 5
}

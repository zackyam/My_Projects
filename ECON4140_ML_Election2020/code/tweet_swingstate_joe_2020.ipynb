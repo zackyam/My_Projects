{
 "cells": [
  {
   "cell_type": "code",
   "execution_count": 13,
   "id": "going-medicine",
   "metadata": {},
   "outputs": [],
   "source": [
    "import numpy as np\n",
    "import pandas as pd\n",
    "import spacy\n",
    "import re\n",
    "from sklearn.feature_extraction.text import HashingVectorizer\n",
    "from sklearn.pipeline import Pipeline\n",
    "from sklearn.linear_model import LogisticRegression\n",
    "from sklearn.naive_bayes import GaussianNB\n",
    "from sklearn.model_selection import train_test_split\n",
    "from sklearn import metrics\n",
    "from sklearn.metrics import classification_report, ConfusionMatrixDisplay\n",
    "from sklearn.metrics import confusion_matrix\n",
    "import matplotlib.pyplot as plt\n",
    "%matplotlib inline\n",
    "import seaborn as snb\n",
    "from wordcloud import WordCloud, STOPWORDS\n",
    "import math\n",
    "from scipy.stats import chi2_contingency, chisquare, chi2\n",
    "import nltk  \n",
    "from nltk.corpus import stopwords\n",
    "from nltk.tokenize import word_tokenize\n",
    "from nltk.stem import PorterStemmer\n",
    "from nltk.probability import FreqDist\n",
    "from sklearn.naive_bayes import MultinomialNB\n",
    "from sklearn.feature_extraction.text import CountVectorizer\n",
    "from sklearn.feature_extraction.text import TfidfVectorizer \n",
    "from sklearn.model_selection import GridSearchCV\n",
    "import tensorflow as tf\n",
    "pd.options.mode.chained_assignment = None\n",
    "from textblob import TextBlob"
   ]
  },
  {
   "cell_type": "code",
   "execution_count": 2,
   "id": "spanish-beauty",
   "metadata": {},
   "outputs": [],
   "source": [
    "def clean_tweet(tweet):\n",
    "    tweet = tweet.lower()\n",
    "    tweet = re.sub(r\"@[A-Za-z0-9]+\",\"\", tweet)\n",
    "    tweet = re.sub(r\"#\",\"\", tweet)\n",
    "    tweet = re.sub(r\"\\ART[\\s]+\",\"\", tweet) \n",
    "    tweet = re.sub(r\"https?:\\/\\/\\S+\",\"\", tweet)\n",
    "    tweet = re.sub(\"(.)\\\\1{2,}\",\"\\\\1\", tweet)\n",
    "    tweet = re.sub(r\"[^A-Za-z0-9\\s]+\", \"\",str(tweet))\n",
    "    \n",
    "    return tweet"
   ]
  },
  {
   "cell_type": "code",
   "execution_count": 3,
   "id": "adaptive-deviation",
   "metadata": {},
   "outputs": [],
   "source": [
    "joe_df = pd.read_csv('hashtag_joebiden.csv', lineterminator='\\n')"
   ]
  },
  {
   "cell_type": "code",
   "execution_count": 4,
   "id": "labeled-selection",
   "metadata": {},
   "outputs": [],
   "source": [
    "joe_df[\"tweet\"] = joe_df[\"tweet\"].apply(clean_tweet)"
   ]
  },
  {
   "cell_type": "code",
   "execution_count": 5,
   "id": "defensive-consultancy",
   "metadata": {},
   "outputs": [],
   "source": [
    "Arizona_joe = joe_df.loc[joe_df['state'] == 'Arizona']"
   ]
  },
  {
   "cell_type": "code",
   "execution_count": 6,
   "id": "simple-firmware",
   "metadata": {},
   "outputs": [],
   "source": [
    "Wisconsin_joe = joe_df.loc[joe_df['state'] == 'Wisconsin']"
   ]
  },
  {
   "cell_type": "code",
   "execution_count": 7,
   "id": "joined-attribute",
   "metadata": {},
   "outputs": [],
   "source": [
    "Pennsylvania_joe = joe_df.loc[joe_df['state'] == 'Pennsylvania']"
   ]
  },
  {
   "cell_type": "code",
   "execution_count": 8,
   "id": "departmental-designer",
   "metadata": {
    "scrolled": true
   },
   "outputs": [],
   "source": [
    "Georgia_joe = joe_df.loc[joe_df['state'] == 'Georgia']"
   ]
  },
  {
   "cell_type": "code",
   "execution_count": 20,
   "id": "magnetic-thesaurus",
   "metadata": {},
   "outputs": [],
   "source": [
    "Michigan_joe = joe_df.loc[joe_df['state'] == 'Michigan']"
   ]
  },
  {
   "cell_type": "code",
   "execution_count": 9,
   "id": "perfect-mumbai",
   "metadata": {
    "scrolled": true
   },
   "outputs": [],
   "source": [
    "def pos_conv(pos):\n",
    "    tag_dict = {\"J\": 'a', \n",
    "                \"N\": 'n', \n",
    "                \"V\": 'v', \n",
    "                \"R\": 'r'}    \n",
    "    return tag_dict.get(pos[0], 'n')"
   ]
  },
  {
   "cell_type": "code",
   "execution_count": 10,
   "id": "charitable-dress",
   "metadata": {},
   "outputs": [],
   "source": [
    "def tweet_change(df):\n",
    "    tb = [TextBlob(c.lower()) for c in df['tweet']]\n",
    "    sentences = [t.words for t in tb]\n",
    "    data = [s.lemmatize() for s in sentences]\n",
    "    tags = [t.tags for t in tb]\n",
    "    wordnet_tags = [[[w, pos_conv(pos)] for w, pos in t] for t in tags]\n",
    "    data = [[w.lemmatize(t) for w,t in s] for s in wordnet_tags]\n",
    "    df['tweet_new'] = data\n"
   ]
  },
  {
   "cell_type": "code",
   "execution_count": 14,
   "id": "smaller-margin",
   "metadata": {},
   "outputs": [],
   "source": [
    "def sentiment_analysis(df):\n",
    "    # Determine polarity and subjectivity\n",
    "    df['Polarity'] = df['tweet_new'].apply(lambda x: TextBlob(' '.join(x)).sentiment.polarity)\n",
    "    df['Subjectivity'] = df['tweet_new'].apply(lambda x: TextBlob(' '.join(x)).sentiment.subjectivity)\n",
    "    \n",
    "    # Classify overall sentiment\n",
    "    df.loc[df.Polarity > 0,'Sentiment'] = 1\n",
    "    df.loc[df.Polarity == 0,'Sentiment'] = 0\n",
    "    df.loc[df.Polarity < 0,'Sentiment'] = -1\n",
    "    \n",
    "    return df.groupby('Sentiment')['tweet'].count()"
   ]
  },
  {
   "cell_type": "code",
   "execution_count": 15,
   "id": "noticed-input",
   "metadata": {
    "scrolled": true
   },
   "outputs": [
    {
     "data": {
      "text/plain": [
       "Sentiment\n",
       "-1.0     517\n",
       " 0.0    1391\n",
       " 1.0    1278\n",
       "Name: tweet, dtype: int64"
      ]
     },
     "execution_count": 15,
     "metadata": {},
     "output_type": "execute_result"
    }
   ],
   "source": [
    "tweet_change(Georgia_joe)\n",
    "sentiment_analysis(Georgia_joe)"
   ]
  },
  {
   "cell_type": "code",
   "execution_count": 16,
   "id": "casual-cardiff",
   "metadata": {},
   "outputs": [
    {
     "data": {
      "text/plain": [
       "Sentiment\n",
       "-1.0     954\n",
       " 0.0    2393\n",
       " 1.0    2056\n",
       "Name: tweet, dtype: int64"
      ]
     },
     "execution_count": 16,
     "metadata": {},
     "output_type": "execute_result"
    }
   ],
   "source": [
    "tweet_change(Pennsylvania_joe)\n",
    "sentiment_analysis(Pennsylvania_joe)"
   ]
  },
  {
   "cell_type": "code",
   "execution_count": 17,
   "id": "pleased-thread",
   "metadata": {},
   "outputs": [
    {
     "data": {
      "text/plain": [
       "Sentiment\n",
       "-1.0     571\n",
       " 0.0    1395\n",
       " 1.0    1282\n",
       "Name: tweet, dtype: int64"
      ]
     },
     "execution_count": 17,
     "metadata": {},
     "output_type": "execute_result"
    }
   ],
   "source": [
    "tweet_change(Arizona_joe)\n",
    "sentiment_analysis(Arizona_joe)"
   ]
  },
  {
   "cell_type": "code",
   "execution_count": 18,
   "id": "present-vietnamese",
   "metadata": {},
   "outputs": [
    {
     "data": {
      "text/plain": [
       "Sentiment\n",
       "-1.0    248\n",
       " 0.0    717\n",
       " 1.0    692\n",
       "Name: tweet, dtype: int64"
      ]
     },
     "execution_count": 18,
     "metadata": {},
     "output_type": "execute_result"
    }
   ],
   "source": [
    "tweet_change(Wisconsin_joe)\n",
    "sentiment_analysis(Wisconsin_joe)"
   ]
  },
  {
   "cell_type": "code",
   "execution_count": 21,
   "id": "nervous-section",
   "metadata": {},
   "outputs": [
    {
     "data": {
      "text/plain": [
       "Sentiment\n",
       "-1.0     587\n",
       " 0.0    1279\n",
       " 1.0    1208\n",
       "Name: tweet, dtype: int64"
      ]
     },
     "execution_count": 21,
     "metadata": {},
     "output_type": "execute_result"
    }
   ],
   "source": [
    "tweet_change(Michigan_joe)\n",
    "sentiment_analysis(Michigan_joe)"
   ]
  },
  {
   "cell_type": "code",
   "execution_count": 32,
   "id": "governmental-tunnel",
   "metadata": {},
   "outputs": [
    {
     "data": {
      "text/plain": [
       "Sentiment\n",
       "-1.0    3157\n",
       " 0.0    9081\n",
       " 1.0    8767\n",
       "Name: tweet, dtype: int64"
      ]
     },
     "execution_count": 32,
     "metadata": {},
     "output_type": "execute_result"
    }
   ],
   "source": [
    "NewYork_joe = joe_df.loc[joe_df['state'] == 'New York']\n",
    "tweet_change(NewYork_joe)\n",
    "sentiment_analysis(NewYork_joe)"
   ]
  },
  {
   "cell_type": "code",
   "execution_count": 33,
   "id": "advisory-allowance",
   "metadata": {},
   "outputs": [
    {
     "data": {
      "text/plain": [
       "Sentiment\n",
       "-1.0     4195\n",
       " 0.0    10999\n",
       " 1.0    10623\n",
       "Name: tweet, dtype: int64"
      ]
     },
     "execution_count": 33,
     "metadata": {},
     "output_type": "execute_result"
    }
   ],
   "source": [
    "California_joe = joe_df.loc[joe_df['state'] == 'California']\n",
    "tweet_change(California_joe)\n",
    "sentiment_analysis(California_joe)"
   ]
  },
  {
   "cell_type": "code",
   "execution_count": 34,
   "id": "thrown-dependence",
   "metadata": {},
   "outputs": [
    {
     "data": {
      "text/plain": [
       "Sentiment\n",
       "-1.0    2320\n",
       " 0.0    6273\n",
       " 1.0    4691\n",
       "Name: tweet, dtype: int64"
      ]
     },
     "execution_count": 34,
     "metadata": {},
     "output_type": "execute_result"
    }
   ],
   "source": [
    "Florida_joe = joe_df.loc[joe_df['state'] == 'Florida']\n",
    "tweet_change(Florida_joe)\n",
    "sentiment_analysis(Florida_joe)"
   ]
  },
  {
   "cell_type": "code",
   "execution_count": 35,
   "id": "canadian-likelihood",
   "metadata": {},
   "outputs": [
    {
     "data": {
      "text/plain": [
       "Sentiment\n",
       "-1.0    1016\n",
       " 0.0    3320\n",
       " 1.0    2719\n",
       "Name: tweet, dtype: int64"
      ]
     },
     "execution_count": 35,
     "metadata": {},
     "output_type": "execute_result"
    }
   ],
   "source": [
    "Columbia_joe = joe_df.loc[joe_df['state'] == 'District of Columbia']\n",
    "tweet_change(Columbia_joe)\n",
    "sentiment_analysis(Columbia_joe)"
   ]
  },
  {
   "cell_type": "code",
   "execution_count": null,
   "id": "alternate-latvia",
   "metadata": {},
   "outputs": [],
   "source": []
  }
 ],
 "metadata": {
  "kernelspec": {
   "display_name": "Python 3",
   "language": "python",
   "name": "python3"
  },
  "language_info": {
   "codemirror_mode": {
    "name": "ipython",
    "version": 3
   },
   "file_extension": ".py",
   "mimetype": "text/x-python",
   "name": "python",
   "nbconvert_exporter": "python",
   "pygments_lexer": "ipython3",
   "version": "3.8.5"
  }
 },
 "nbformat": 4,
 "nbformat_minor": 5
}

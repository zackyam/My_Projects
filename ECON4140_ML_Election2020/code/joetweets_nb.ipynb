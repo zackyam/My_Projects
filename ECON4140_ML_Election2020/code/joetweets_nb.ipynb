{
 "cells": [
  {
   "cell_type": "code",
   "execution_count": 1,
   "id": "sufficient-performance",
   "metadata": {},
   "outputs": [],
   "source": [
    "import numpy as np\n",
    "import pandas as pd\n",
    "import spacy\n",
    "import re\n",
    "from sklearn.feature_extraction.text import HashingVectorizer\n",
    "from sklearn.pipeline import Pipeline\n",
    "from sklearn.linear_model import LogisticRegression\n",
    "from sklearn.naive_bayes import GaussianNB\n",
    "from sklearn.model_selection import train_test_split\n",
    "from sklearn import metrics\n",
    "from sklearn.metrics import classification_report, ConfusionMatrixDisplay\n",
    "from sklearn.metrics import confusion_matrix\n",
    "import matplotlib.pyplot as plt\n",
    "%matplotlib inline\n",
    "import seaborn as snb\n",
    "from wordcloud import WordCloud, STOPWORDS\n",
    "import math\n",
    "from scipy.stats import chi2_contingency, chisquare, chi2\n",
    "import nltk  \n",
    "from nltk.corpus import stopwords\n",
    "from nltk.tokenize import word_tokenize\n",
    "from nltk.stem import PorterStemmer\n",
    "from nltk.probability import FreqDist\n",
    "from sklearn.naive_bayes import MultinomialNB\n",
    "from sklearn.feature_extraction.text import CountVectorizer\n",
    "from sklearn.feature_extraction.text import TfidfVectorizer \n",
    "from sklearn.model_selection import GridSearchCV\n",
    "import tensorflow as tf"
   ]
  },
  {
   "cell_type": "code",
   "execution_count": 2,
   "id": "wound-bulgarian",
   "metadata": {},
   "outputs": [],
   "source": [
    "trump_df = pd.read_csv('joe_tweet_senti.csv', lineterminator='\\n')"
   ]
  },
  {
   "cell_type": "code",
   "execution_count": 3,
   "id": "worst-lawrence",
   "metadata": {},
   "outputs": [
    {
     "data": {
      "text/html": [
       "<div>\n",
       "<style scoped>\n",
       "    .dataframe tbody tr th:only-of-type {\n",
       "        vertical-align: middle;\n",
       "    }\n",
       "\n",
       "    .dataframe tbody tr th {\n",
       "        vertical-align: top;\n",
       "    }\n",
       "\n",
       "    .dataframe thead th {\n",
       "        text-align: right;\n",
       "    }\n",
       "</style>\n",
       "<table border=\"1\" class=\"dataframe\">\n",
       "  <thead>\n",
       "    <tr style=\"text-align: right;\">\n",
       "      <th></th>\n",
       "      <th>created_at</th>\n",
       "      <th>tweet</th>\n",
       "      <th>likes</th>\n",
       "      <th>retweet_count</th>\n",
       "      <th>source</th>\n",
       "      <th>user_followers_count</th>\n",
       "      <th>user_location</th>\n",
       "      <th>lat</th>\n",
       "      <th>long</th>\n",
       "      <th>city</th>\n",
       "      <th>country</th>\n",
       "      <th>continent</th>\n",
       "      <th>state</th>\n",
       "      <th>state_code</th>\n",
       "      <th>lang</th>\n",
       "      <th>Polarity</th>\n",
       "      <th>Subjectivity</th>\n",
       "      <th>Sentiment\\r</th>\n",
       "    </tr>\n",
       "  </thead>\n",
       "  <tbody>\n",
       "    <tr>\n",
       "      <th>0</th>\n",
       "      <td>2020-10-15 00:00:20</td>\n",
       "      <td>['biden', 'made', 'trumpisnotamerica']</td>\n",
       "      <td>0.0</td>\n",
       "      <td>0.0</td>\n",
       "      <td>Twitter Web App</td>\n",
       "      <td>1536.0</td>\n",
       "      <td>Golden Valley Arizona</td>\n",
       "      <td>46.304036</td>\n",
       "      <td>-109.171431</td>\n",
       "      <td>NaN</td>\n",
       "      <td>United States of America</td>\n",
       "      <td>North America</td>\n",
       "      <td>Montana</td>\n",
       "      <td>MT</td>\n",
       "      <td>ENGLISH</td>\n",
       "      <td>0.000000</td>\n",
       "      <td>0.000000</td>\n",
       "      <td>0.0</td>\n",
       "    </tr>\n",
       "    <tr>\n",
       "      <th>1</th>\n",
       "      <td>2020-10-15 00:00:21</td>\n",
       "      <td>['watching', 'setting', 'dvr', 'lets', 'give',...</td>\n",
       "      <td>0.0</td>\n",
       "      <td>0.0</td>\n",
       "      <td>Twitter for iPhone</td>\n",
       "      <td>27.0</td>\n",
       "      <td>NaN</td>\n",
       "      <td>NaN</td>\n",
       "      <td>NaN</td>\n",
       "      <td>NaN</td>\n",
       "      <td>NaN</td>\n",
       "      <td>NaN</td>\n",
       "      <td>NaN</td>\n",
       "      <td>NaN</td>\n",
       "      <td>ENGLISH</td>\n",
       "      <td>0.000000</td>\n",
       "      <td>0.000000</td>\n",
       "      <td>0.0</td>\n",
       "    </tr>\n",
       "    <tr>\n",
       "      <th>2</th>\n",
       "      <td>2020-10-15 00:00:22</td>\n",
       "      <td>['censorship', 'hunterbiden', 'biden', 'bidene...</td>\n",
       "      <td>1.0</td>\n",
       "      <td>0.0</td>\n",
       "      <td>Twitter Web App</td>\n",
       "      <td>390.0</td>\n",
       "      <td>California, USA</td>\n",
       "      <td>36.701463</td>\n",
       "      <td>-118.755997</td>\n",
       "      <td>NaN</td>\n",
       "      <td>United States of America</td>\n",
       "      <td>North America</td>\n",
       "      <td>California</td>\n",
       "      <td>CA</td>\n",
       "      <td>ENGLISH</td>\n",
       "      <td>0.000000</td>\n",
       "      <td>0.000000</td>\n",
       "      <td>0.0</td>\n",
       "    </tr>\n",
       "    <tr>\n",
       "      <th>3</th>\n",
       "      <td>2020-10-15 00:00:23</td>\n",
       "      <td>['wrong', 'cory', 'bookers', 'brilliant', 'fin...</td>\n",
       "      <td>0.0</td>\n",
       "      <td>0.0</td>\n",
       "      <td>Twitter Web App</td>\n",
       "      <td>4622.0</td>\n",
       "      <td>NaN</td>\n",
       "      <td>NaN</td>\n",
       "      <td>NaN</td>\n",
       "      <td>NaN</td>\n",
       "      <td>NaN</td>\n",
       "      <td>NaN</td>\n",
       "      <td>NaN</td>\n",
       "      <td>NaN</td>\n",
       "      <td>ENGLISH</td>\n",
       "      <td>0.133333</td>\n",
       "      <td>0.966667</td>\n",
       "      <td>1.0</td>\n",
       "    </tr>\n",
       "    <tr>\n",
       "      <th>4</th>\n",
       "      <td>2020-10-15 00:00:25</td>\n",
       "      <td>['2020', 'nypost', 'censorship', 'censored', '...</td>\n",
       "      <td>0.0</td>\n",
       "      <td>0.0</td>\n",
       "      <td>Twitter for iPhone</td>\n",
       "      <td>1397.0</td>\n",
       "      <td>Chicago, Illinois</td>\n",
       "      <td>41.875562</td>\n",
       "      <td>-87.624421</td>\n",
       "      <td>Chicago</td>\n",
       "      <td>United States of America</td>\n",
       "      <td>North America</td>\n",
       "      <td>Illinois</td>\n",
       "      <td>IL</td>\n",
       "      <td>ENGLISH</td>\n",
       "      <td>-0.148810</td>\n",
       "      <td>0.678571</td>\n",
       "      <td>-1.0</td>\n",
       "    </tr>\n",
       "    <tr>\n",
       "      <th>...</th>\n",
       "      <td>...</td>\n",
       "      <td>...</td>\n",
       "      <td>...</td>\n",
       "      <td>...</td>\n",
       "      <td>...</td>\n",
       "      <td>...</td>\n",
       "      <td>...</td>\n",
       "      <td>...</td>\n",
       "      <td>...</td>\n",
       "      <td>...</td>\n",
       "      <td>...</td>\n",
       "      <td>...</td>\n",
       "      <td>...</td>\n",
       "      <td>...</td>\n",
       "      <td>...</td>\n",
       "      <td>...</td>\n",
       "      <td>...</td>\n",
       "      <td>...</td>\n",
       "    </tr>\n",
       "    <tr>\n",
       "      <th>526882</th>\n",
       "      <td>2020-11-08 23:59:06</td>\n",
       "      <td>['biden', 'camps', 'announcement', 'idlib', 'm...</td>\n",
       "      <td>1.0</td>\n",
       "      <td>0.0</td>\n",
       "      <td>Twitter Web App</td>\n",
       "      <td>3019.0</td>\n",
       "      <td>NaN</td>\n",
       "      <td>NaN</td>\n",
       "      <td>NaN</td>\n",
       "      <td>NaN</td>\n",
       "      <td>NaN</td>\n",
       "      <td>NaN</td>\n",
       "      <td>NaN</td>\n",
       "      <td>NaN</td>\n",
       "      <td>ENGLISH</td>\n",
       "      <td>-0.500000</td>\n",
       "      <td>0.500000</td>\n",
       "      <td>-1.0</td>\n",
       "    </tr>\n",
       "    <tr>\n",
       "      <th>526883</th>\n",
       "      <td>2020-11-08 23:59:16</td>\n",
       "      <td>['mr', 'biden', 'tear', 'wall', 'mexico', 'wha...</td>\n",
       "      <td>1.0</td>\n",
       "      <td>0.0</td>\n",
       "      <td>Twitter for iPhone</td>\n",
       "      <td>444.0</td>\n",
       "      <td>Auckland, NZ</td>\n",
       "      <td>-36.852095</td>\n",
       "      <td>174.763180</td>\n",
       "      <td>Auckland</td>\n",
       "      <td>New Zealand</td>\n",
       "      <td>Oceania</td>\n",
       "      <td>Auckland</td>\n",
       "      <td>AUK</td>\n",
       "      <td>ENGLISH</td>\n",
       "      <td>0.311111</td>\n",
       "      <td>0.611111</td>\n",
       "      <td>1.0</td>\n",
       "    </tr>\n",
       "    <tr>\n",
       "      <th>526884</th>\n",
       "      <td>2020-11-08 23:59:32</td>\n",
       "      <td>['nyt', 'beratalbayraks', 'departure', 'may', ...</td>\n",
       "      <td>3.0</td>\n",
       "      <td>0.0</td>\n",
       "      <td>Twitter for iPhone</td>\n",
       "      <td>14770.0</td>\n",
       "      <td>London/ Istanbul/Izmir /Beirut</td>\n",
       "      <td>NaN</td>\n",
       "      <td>NaN</td>\n",
       "      <td>NaN</td>\n",
       "      <td>NaN</td>\n",
       "      <td>NaN</td>\n",
       "      <td>NaN</td>\n",
       "      <td>NaN</td>\n",
       "      <td>ENGLISH</td>\n",
       "      <td>0.000000</td>\n",
       "      <td>0.000000</td>\n",
       "      <td>0.0</td>\n",
       "    </tr>\n",
       "    <tr>\n",
       "      <th>526885</th>\n",
       "      <td>2020-11-08 23:59:33</td>\n",
       "      <td>['thank', 'support', 'hard', 'work', 'biden', ...</td>\n",
       "      <td>2.0</td>\n",
       "      <td>1.0</td>\n",
       "      <td>Twitter for Android</td>\n",
       "      <td>52.0</td>\n",
       "      <td>NaN</td>\n",
       "      <td>NaN</td>\n",
       "      <td>NaN</td>\n",
       "      <td>NaN</td>\n",
       "      <td>NaN</td>\n",
       "      <td>NaN</td>\n",
       "      <td>NaN</td>\n",
       "      <td>NaN</td>\n",
       "      <td>ENGLISH</td>\n",
       "      <td>-0.291667</td>\n",
       "      <td>0.541667</td>\n",
       "      <td>-1.0</td>\n",
       "    </tr>\n",
       "    <tr>\n",
       "      <th>526886</th>\n",
       "      <td>2020-11-08 23:59:38</td>\n",
       "      <td>['stop', 'laying', 'paris', 'london', 'dont', ...</td>\n",
       "      <td>0.0</td>\n",
       "      <td>0.0</td>\n",
       "      <td>Twitter for iPhone</td>\n",
       "      <td>27.0</td>\n",
       "      <td>PARIS</td>\n",
       "      <td>48.856697</td>\n",
       "      <td>2.351462</td>\n",
       "      <td>Paris</td>\n",
       "      <td>France</td>\n",
       "      <td>Europe</td>\n",
       "      <td>Ile-de-France</td>\n",
       "      <td>IDF</td>\n",
       "      <td>ENGLISH</td>\n",
       "      <td>-0.400000</td>\n",
       "      <td>0.600000</td>\n",
       "      <td>-1.0</td>\n",
       "    </tr>\n",
       "  </tbody>\n",
       "</table>\n",
       "<p>526887 rows × 18 columns</p>\n",
       "</div>"
      ],
      "text/plain": [
       "                 created_at  \\\n",
       "0       2020-10-15 00:00:20   \n",
       "1       2020-10-15 00:00:21   \n",
       "2       2020-10-15 00:00:22   \n",
       "3       2020-10-15 00:00:23   \n",
       "4       2020-10-15 00:00:25   \n",
       "...                     ...   \n",
       "526882  2020-11-08 23:59:06   \n",
       "526883  2020-11-08 23:59:16   \n",
       "526884  2020-11-08 23:59:32   \n",
       "526885  2020-11-08 23:59:33   \n",
       "526886  2020-11-08 23:59:38   \n",
       "\n",
       "                                                    tweet  likes  \\\n",
       "0                  ['biden', 'made', 'trumpisnotamerica']    0.0   \n",
       "1       ['watching', 'setting', 'dvr', 'lets', 'give',...    0.0   \n",
       "2       ['censorship', 'hunterbiden', 'biden', 'bidene...    1.0   \n",
       "3       ['wrong', 'cory', 'bookers', 'brilliant', 'fin...    0.0   \n",
       "4       ['2020', 'nypost', 'censorship', 'censored', '...    0.0   \n",
       "...                                                   ...    ...   \n",
       "526882  ['biden', 'camps', 'announcement', 'idlib', 'm...    1.0   \n",
       "526883  ['mr', 'biden', 'tear', 'wall', 'mexico', 'wha...    1.0   \n",
       "526884  ['nyt', 'beratalbayraks', 'departure', 'may', ...    3.0   \n",
       "526885  ['thank', 'support', 'hard', 'work', 'biden', ...    2.0   \n",
       "526886  ['stop', 'laying', 'paris', 'london', 'dont', ...    0.0   \n",
       "\n",
       "        retweet_count               source  user_followers_count  \\\n",
       "0                 0.0      Twitter Web App                1536.0   \n",
       "1                 0.0   Twitter for iPhone                  27.0   \n",
       "2                 0.0      Twitter Web App                 390.0   \n",
       "3                 0.0      Twitter Web App                4622.0   \n",
       "4                 0.0   Twitter for iPhone                1397.0   \n",
       "...               ...                  ...                   ...   \n",
       "526882            0.0      Twitter Web App                3019.0   \n",
       "526883            0.0   Twitter for iPhone                 444.0   \n",
       "526884            0.0   Twitter for iPhone               14770.0   \n",
       "526885            1.0  Twitter for Android                  52.0   \n",
       "526886            0.0   Twitter for iPhone                  27.0   \n",
       "\n",
       "                         user_location        lat        long      city  \\\n",
       "0                Golden Valley Arizona  46.304036 -109.171431       NaN   \n",
       "1                                  NaN        NaN         NaN       NaN   \n",
       "2                      California, USA  36.701463 -118.755997       NaN   \n",
       "3                                  NaN        NaN         NaN       NaN   \n",
       "4                    Chicago, Illinois  41.875562  -87.624421   Chicago   \n",
       "...                                ...        ...         ...       ...   \n",
       "526882                             NaN        NaN         NaN       NaN   \n",
       "526883                    Auckland, NZ -36.852095  174.763180  Auckland   \n",
       "526884  London/ Istanbul/Izmir /Beirut        NaN         NaN       NaN   \n",
       "526885                             NaN        NaN         NaN       NaN   \n",
       "526886                           PARIS  48.856697    2.351462     Paris   \n",
       "\n",
       "                         country      continent          state state_code  \\\n",
       "0       United States of America  North America        Montana         MT   \n",
       "1                            NaN            NaN            NaN        NaN   \n",
       "2       United States of America  North America     California         CA   \n",
       "3                            NaN            NaN            NaN        NaN   \n",
       "4       United States of America  North America       Illinois         IL   \n",
       "...                          ...            ...            ...        ...   \n",
       "526882                       NaN            NaN            NaN        NaN   \n",
       "526883               New Zealand        Oceania       Auckland        AUK   \n",
       "526884                       NaN            NaN            NaN        NaN   \n",
       "526885                       NaN            NaN            NaN        NaN   \n",
       "526886                    France         Europe  Ile-de-France        IDF   \n",
       "\n",
       "           lang  Polarity  Subjectivity  Sentiment\\r  \n",
       "0       ENGLISH  0.000000      0.000000          0.0  \n",
       "1       ENGLISH  0.000000      0.000000          0.0  \n",
       "2       ENGLISH  0.000000      0.000000          0.0  \n",
       "3       ENGLISH  0.133333      0.966667          1.0  \n",
       "4       ENGLISH -0.148810      0.678571         -1.0  \n",
       "...         ...       ...           ...          ...  \n",
       "526882  ENGLISH -0.500000      0.500000         -1.0  \n",
       "526883  ENGLISH  0.311111      0.611111          1.0  \n",
       "526884  ENGLISH  0.000000      0.000000          0.0  \n",
       "526885  ENGLISH -0.291667      0.541667         -1.0  \n",
       "526886  ENGLISH -0.400000      0.600000         -1.0  \n",
       "\n",
       "[526887 rows x 18 columns]"
      ]
     },
     "execution_count": 3,
     "metadata": {},
     "output_type": "execute_result"
    }
   ],
   "source": [
    "trump_df"
   ]
  },
  {
   "cell_type": "code",
   "execution_count": 4,
   "id": "persistent-luxury",
   "metadata": {},
   "outputs": [
    {
     "data": {
      "text/plain": [
       "(224146, 18)"
      ]
     },
     "execution_count": 4,
     "metadata": {},
     "output_type": "execute_result"
    }
   ],
   "source": [
    "reviews1 = trump_df[trump_df['Polarity'] == 0.0000]\n",
    "reviews1.shape"
   ]
  },
  {
   "cell_type": "markdown",
   "id": "female-inspiration",
   "metadata": {},
   "source": [
    "neutral statements are of size 277706.which is quite large, we will drop them all"
   ]
  },
  {
   "cell_type": "code",
   "execution_count": 5,
   "id": "powerful-portsmouth",
   "metadata": {},
   "outputs": [
    {
     "data": {
      "text/plain": [
       "(302741, 18)"
      ]
     },
     "execution_count": 5,
     "metadata": {},
     "output_type": "execute_result"
    }
   ],
   "source": [
    "cond1=trump_df['Polarity'].isin(reviews1['Polarity'])\n",
    "trump_df.drop(trump_df[cond1].index, inplace = True)\n",
    "trump_df.shape"
   ]
  },
  {
   "cell_type": "code",
   "execution_count": 6,
   "id": "cognitive-shore",
   "metadata": {},
   "outputs": [],
   "source": [
    "X = trump_df[\"tweet\"]\n",
    "Y = trump_df[\"Sentiment\\r\"]"
   ]
  },
  {
   "cell_type": "code",
   "execution_count": 7,
   "id": "engaging-chemical",
   "metadata": {},
   "outputs": [],
   "source": [
    "vectorizer = TfidfVectorizer()\n",
    "X_tfid = vectorizer.fit_transform(X)"
   ]
  },
  {
   "cell_type": "code",
   "execution_count": 8,
   "id": "governing-geography",
   "metadata": {},
   "outputs": [],
   "source": [
    "X_tfid_train, X_tfid_test, Y_tfid_train, Y_tfid_test = train_test_split(X_tfid, Y, test_size=0.33)"
   ]
  },
  {
   "cell_type": "code",
   "execution_count": 13,
   "id": "capable-fleece",
   "metadata": {},
   "outputs": [
    {
     "name": "stdout",
     "output_type": "stream",
     "text": [
      "tuned hpyerparameters :(best parameters)  {'alpha': 0.1}\n",
      "accuracy : 0.8233548319170122\n",
      "              precision    recall  f1-score   support\n",
      "\n",
      "        -1.0       0.81      0.55      0.66     29980\n",
      "         1.0       0.83      0.95      0.88     69925\n",
      "\n",
      "    accuracy                           0.83     99905\n",
      "   macro avg       0.82      0.75      0.77     99905\n",
      "weighted avg       0.83      0.83      0.82     99905\n",
      "\n"
     ]
    }
   ],
   "source": [
    "params = {'alpha': [0.01, 0.1, 0.3, 0.5, 1.0, 10.0],}\n",
    "nb = MultinomialNB()\n",
    "with tf.device('/GPU:0'):\n",
    "    #logist=LogisticRegression()\n",
    "    nb_cv=GridSearchCV(nb,param_grid=params,cv=5)\n",
    "    nb_cv.fit(X_tfid_train,Y_tfid_train)\n",
    "\n",
    "    print(\"tuned hpyerparameters :(best parameters) \",nb_cv.best_params_)\n",
    "    print(\"accuracy :\",nb_cv.best_score_)\n",
    "    y_nb_pred = nb_cv.predict(X_tfid_test)\n",
    "    print(classification_report(Y_tfid_test, y_nb_pred))"
   ]
  },
  {
   "cell_type": "code",
   "execution_count": 10,
   "id": "certified-suite",
   "metadata": {},
   "outputs": [
    {
     "data": {
      "text/plain": [
       "<sklearn.metrics._plot.confusion_matrix.ConfusionMatrixDisplay at 0x24fe6e27d60>"
      ]
     },
     "execution_count": 10,
     "metadata": {},
     "output_type": "execute_result"
    },
    {
     "data": {
      "image/png": "[encoded data removed]",
      "text/plain": [
       "<Figure size 432x288 with 2 Axes>"
      ]
     },
     "metadata": {
      "needs_background": "light"
     },
     "output_type": "display_data"
    }
   ],
   "source": [
    "test_matrix = metrics.confusion_matrix(Y_tfid_test, y_nb_pred)\n",
    "disp1 = ConfusionMatrixDisplay(confusion_matrix=test_matrix, display_labels=[\"-ve\",\"+ve\"])\n",
    "disp1.plot() "
   ]
  },
  {
   "cell_type": "code",
   "execution_count": 11,
   "id": "brutal-powder",
   "metadata": {},
   "outputs": [
    {
     "name": "stdout",
     "output_type": "stream",
     "text": [
      "              precision    recall  f1-score   support\n",
      "\n",
      "        -1.0       0.91      0.65      0.76     91119\n",
      "         1.0       0.87      0.97      0.92    211622\n",
      "\n",
      "    accuracy                           0.87    302741\n",
      "   macro avg       0.89      0.81      0.84    302741\n",
      "weighted avg       0.88      0.87      0.87    302741\n",
      "\n"
     ]
    }
   ],
   "source": [
    "with tf.device('/GPU:0'):\n",
    "    Y_pred = nb_cv.predict(X_tfid)\n",
    "    print(classification_report(Y, Y_pred))"
   ]
  },
  {
   "cell_type": "code",
   "execution_count": 12,
   "id": "complete-peeing",
   "metadata": {},
   "outputs": [
    {
     "data": {
      "text/plain": [
       "<sklearn.metrics._plot.confusion_matrix.ConfusionMatrixDisplay at 0x2500c730e20>"
      ]
     },
     "execution_count": 12,
     "metadata": {},
     "output_type": "execute_result"
    },
    {
     "data": {
      "image/png": "[encoded data removed]",
      "text/plain": [
       "<Figure size 432x288 with 2 Axes>"
      ]
     },
     "metadata": {
      "needs_background": "light"
     },
     "output_type": "display_data"
    }
   ],
   "source": [
    "pred_matrix = metrics.confusion_matrix(Y, Y_pred)\n",
    "disp2 = ConfusionMatrixDisplay(confusion_matrix=pred_matrix, display_labels=[\"-ve\",\"+ve\"])\n",
    "disp2.plot() "
   ]
  },
  {
   "cell_type": "code",
   "execution_count": null,
   "id": "understood-obligation",
   "metadata": {},
   "outputs": [],
   "source": []
  }
 ],
 "metadata": {
  "kernelspec": {
   "display_name": "KERNEL_DISPLAY_NAME",
   "language": "python",
   "name": "environment_name"
  },
  "language_info": {
   "codemirror_mode": {
    "name": "ipython",
    "version": 3
   },
   "file_extension": ".py",
   "mimetype": "text/x-python",
   "name": "python",
   "nbconvert_exporter": "python",
   "pygments_lexer": "ipython3",
   "version": "3.8.5"
  }
 },
 "nbformat": 4,
 "nbformat_minor": 5
}

{
 "cells": [
  {
   "cell_type": "code",
   "execution_count": 65,
   "id": "laughing-marks",
   "metadata": {},
   "outputs": [],
   "source": [
    "import numpy as np\n",
    "import pandas as pd\n",
    "import spacy\n",
    "import re\n",
    "from sklearn.feature_extraction.text import HashingVectorizer\n",
    "from sklearn.pipeline import Pipeline\n",
    "from sklearn.linear_model import LogisticRegression\n",
    "from sklearn.naive_bayes import GaussianNB\n",
    "from sklearn.model_selection import train_test_split\n",
    "from sklearn import metrics\n",
    "from sklearn.metrics import classification_report, ConfusionMatrixDisplay\n",
    "from sklearn.metrics import confusion_matrix\n",
    "import matplotlib.pyplot as plt\n",
    "%matplotlib inline\n",
    "import seaborn as snb\n",
    "from wordcloud import WordCloud, STOPWORDS\n",
    "import math\n",
    "from scipy.stats import chi2_contingency, chisquare, chi2\n",
    "import nltk  \n",
    "from nltk.corpus import stopwords\n",
    "from nltk.tokenize import word_tokenize\n",
    "from nltk.stem import PorterStemmer\n",
    "from nltk.probability import FreqDist\n",
    "from sklearn.naive_bayes import MultinomialNB\n",
    "from sklearn.feature_extraction.text import CountVectorizer\n",
    "from sklearn.feature_extraction.text import TfidfVectorizer \n",
    "from sklearn.model_selection import GridSearchCV\n",
    "import tensorflow as tf\n",
    "pd.options.mode.chained_assignment = None\n",
    "from textblob import TextBlob"
   ]
  },
  {
   "cell_type": "code",
   "execution_count": 42,
   "id": "allied-peoples",
   "metadata": {},
   "outputs": [],
   "source": [
    "def clean_tweet(tweet):\n",
    "    tweet = tweet.lower()\n",
    "    tweet = re.sub(r\"@[A-Za-z0-9]+\",\"\", tweet)\n",
    "    tweet = re.sub(r\"#\",\"\", tweet)\n",
    "    tweet = re.sub(r\"\\ART[\\s]+\",\"\", tweet) \n",
    "    tweet = re.sub(r\"https?:\\/\\/\\S+\",\"\", tweet)\n",
    "    tweet = re.sub(\"(.)\\\\1{2,}\",\"\\\\1\", tweet)\n",
    "    tweet = re.sub(r\"[^A-Za-z0-9\\s]+\", \"\",str(tweet))\n",
    "    \n",
    "    return tweet"
   ]
  },
  {
   "cell_type": "code",
   "execution_count": 43,
   "id": "august-hungary",
   "metadata": {},
   "outputs": [],
   "source": [
    "trump_df = pd.read_csv('hashtag_donaldtrump.csv', lineterminator='\\n')"
   ]
  },
  {
   "cell_type": "code",
   "execution_count": 44,
   "id": "organized-relations",
   "metadata": {},
   "outputs": [],
   "source": [
    "trump_df[\"tweet\"] = trump_df[\"tweet\"].apply(clean_tweet)"
   ]
  },
  {
   "cell_type": "code",
   "execution_count": 46,
   "id": "electrical-equity",
   "metadata": {},
   "outputs": [],
   "source": [
    "Arizona_trump = trump_df.loc[trump_df['state'] == 'Arizona']"
   ]
  },
  {
   "cell_type": "code",
   "execution_count": 47,
   "id": "incident-prairie",
   "metadata": {},
   "outputs": [],
   "source": [
    "Wisconsin_trump = trump_df.loc[trump_df['state'] == 'Wisconsin']"
   ]
  },
  {
   "cell_type": "code",
   "execution_count": 48,
   "id": "animal-tomato",
   "metadata": {},
   "outputs": [],
   "source": [
    "Pennsylvania_trump = trump_df.loc[trump_df['state'] == 'Pennsylvania']"
   ]
  },
  {
   "cell_type": "code",
   "execution_count": 49,
   "id": "noble-realtor",
   "metadata": {
    "scrolled": true
   },
   "outputs": [],
   "source": [
    "Georgia_trump = trump_df.loc[trump_df['state'] == 'Georgia']"
   ]
  },
  {
   "cell_type": "code",
   "execution_count": 78,
   "id": "insured-duration",
   "metadata": {},
   "outputs": [],
   "source": [
    "Michigan_trump = trump_df.loc[trump_df['state'] == 'Michigan']"
   ]
  },
  {
   "cell_type": "code",
   "execution_count": 50,
   "id": "dominican-democrat",
   "metadata": {
    "scrolled": true
   },
   "outputs": [],
   "source": [
    "def pos_conv(pos):\n",
    "    tag_dict = {\"J\": 'a', \n",
    "                \"N\": 'n', \n",
    "                \"V\": 'v', \n",
    "                \"R\": 'r'}    \n",
    "    return tag_dict.get(pos[0], 'n')"
   ]
  },
  {
   "cell_type": "code",
   "execution_count": 53,
   "id": "nasty-grocery",
   "metadata": {},
   "outputs": [],
   "source": [
    "def tweet_change(df):\n",
    "    tb = [TextBlob(c.lower()) for c in df['tweet']]\n",
    "    sentences = [t.words for t in tb]\n",
    "    data = [s.lemmatize() for s in sentences]\n",
    "    tags = [t.tags for t in tb]\n",
    "    wordnet_tags = [[[w, pos_conv(pos)] for w, pos in t] for t in tags]\n",
    "    data = [[w.lemmatize(t) for w,t in s] for s in wordnet_tags]\n",
    "    df['tweet_new'] = data\n"
   ]
  },
  {
   "cell_type": "code",
   "execution_count": 73,
   "id": "medium-helicopter",
   "metadata": {},
   "outputs": [],
   "source": [
    "def sentiment_analysis(df):\n",
    "    # Determine polarity and subjectivity\n",
    "    df['Polarity'] = df['tweet_new'].apply(lambda x: TextBlob(' '.join(x)).sentiment.polarity)\n",
    "    df['Subjectivity'] = df['tweet_new'].apply(lambda x: TextBlob(' '.join(x)).sentiment.subjectivity)\n",
    "    \n",
    "    # Classify overall sentiment\n",
    "    df.loc[df.Polarity > 0,'Sentiment'] = 1\n",
    "    df.loc[df.Polarity == 0,'Sentiment'] = 0\n",
    "    df.loc[df.Polarity < 0,'Sentiment'] = -1\n",
    "    \n",
    "    return df.groupby('Sentiment')['tweet'].count()"
   ]
  },
  {
   "cell_type": "code",
   "execution_count": 66,
   "id": "interracial-corruption",
   "metadata": {
    "scrolled": true
   },
   "outputs": [
    {
     "data": {
      "text/plain": [
       "Sentiment\n",
       "-1.0     559\n",
       " 0.0    1231\n",
       " 1.0    1086\n",
       "Name: tweet, dtype: int64"
      ]
     },
     "execution_count": 66,
     "metadata": {},
     "output_type": "execute_result"
    }
   ],
   "source": [
    "tweet_change(Georgia_trump)\n",
    "sentiment_analysis(Georgia_trump)"
   ]
  },
  {
   "cell_type": "code",
   "execution_count": 75,
   "id": "cognitive-capitol",
   "metadata": {},
   "outputs": [
    {
     "data": {
      "text/plain": [
       "Sentiment\n",
       "-1.0    1599\n",
       " 0.0    2525\n",
       " 1.0    2887\n",
       "Name: tweet, dtype: int64"
      ]
     },
     "execution_count": 75,
     "metadata": {},
     "output_type": "execute_result"
    }
   ],
   "source": [
    "tweet_change(Pennsylvania_trump)\n",
    "sentiment_analysis(Pennsylvania_trump)"
   ]
  },
  {
   "cell_type": "code",
   "execution_count": 76,
   "id": "coated-sherman",
   "metadata": {},
   "outputs": [
    {
     "data": {
      "text/plain": [
       "Sentiment\n",
       "-1.0     629\n",
       " 0.0    1084\n",
       " 1.0    1152\n",
       "Name: tweet, dtype: int64"
      ]
     },
     "execution_count": 76,
     "metadata": {},
     "output_type": "execute_result"
    }
   ],
   "source": [
    "tweet_change(Arizona_trump)\n",
    "sentiment_analysis(Arizona_trump)"
   ]
  },
  {
   "cell_type": "code",
   "execution_count": 77,
   "id": "apparent-enhancement",
   "metadata": {},
   "outputs": [
    {
     "data": {
      "text/plain": [
       "Sentiment\n",
       "-1.0    358\n",
       " 0.0    544\n",
       " 1.0    578\n",
       "Name: tweet, dtype: int64"
      ]
     },
     "execution_count": 77,
     "metadata": {},
     "output_type": "execute_result"
    }
   ],
   "source": [
    "tweet_change(Wisconsin_trump)\n",
    "sentiment_analysis(Wisconsin_trump)"
   ]
  },
  {
   "cell_type": "code",
   "execution_count": 79,
   "id": "fantastic-complement",
   "metadata": {},
   "outputs": [
    {
     "data": {
      "text/plain": [
       "Sentiment\n",
       "-1.0     767\n",
       " 0.0    1025\n",
       " 1.0    1261\n",
       "Name: tweet, dtype: int64"
      ]
     },
     "execution_count": 79,
     "metadata": {},
     "output_type": "execute_result"
    }
   ],
   "source": [
    "tweet_change(Michigan_trump)\n",
    "sentiment_analysis(Michigan_trump)"
   ]
  },
  {
   "cell_type": "code",
   "execution_count": 85,
   "id": "empty-declaration",
   "metadata": {},
   "outputs": [
    {
     "data": {
      "text/plain": [
       "Sentiment\n",
       "-1.0    5038\n",
       " 0.0    9313\n",
       " 1.0    8530\n",
       "Name: tweet, dtype: int64"
      ]
     },
     "execution_count": 85,
     "metadata": {},
     "output_type": "execute_result"
    }
   ],
   "source": [
    "NewYork_trump = trump_df.loc[trump_df['state'] == 'New York']\n",
    "tweet_change(NewYork_trump)\n",
    "sentiment_analysis(NewYork_trump)"
   ]
  },
  {
   "cell_type": "code",
   "execution_count": 86,
   "id": "average-wilderness",
   "metadata": {},
   "outputs": [
    {
     "data": {
      "text/plain": [
       "Sentiment\n",
       "-1.0     7085\n",
       " 0.0    12937\n",
       " 1.0    11127\n",
       "Name: tweet, dtype: int64"
      ]
     },
     "execution_count": 86,
     "metadata": {},
     "output_type": "execute_result"
    }
   ],
   "source": [
    "California_trump = trump_df.loc[trump_df['state'] == 'California']\n",
    "tweet_change(California_trump)\n",
    "sentiment_analysis(California_trump)"
   ]
  },
  {
   "cell_type": "code",
   "execution_count": 87,
   "id": "exotic-impression",
   "metadata": {},
   "outputs": [
    {
     "data": {
      "text/plain": [
       "Sentiment\n",
       "-1.0    3241\n",
       " 0.0    7394\n",
       " 1.0    5933\n",
       "Name: tweet, dtype: int64"
      ]
     },
     "execution_count": 87,
     "metadata": {},
     "output_type": "execute_result"
    }
   ],
   "source": [
    "Florida_trump = trump_df.loc[trump_df['state'] == 'Florida']\n",
    "tweet_change(Florida_trump)\n",
    "sentiment_analysis(Florida_trump)"
   ]
  },
  {
   "cell_type": "code",
   "execution_count": 88,
   "id": "golden-defense",
   "metadata": {},
   "outputs": [
    {
     "data": {
      "text/plain": [
       "Sentiment\n",
       "-1.0    1983\n",
       " 0.0    4289\n",
       " 1.0    3412\n",
       "Name: tweet, dtype: int64"
      ]
     },
     "execution_count": 88,
     "metadata": {},
     "output_type": "execute_result"
    }
   ],
   "source": [
    "Columbia_trump = trump_df.loc[trump_df['state'] == 'District of Columbia']\n",
    "tweet_change(Columbia_trump)\n",
    "sentiment_analysis(Columbia_trump)"
   ]
  },
  {
   "cell_type": "code",
   "execution_count": null,
   "id": "scenic-party",
   "metadata": {},
   "outputs": [],
   "source": []
  }
 ],
 "metadata": {
  "kernelspec": {
   "display_name": "Python 3",
   "language": "python",
   "name": "python3"
  },
  "language_info": {
   "codemirror_mode": {
    "name": "ipython",
    "version": 3
   },
   "file_extension": ".py",
   "mimetype": "text/x-python",
   "name": "python",
   "nbconvert_exporter": "python",
   "pygments_lexer": "ipython3",
   "version": "3.8.5"
  }
 },
 "nbformat": 4,
 "nbformat_minor": 5
}

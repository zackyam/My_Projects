{
 "cells": [
  {
   "cell_type": "code",
   "execution_count": 37,
   "id": "satisfactory-toner",
   "metadata": {
    "scrolled": true
   },
   "outputs": [],
   "source": [
    "import numpy as np\n",
    "import pandas as pd\n",
    "import spacy\n",
    "import re\n",
    "from sklearn.feature_extraction.text import HashingVectorizer\n",
    "from sklearn.pipeline import Pipeline\n",
    "from sklearn.linear_model import LogisticRegression\n",
    "from sklearn.naive_bayes import GaussianNB\n",
    "from sklearn.model_selection import train_test_split\n",
    "from sklearn import metrics\n",
    "from sklearn.metrics import classification_report, ConfusionMatrixDisplay\n",
    "from sklearn.metrics import confusion_matrix\n",
    "import matplotlib.pyplot as plt\n",
    "%matplotlib inline\n",
    "import seaborn as snb\n",
    "from wordcloud import WordCloud, STOPWORDS\n",
    "import math\n",
    "from scipy.stats import chi2_contingency, chisquare, chi2\n",
    "import nltk  \n",
    "from nltk.corpus import stopwords\n",
    "from nltk.tokenize import word_tokenize\n",
    "from nltk.stem import PorterStemmer\n",
    "from nltk.probability import FreqDist\n",
    "from sklearn.naive_bayes import MultinomialNB\n",
    "from sklearn.feature_extraction.text import CountVectorizer\n",
    "from sklearn.feature_extraction.text import TfidfVectorizer \n",
    "from sklearn.model_selection import GridSearchCV"
   ]
  },
  {
   "cell_type": "code",
   "execution_count": 5,
   "id": "unexpected-swedish",
   "metadata": {},
   "outputs": [
    {
     "name": "stdout",
     "output_type": "stream",
     "text": [
      "Num GPUs Available:  1\n"
     ]
    }
   ],
   "source": [
    "import tensorflow as tf\n",
    "print(\"Num GPUs Available: \", len(tf.config.list_physical_devices('GPU')))"
   ]
  },
  {
   "cell_type": "code",
   "execution_count": 6,
   "id": "elect-society",
   "metadata": {},
   "outputs": [],
   "source": [
    "trump_df = pd.read_csv('trump_tweet_senti.csv', lineterminator='\\n')"
   ]
  },
  {
   "cell_type": "code",
   "execution_count": 7,
   "id": "liable-agreement",
   "metadata": {
    "scrolled": true
   },
   "outputs": [
    {
     "data": {
      "text/html": [
       "<div>\n",
       "<style scoped>\n",
       "    .dataframe tbody tr th:only-of-type {\n",
       "        vertical-align: middle;\n",
       "    }\n",
       "\n",
       "    .dataframe tbody tr th {\n",
       "        vertical-align: top;\n",
       "    }\n",
       "\n",
       "    .dataframe thead th {\n",
       "        text-align: right;\n",
       "    }\n",
       "</style>\n",
       "<table border=\"1\" class=\"dataframe\">\n",
       "  <thead>\n",
       "    <tr style=\"text-align: right;\">\n",
       "      <th></th>\n",
       "      <th>created_at</th>\n",
       "      <th>tweet</th>\n",
       "      <th>likes</th>\n",
       "      <th>retweet_count</th>\n",
       "      <th>source</th>\n",
       "      <th>user_followers_count</th>\n",
       "      <th>user_location</th>\n",
       "      <th>lat</th>\n",
       "      <th>long</th>\n",
       "      <th>city</th>\n",
       "      <th>country</th>\n",
       "      <th>continent</th>\n",
       "      <th>state</th>\n",
       "      <th>state_code</th>\n",
       "      <th>lang</th>\n",
       "      <th>Polarity</th>\n",
       "      <th>Subjectivity</th>\n",
       "      <th>Sentiment\\r</th>\n",
       "    </tr>\n",
       "  </thead>\n",
       "  <tbody>\n",
       "    <tr>\n",
       "      <th>0</th>\n",
       "      <td>2020-10-15 00:00:02</td>\n",
       "      <td>['trump', 'student', 'used', 'hear', 'years', ...</td>\n",
       "      <td>2.0</td>\n",
       "      <td>1.0</td>\n",
       "      <td>Twitter Web App</td>\n",
       "      <td>1185.0</td>\n",
       "      <td>Portland</td>\n",
       "      <td>45.520247</td>\n",
       "      <td>-122.674195</td>\n",
       "      <td>Portland</td>\n",
       "      <td>United States of America</td>\n",
       "      <td>North America</td>\n",
       "      <td>Oregon</td>\n",
       "      <td>OR</td>\n",
       "      <td>ENGLISH</td>\n",
       "      <td>0.333333</td>\n",
       "      <td>0.333333</td>\n",
       "      <td>1.0</td>\n",
       "    </tr>\n",
       "    <tr>\n",
       "      <th>1</th>\n",
       "      <td>2020-10-15 00:00:02</td>\n",
       "      <td>['2', 'hours', 'since', 'last', 'tweet', 'trum...</td>\n",
       "      <td>0.0</td>\n",
       "      <td>0.0</td>\n",
       "      <td>Trumpytweeter</td>\n",
       "      <td>32.0</td>\n",
       "      <td>NaN</td>\n",
       "      <td>NaN</td>\n",
       "      <td>NaN</td>\n",
       "      <td>NaN</td>\n",
       "      <td>NaN</td>\n",
       "      <td>NaN</td>\n",
       "      <td>NaN</td>\n",
       "      <td>NaN</td>\n",
       "      <td>ENGLISH</td>\n",
       "      <td>0.066667</td>\n",
       "      <td>0.222222</td>\n",
       "      <td>1.0</td>\n",
       "    </tr>\n",
       "    <tr>\n",
       "      <th>2</th>\n",
       "      <td>2020-10-15 00:00:08</td>\n",
       "      <td>['get', 'tie', 'get', 'tie', 'trump', 'rally',...</td>\n",
       "      <td>4.0</td>\n",
       "      <td>3.0</td>\n",
       "      <td>Twitter for iPhone</td>\n",
       "      <td>5393.0</td>\n",
       "      <td>Washington DC</td>\n",
       "      <td>38.894992</td>\n",
       "      <td>-77.036558</td>\n",
       "      <td>Washington</td>\n",
       "      <td>United States of America</td>\n",
       "      <td>North America</td>\n",
       "      <td>District of Columbia</td>\n",
       "      <td>DC</td>\n",
       "      <td>ENGLISH</td>\n",
       "      <td>0.000000</td>\n",
       "      <td>0.000000</td>\n",
       "      <td>0.0</td>\n",
       "    </tr>\n",
       "    <tr>\n",
       "      <th>3</th>\n",
       "      <td>2020-10-15 00:00:17</td>\n",
       "      <td>['15', 'minutes', 'long', 'time', 'ago', 'omar...</td>\n",
       "      <td>2.0</td>\n",
       "      <td>0.0</td>\n",
       "      <td>Twitter for Android</td>\n",
       "      <td>2363.0</td>\n",
       "      <td>Perris,California</td>\n",
       "      <td>33.782519</td>\n",
       "      <td>-117.228648</td>\n",
       "      <td>NaN</td>\n",
       "      <td>United States of America</td>\n",
       "      <td>North America</td>\n",
       "      <td>California</td>\n",
       "      <td>CA</td>\n",
       "      <td>ENGLISH</td>\n",
       "      <td>-0.108333</td>\n",
       "      <td>0.416667</td>\n",
       "      <td>-1.0</td>\n",
       "    </tr>\n",
       "    <tr>\n",
       "      <th>4</th>\n",
       "      <td>2020-10-15 00:00:17</td>\n",
       "      <td>['glad', 'u', 'got', 'house', 'dicktrump', '20...</td>\n",
       "      <td>0.0</td>\n",
       "      <td>0.0</td>\n",
       "      <td>Twitter for iPhone</td>\n",
       "      <td>75.0</td>\n",
       "      <td>Powell, TN</td>\n",
       "      <td>NaN</td>\n",
       "      <td>NaN</td>\n",
       "      <td>NaN</td>\n",
       "      <td>NaN</td>\n",
       "      <td>NaN</td>\n",
       "      <td>NaN</td>\n",
       "      <td>NaN</td>\n",
       "      <td>ENGLISH</td>\n",
       "      <td>0.500000</td>\n",
       "      <td>1.000000</td>\n",
       "      <td>1.0</td>\n",
       "    </tr>\n",
       "    <tr>\n",
       "      <th>...</th>\n",
       "      <td>...</td>\n",
       "      <td>...</td>\n",
       "      <td>...</td>\n",
       "      <td>...</td>\n",
       "      <td>...</td>\n",
       "      <td>...</td>\n",
       "      <td>...</td>\n",
       "      <td>...</td>\n",
       "      <td>...</td>\n",
       "      <td>...</td>\n",
       "      <td>...</td>\n",
       "      <td>...</td>\n",
       "      <td>...</td>\n",
       "      <td>...</td>\n",
       "      <td>...</td>\n",
       "      <td>...</td>\n",
       "      <td>...</td>\n",
       "      <td>...</td>\n",
       "    </tr>\n",
       "    <tr>\n",
       "      <th>673202</th>\n",
       "      <td>2020-11-08 23:59:38</td>\n",
       "      <td>['stop', 'laying', 'paris', 'london', 'dont', ...</td>\n",
       "      <td>0.0</td>\n",
       "      <td>0.0</td>\n",
       "      <td>Twitter for iPhone</td>\n",
       "      <td>27.0</td>\n",
       "      <td>PARIS</td>\n",
       "      <td>48.856697</td>\n",
       "      <td>2.351462</td>\n",
       "      <td>Paris</td>\n",
       "      <td>France</td>\n",
       "      <td>Europe</td>\n",
       "      <td>Ile-de-France</td>\n",
       "      <td>IDF</td>\n",
       "      <td>ENGLISH</td>\n",
       "      <td>-0.400000</td>\n",
       "      <td>0.600000</td>\n",
       "      <td>-1.0</td>\n",
       "    </tr>\n",
       "    <tr>\n",
       "      <th>673203</th>\n",
       "      <td>2020-11-08 23:59:42</td>\n",
       "      <td>['earlier', 'week', 'got', 'rid', 'trump', 'to...</td>\n",
       "      <td>7.0</td>\n",
       "      <td>0.0</td>\n",
       "      <td>Twitter Web App</td>\n",
       "      <td>50.0</td>\n",
       "      <td>NaN</td>\n",
       "      <td>NaN</td>\n",
       "      <td>NaN</td>\n",
       "      <td>NaN</td>\n",
       "      <td>NaN</td>\n",
       "      <td>NaN</td>\n",
       "      <td>NaN</td>\n",
       "      <td>NaN</td>\n",
       "      <td>ENGLISH</td>\n",
       "      <td>-0.033333</td>\n",
       "      <td>0.666667</td>\n",
       "      <td>-1.0</td>\n",
       "    </tr>\n",
       "    <tr>\n",
       "      <th>673204</th>\n",
       "      <td>2020-11-08 23:59:48</td>\n",
       "      <td>['joe', 'biden', 'joe', 'biden', 'winned', 'tr...</td>\n",
       "      <td>4.0</td>\n",
       "      <td>0.0</td>\n",
       "      <td>Twitter Web App</td>\n",
       "      <td>19.0</td>\n",
       "      <td>NaN</td>\n",
       "      <td>NaN</td>\n",
       "      <td>NaN</td>\n",
       "      <td>NaN</td>\n",
       "      <td>NaN</td>\n",
       "      <td>NaN</td>\n",
       "      <td>NaN</td>\n",
       "      <td>NaN</td>\n",
       "      <td>ENGLISH</td>\n",
       "      <td>-0.150000</td>\n",
       "      <td>0.650000</td>\n",
       "      <td>-1.0</td>\n",
       "    </tr>\n",
       "    <tr>\n",
       "      <th>673205</th>\n",
       "      <td>2020-11-08 23:59:54</td>\n",
       "      <td>['first', 'would', 'need', 'compare', 'previou...</td>\n",
       "      <td>0.0</td>\n",
       "      <td>0.0</td>\n",
       "      <td>Twitter for iPad</td>\n",
       "      <td>1079.0</td>\n",
       "      <td>NaN</td>\n",
       "      <td>NaN</td>\n",
       "      <td>NaN</td>\n",
       "      <td>NaN</td>\n",
       "      <td>NaN</td>\n",
       "      <td>NaN</td>\n",
       "      <td>NaN</td>\n",
       "      <td>NaN</td>\n",
       "      <td>ENGLISH</td>\n",
       "      <td>0.130556</td>\n",
       "      <td>0.233333</td>\n",
       "      <td>1.0</td>\n",
       "    </tr>\n",
       "    <tr>\n",
       "      <th>673206</th>\n",
       "      <td>2020-11-08 23:59:55</td>\n",
       "      <td>['ok', 'trump', 'catapulttrump']</td>\n",
       "      <td>105.0</td>\n",
       "      <td>28.0</td>\n",
       "      <td>Twitter Web App</td>\n",
       "      <td>12192.0</td>\n",
       "      <td>✔ Official Twitter Account</td>\n",
       "      <td>NaN</td>\n",
       "      <td>NaN</td>\n",
       "      <td>NaN</td>\n",
       "      <td>NaN</td>\n",
       "      <td>NaN</td>\n",
       "      <td>NaN</td>\n",
       "      <td>NaN</td>\n",
       "      <td>ENGLISH</td>\n",
       "      <td>0.500000</td>\n",
       "      <td>0.500000</td>\n",
       "      <td>1.0</td>\n",
       "    </tr>\n",
       "  </tbody>\n",
       "</table>\n",
       "<p>673207 rows × 18 columns</p>\n",
       "</div>"
      ],
      "text/plain": [
       "                 created_at  \\\n",
       "0       2020-10-15 00:00:02   \n",
       "1       2020-10-15 00:00:02   \n",
       "2       2020-10-15 00:00:08   \n",
       "3       2020-10-15 00:00:17   \n",
       "4       2020-10-15 00:00:17   \n",
       "...                     ...   \n",
       "673202  2020-11-08 23:59:38   \n",
       "673203  2020-11-08 23:59:42   \n",
       "673204  2020-11-08 23:59:48   \n",
       "673205  2020-11-08 23:59:54   \n",
       "673206  2020-11-08 23:59:55   \n",
       "\n",
       "                                                    tweet  likes  \\\n",
       "0       ['trump', 'student', 'used', 'hear', 'years', ...    2.0   \n",
       "1       ['2', 'hours', 'since', 'last', 'tweet', 'trum...    0.0   \n",
       "2       ['get', 'tie', 'get', 'tie', 'trump', 'rally',...    4.0   \n",
       "3       ['15', 'minutes', 'long', 'time', 'ago', 'omar...    2.0   \n",
       "4       ['glad', 'u', 'got', 'house', 'dicktrump', '20...    0.0   \n",
       "...                                                   ...    ...   \n",
       "673202  ['stop', 'laying', 'paris', 'london', 'dont', ...    0.0   \n",
       "673203  ['earlier', 'week', 'got', 'rid', 'trump', 'to...    7.0   \n",
       "673204  ['joe', 'biden', 'joe', 'biden', 'winned', 'tr...    4.0   \n",
       "673205  ['first', 'would', 'need', 'compare', 'previou...    0.0   \n",
       "673206                   ['ok', 'trump', 'catapulttrump']  105.0   \n",
       "\n",
       "        retweet_count               source  user_followers_count  \\\n",
       "0                 1.0      Twitter Web App                1185.0   \n",
       "1                 0.0        Trumpytweeter                  32.0   \n",
       "2                 3.0   Twitter for iPhone                5393.0   \n",
       "3                 0.0  Twitter for Android                2363.0   \n",
       "4                 0.0   Twitter for iPhone                  75.0   \n",
       "...               ...                  ...                   ...   \n",
       "673202            0.0   Twitter for iPhone                  27.0   \n",
       "673203            0.0      Twitter Web App                  50.0   \n",
       "673204            0.0      Twitter Web App                  19.0   \n",
       "673205            0.0     Twitter for iPad                1079.0   \n",
       "673206           28.0      Twitter Web App               12192.0   \n",
       "\n",
       "                     user_location        lat        long        city  \\\n",
       "0                         Portland  45.520247 -122.674195    Portland   \n",
       "1                              NaN        NaN         NaN         NaN   \n",
       "2                    Washington DC  38.894992  -77.036558  Washington   \n",
       "3                Perris,California  33.782519 -117.228648         NaN   \n",
       "4                       Powell, TN        NaN         NaN         NaN   \n",
       "...                            ...        ...         ...         ...   \n",
       "673202                       PARIS  48.856697    2.351462       Paris   \n",
       "673203                         NaN        NaN         NaN         NaN   \n",
       "673204                         NaN        NaN         NaN         NaN   \n",
       "673205                         NaN        NaN         NaN         NaN   \n",
       "673206  ✔ Official Twitter Account        NaN         NaN         NaN   \n",
       "\n",
       "                         country      continent                 state  \\\n",
       "0       United States of America  North America                Oregon   \n",
       "1                            NaN            NaN                   NaN   \n",
       "2       United States of America  North America  District of Columbia   \n",
       "3       United States of America  North America            California   \n",
       "4                            NaN            NaN                   NaN   \n",
       "...                          ...            ...                   ...   \n",
       "673202                    France         Europe         Ile-de-France   \n",
       "673203                       NaN            NaN                   NaN   \n",
       "673204                       NaN            NaN                   NaN   \n",
       "673205                       NaN            NaN                   NaN   \n",
       "673206                       NaN            NaN                   NaN   \n",
       "\n",
       "       state_code     lang  Polarity  Subjectivity  Sentiment\\r  \n",
       "0              OR  ENGLISH  0.333333      0.333333          1.0  \n",
       "1             NaN  ENGLISH  0.066667      0.222222          1.0  \n",
       "2              DC  ENGLISH  0.000000      0.000000          0.0  \n",
       "3              CA  ENGLISH -0.108333      0.416667         -1.0  \n",
       "4             NaN  ENGLISH  0.500000      1.000000          1.0  \n",
       "...           ...      ...       ...           ...          ...  \n",
       "673202        IDF  ENGLISH -0.400000      0.600000         -1.0  \n",
       "673203        NaN  ENGLISH -0.033333      0.666667         -1.0  \n",
       "673204        NaN  ENGLISH -0.150000      0.650000         -1.0  \n",
       "673205        NaN  ENGLISH  0.130556      0.233333          1.0  \n",
       "673206        NaN  ENGLISH  0.500000      0.500000          1.0  \n",
       "\n",
       "[673207 rows x 18 columns]"
      ]
     },
     "execution_count": 7,
     "metadata": {},
     "output_type": "execute_result"
    }
   ],
   "source": [
    "trump_df"
   ]
  },
  {
   "cell_type": "code",
   "execution_count": 42,
   "id": "global-furniture",
   "metadata": {},
   "outputs": [],
   "source": [
    "X = trump_df[\"tweet\"]\n",
    "Y = trump_df[\"Sentiment\\r\"]"
   ]
  },
  {
   "cell_type": "code",
   "execution_count": 22,
   "id": "instant-diary",
   "metadata": {},
   "outputs": [],
   "source": [
    "vectorizer = TfidfVectorizer()\n",
    "X_tfid = vectorizer.fit_transform(X)\n"
   ]
  },
  {
   "cell_type": "code",
   "execution_count": 25,
   "id": "textile-equivalent",
   "metadata": {},
   "outputs": [],
   "source": [
    "X_tfid_train, X_tfid_test, Y_tfid_train, Y_tfid_test = train_test_split(X_tfid, Y, test_size=0.33)"
   ]
  },
  {
   "cell_type": "code",
   "execution_count": 27,
   "id": "signed-personality",
   "metadata": {
    "scrolled": true
   },
   "outputs": [],
   "source": [
    "nb = MultinomialNB()\n",
    "nb.fit(X_tfid_train, Y_tfid_train)\n",
    "predictions = nb.predict(X_tfid_test)"
   ]
  },
  {
   "cell_type": "code",
   "execution_count": 29,
   "id": "entertaining-nothing",
   "metadata": {
    "scrolled": true
   },
   "outputs": [
    {
     "name": "stdout",
     "output_type": "stream",
     "text": [
      "Multinomial naive bayes AUC: 0.8162066539512849\n"
     ]
    }
   ],
   "source": [
    "fpr, tpr, thresholds = metrics.roc_curve(Y_tfid_test, predictions, pos_label=1)\n",
    "print(\"Multinomial naive bayes AUC: {0}\".format(metrics.auc(fpr, tpr)))"
   ]
  },
  {
   "cell_type": "code",
   "execution_count": 35,
   "id": "electoral-arbitration",
   "metadata": {},
   "outputs": [
    {
     "name": "stdout",
     "output_type": "stream",
     "text": [
      "accuracy : 0.7760748273010257\n",
      "              precision    recall  f1-score   support\n",
      "\n",
      "        -1.0       0.82      0.60      0.69     50659\n",
      "         0.0       0.90      0.78      0.84     91819\n",
      "         1.0       0.68      0.90      0.77     79681\n",
      "\n",
      "    accuracy                           0.78    222159\n",
      "   macro avg       0.80      0.76      0.77    222159\n",
      "weighted avg       0.80      0.78      0.78    222159\n",
      "\n"
     ]
    }
   ],
   "source": [
    "params = {'alpha': [0.01, 0.1, 0.3, 0.5, 1.0, 10.0],}\n",
    "\n",
    "with tf.device('/GPU:0'):\n",
    "    #logist=LogisticRegression()\n",
    "    nb_cv=GridSearchCV(nb,param_grid=params,cv=5)\n",
    "    nb_cv.fit(X_tfid_train,Y_tfid_train)\n",
    "\n",
    "    #print(\"tuned hpyerparameters :(best parameters) \",logist_cv.best_params_)\n",
    "    print(\"accuracy :\",nb_cv.best_score_)\n",
    "    y_nb_pred = nb_cv.predict(X_tfid_test)\n",
    "    print(classification_report(Y_tfid_test, y_nb_pred))"
   ]
  },
  {
   "cell_type": "code",
   "execution_count": 38,
   "id": "biblical-aggregate",
   "metadata": {},
   "outputs": [
    {
     "data": {
      "text/plain": [
       "<sklearn.metrics._plot.confusion_matrix.ConfusionMatrixDisplay at 0x1843180b760>"
      ]
     },
     "execution_count": 38,
     "metadata": {},
     "output_type": "execute_result"
    },
    {
     "data": {
      "image/png": "[encoded data removed]",
      "text/plain": [
       "<Figure size 432x288 with 2 Axes>"
      ]
     },
     "metadata": {
      "needs_background": "light"
     },
     "output_type": "display_data"
    }
   ],
   "source": [
    "pred_matrix = metrics.confusion_matrix(Y_tfid_test, y_nb_pred)\n",
    "disp1 = ConfusionMatrixDisplay(confusion_matrix=pred_matrix, display_labels=[\"-ve\", \"neu\", \"+ve\"])\n",
    "disp1.plot() "
   ]
  },
  {
   "cell_type": "code",
   "execution_count": 41,
   "id": "dental-danger",
   "metadata": {},
   "outputs": [
    {
     "name": "stdout",
     "output_type": "stream",
     "text": [
      "              precision    recall  f1-score   support\n",
      "\n",
      "        -1.0       0.89      0.67      0.77    153851\n",
      "         0.0       0.93      0.83      0.88    277706\n",
      "         1.0       0.74      0.93      0.82    241650\n",
      "\n",
      "    accuracy                           0.83    673207\n",
      "   macro avg       0.85      0.81      0.82    673207\n",
      "weighted avg       0.85      0.83      0.83    673207\n",
      "\n"
     ]
    }
   ],
   "source": [
    "with tf.device('/GPU:0'):\n",
    "    Y_pred = nb_cv.predict(X)\n",
    "    print(classification_report(Y, Y_pred))"
   ]
  },
  {
   "cell_type": "code",
   "execution_count": 43,
   "id": "developing-representation",
   "metadata": {},
   "outputs": [],
   "source": [
    "from tensorflow.keras.layers import LSTM, Activation, Dense, Dropout, Input, Embedding\n",
    "from tensorflow.keras.models import Model\n",
    "from tensorflow.keras.optimizers import RMSprop\n",
    "from tensorflow.keras.preprocessing.text import Tokenizer\n",
    "from tensorflow.keras.preprocessing import sequence"
   ]
  },
  {
   "cell_type": "code",
   "execution_count": 45,
   "id": "academic-maine",
   "metadata": {},
   "outputs": [],
   "source": [
    "with tf.device('/GPU:0'):\n",
    "    max_len = 500\n",
    "    tok = Tokenizer(num_words=2000)\n",
    "    tok.fit_on_texts(X)\n",
    "    sequences = tok.texts_to_sequences(X)\n",
    "    sequences_matrix = sequence.pad_sequences(sequences,maxlen=max_len)"
   ]
  },
  {
   "cell_type": "code",
   "execution_count": 46,
   "id": "bizarre-beijing",
   "metadata": {},
   "outputs": [],
   "source": [
    "X_tf_train, X_tf_test, Y_tf_train, Y_tf_test = train_test_split(sequences_matrix, Y, test_size=0.3)"
   ]
  },
  {
   "cell_type": "code",
   "execution_count": 54,
   "id": "built-findings",
   "metadata": {},
   "outputs": [],
   "source": [
    "def tensorflow_based_model():\n",
    "    inputs = Input(name='inputs',shape=[max_len])#step1\n",
    "    layer = Embedding(2000,50,input_length=max_len)(inputs) #step2\n",
    "    layer = LSTM(64)(layer) #step3\n",
    "    layer = Dropout(0.5)(layer)\n",
    "    layer = Dense(256,name='FC1')(layer) #step4\n",
    "    layer = Activation('relu')(layer) # step5\n",
    "    layer = Dropout(0.5)(layer) # step6\n",
    "    layer = Dense(1,name='out_layer')(layer) \n",
    "    layer = Activation('selu')(layer) \n",
    "    model = Model(inputs=inputs,outputs=layer) \n",
    "    return model"
   ]
  },
  {
   "cell_type": "code",
   "execution_count": 55,
   "id": "acute-architecture",
   "metadata": {},
   "outputs": [],
   "source": [
    "model = tensorflow_based_model() # here we are calling the function of created model\n",
    "model.compile(loss='mae',optimizer=\"adam\",metrics=['accuracy'])"
   ]
  },
  {
   "cell_type": "code",
   "execution_count": 56,
   "id": "characteristic-warrant",
   "metadata": {},
   "outputs": [
    {
     "name": "stdout",
     "output_type": "stream",
     "text": [
      "Epoch 1/10\n",
      "5302/5302 [==============================] - 155s 29ms/step - loss: 0.2866 - accuracy: 0.6629 - val_loss: 0.1579 - val_accuracy: 0.7245\n",
      "Epoch 2/10\n",
      "5302/5302 [==============================] - 152s 29ms/step - loss: 0.1647 - accuracy: 0.7256 - val_loss: 0.1372 - val_accuracy: 0.7305\n",
      "Epoch 3/10\n",
      "5302/5302 [==============================] - 157s 30ms/step - loss: 0.1579 - accuracy: 0.7274 - val_loss: 0.1378 - val_accuracy: 0.7300\n",
      "Epoch 4/10\n",
      "5302/5302 [==============================] - 154s 29ms/step - loss: 0.1527 - accuracy: 0.7278 - val_loss: 0.1264 - val_accuracy: 0.7297\n",
      "Epoch 5/10\n",
      "5302/5302 [==============================] - 156s 29ms/step - loss: 0.1513 - accuracy: 0.7278 - val_loss: 0.1424 - val_accuracy: 0.7307\n",
      "Epoch 6/10\n",
      "5302/5302 [==============================] - 156s 29ms/step - loss: 0.1487 - accuracy: 0.7283 - val_loss: 0.1317 - val_accuracy: 0.7282\n",
      "Epoch 7/10\n",
      "5302/5302 [==============================] - 155s 29ms/step - loss: 0.1485 - accuracy: 0.7277 - val_loss: 0.1267 - val_accuracy: 0.7305\n",
      "Epoch 8/10\n",
      "5302/5302 [==============================] - 155s 29ms/step - loss: 0.1481 - accuracy: 0.7286 - val_loss: 0.1376 - val_accuracy: 0.7325\n",
      "Epoch 9/10\n",
      "5302/5302 [==============================] - 157s 30ms/step - loss: 0.1467 - accuracy: 0.7286 - val_loss: 0.1331 - val_accuracy: 0.7308\n",
      "Epoch 10/10\n",
      "5302/5302 [==============================] - 157s 30ms/step - loss: 0.1450 - accuracy: 0.7303 - val_loss: 0.1253 - val_accuracy: 0.7315\n"
     ]
    }
   ],
   "source": [
    "with tf.device('/GPU:0'):\n",
    "    history=model.fit(X_tf_train,Y_tf_train,batch_size=80,epochs=10, validation_split=0.1)"
   ]
  },
  {
   "cell_type": "code",
   "execution_count": 62,
   "id": "underlying-description",
   "metadata": {},
   "outputs": [],
   "source": [
    "def tensorflow_based_model2():\n",
    "    inputs = Input(name='inputs',shape=[max_len])#step1\n",
    "    layer = Embedding(2000,50,input_length=max_len)(inputs) #step2\n",
    "    layer = LSTM(64)(layer) #step3\n",
    "    layer = Dropout(0.5)(layer)\n",
    "    layer = Dense(256,name='FC1')(layer) #step4\n",
    "    layer = Activation('relu')(layer) # step5\n",
    "    layer = Dropout(0.5)(layer) # step6\n",
    "    layer = Dense(1,name='out_layer')(layer) \n",
    "    layer = Activation('linear')(layer) \n",
    "    model = Model(inputs=inputs,outputs=layer) \n",
    "    return model\n",
    "model2 = tensorflow_based_model2() # here we are calling the function of created model\n",
    "model2.compile(loss='mae',optimizer=\"adam\",metrics=['accuracy'])"
   ]
  },
  {
   "cell_type": "code",
   "execution_count": 63,
   "id": "sharp-simon",
   "metadata": {},
   "outputs": [
    {
     "name": "stdout",
     "output_type": "stream",
     "text": [
      "Epoch 1/7\n",
      "5302/5302 [==============================] - 156s 29ms/step - loss: 0.2945 - accuracy: 0.6657 - val_loss: 0.1854 - val_accuracy: 0.7290\n",
      "Epoch 2/7\n",
      "5302/5302 [==============================] - 153s 29ms/step - loss: 0.1734 - accuracy: 0.7251 - val_loss: 0.1608 - val_accuracy: 0.7304\n",
      "Epoch 3/7\n",
      "5302/5302 [==============================] - 153s 29ms/step - loss: 0.1630 - accuracy: 0.7262 - val_loss: 0.1454 - val_accuracy: 0.7307\n",
      "Epoch 4/7\n",
      "5302/5302 [==============================] - 153s 29ms/step - loss: 0.1591 - accuracy: 0.7270 - val_loss: 0.1486 - val_accuracy: 0.7312\n",
      "Epoch 5/7\n",
      "5302/5302 [==============================] - 154s 29ms/step - loss: 0.1577 - accuracy: 0.7271 - val_loss: 0.1491 - val_accuracy: 0.7308\n",
      "Epoch 6/7\n",
      "5302/5302 [==============================] - 153s 29ms/step - loss: 0.1558 - accuracy: 0.7282 - val_loss: 0.1354 - val_accuracy: 0.7319\n",
      "Epoch 7/7\n",
      "5302/5302 [==============================] - 152s 29ms/step - loss: 0.1526 - accuracy: 0.7302 - val_loss: 0.1393 - val_accuracy: 0.7283\n"
     ]
    }
   ],
   "source": [
    "with tf.device('/GPU:0'):\n",
    "    history=model2.fit(X_tf_train,Y_tf_train,batch_size=80,epochs=7, validation_split=0.1)"
   ]
  },
  {
   "cell_type": "code",
   "execution_count": 74,
   "id": "worth-fifteen",
   "metadata": {},
   "outputs": [],
   "source": [
    "def tensorflow_based_model3():\n",
    "    inputs = Input(name='inputs',shape=[max_len])#step1\n",
    "    layer = Embedding(2000,50,input_length=max_len)(inputs) #step2\n",
    "    layer = LSTM(64)(layer) #step3\n",
    "    layer = Dense(64, activation='relu')(layer) #step4\n",
    "    layer = Dense(1,name='out_layer')(layer) \n",
    "    model = Model(inputs=inputs,outputs=layer) \n",
    "    return model\n",
    "model3 = tensorflow_based_model3() # here we are calling the function of created model\n",
    "model3.compile(loss='mae',optimizer=\"adam\",metrics=['accuracy'])"
   ]
  },
  {
   "cell_type": "code",
   "execution_count": 75,
   "id": "august-arnold",
   "metadata": {},
   "outputs": [
    {
     "name": "stdout",
     "output_type": "stream",
     "text": [
      "Epoch 1/7\n",
      "5302/5302 [==============================] - 151s 28ms/step - loss: 0.2290 - accuracy: 0.6781 - val_loss: 0.1335 - val_accuracy: 0.7310\n",
      "Epoch 2/7\n",
      "5302/5302 [==============================] - 150s 28ms/step - loss: 0.1293 - accuracy: 0.7249 - val_loss: 0.1268 - val_accuracy: 0.7263\n",
      "Epoch 3/7\n",
      "5302/5302 [==============================] - 149s 28ms/step - loss: 0.1235 - accuracy: 0.7271 - val_loss: 0.1262 - val_accuracy: 0.7309\n",
      "Epoch 4/7\n",
      "5302/5302 [==============================] - 151s 28ms/step - loss: 0.1214 - accuracy: 0.7274 - val_loss: 0.1221 - val_accuracy: 0.7282\n",
      "Epoch 5/7\n",
      "5302/5302 [==============================] - 152s 29ms/step - loss: 0.1186 - accuracy: 0.7270 - val_loss: 0.1200 - val_accuracy: 0.7307\n",
      "Epoch 6/7\n",
      "5302/5302 [==============================] - 152s 29ms/step - loss: 0.1262 - accuracy: 0.7253 - val_loss: 0.1208 - val_accuracy: 0.7288\n",
      "Epoch 7/7\n",
      "5302/5302 [==============================] - 152s 29ms/step - loss: 0.1153 - accuracy: 0.7296 - val_loss: 0.1232 - val_accuracy: 0.7302\n"
     ]
    }
   ],
   "source": [
    "with tf.device('/GPU:0'):\n",
    "    history=model3.fit(X_tf_train,Y_tf_train,batch_size=80,epochs=7, validation_split=0.1)"
   ]
  },
  {
   "cell_type": "markdown",
   "id": "limiting-village",
   "metadata": {},
   "source": [
    "## This fairly naive approach achieves an accuracy of about 87%. With more advanced approaches, the model should get closer to 95%."
   ]
  },
  {
   "cell_type": "code",
   "execution_count": null,
   "id": "sound-ranch",
   "metadata": {},
   "outputs": [],
   "source": []
  }
 ],
 "metadata": {
  "kernelspec": {
   "display_name": "KERNEL_DISPLAY_NAME",
   "language": "python",
   "name": "environment_name"
  },
  "language_info": {
   "codemirror_mode": {
    "name": "ipython",
    "version": 3
   },
   "file_extension": ".py",
   "mimetype": "text/x-python",
   "name": "python",
   "nbconvert_exporter": "python",
   "pygments_lexer": "ipython3",
   "version": "3.8.5"
  }
 },
 "nbformat": 4,
 "nbformat_minor": 5
}

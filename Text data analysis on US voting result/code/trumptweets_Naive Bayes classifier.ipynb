{
 "cells": [
  {
   "cell_type": "code",
   "execution_count": 1,
   "id": "sufficient-performance",
   "metadata": {},
   "outputs": [],
   "source": [
    "import numpy as np\n",
    "import pandas as pd\n",
    "import spacy\n",
    "import re\n",
    "from sklearn.feature_extraction.text import HashingVectorizer\n",
    "from sklearn.pipeline import Pipeline\n",
    "from sklearn.linear_model import LogisticRegression\n",
    "from sklearn.naive_bayes import GaussianNB\n",
    "from sklearn.model_selection import train_test_split\n",
    "from sklearn import metrics\n",
    "from sklearn.metrics import classification_report, ConfusionMatrixDisplay\n",
    "from sklearn.metrics import confusion_matrix\n",
    "import matplotlib.pyplot as plt\n",
    "%matplotlib inline\n",
    "import seaborn as snb\n",
    "from wordcloud import WordCloud, STOPWORDS\n",
    "import math\n",
    "from scipy.stats import chi2_contingency, chisquare, chi2\n",
    "import nltk  \n",
    "from nltk.corpus import stopwords\n",
    "from nltk.tokenize import word_tokenize\n",
    "from nltk.stem import PorterStemmer\n",
    "from nltk.probability import FreqDist\n",
    "from sklearn.naive_bayes import MultinomialNB\n",
    "from sklearn.feature_extraction.text import CountVectorizer\n",
    "from sklearn.feature_extraction.text import TfidfVectorizer \n",
    "from sklearn.model_selection import GridSearchCV\n",
    "import tensorflow as tf"
   ]
  },
  {
   "cell_type": "code",
   "execution_count": 2,
   "id": "wound-bulgarian",
   "metadata": {},
   "outputs": [],
   "source": [
    "trump_df = pd.read_csv('trump_tweet_senti.csv', lineterminator='\\n')"
   ]
  },
  {
   "cell_type": "code",
   "execution_count": 3,
   "id": "worst-lawrence",
   "metadata": {},
   "outputs": [
    {
     "data": {
      "text/html": [
       "<div>\n",
       "<style scoped>\n",
       "    .dataframe tbody tr th:only-of-type {\n",
       "        vertical-align: middle;\n",
       "    }\n",
       "\n",
       "    .dataframe tbody tr th {\n",
       "        vertical-align: top;\n",
       "    }\n",
       "\n",
       "    .dataframe thead th {\n",
       "        text-align: right;\n",
       "    }\n",
       "</style>\n",
       "<table border=\"1\" class=\"dataframe\">\n",
       "  <thead>\n",
       "    <tr style=\"text-align: right;\">\n",
       "      <th></th>\n",
       "      <th>created_at</th>\n",
       "      <th>tweet</th>\n",
       "      <th>likes</th>\n",
       "      <th>retweet_count</th>\n",
       "      <th>source</th>\n",
       "      <th>user_followers_count</th>\n",
       "      <th>user_location</th>\n",
       "      <th>lat</th>\n",
       "      <th>long</th>\n",
       "      <th>city</th>\n",
       "      <th>country</th>\n",
       "      <th>continent</th>\n",
       "      <th>state</th>\n",
       "      <th>state_code</th>\n",
       "      <th>lang</th>\n",
       "      <th>Polarity</th>\n",
       "      <th>Subjectivity</th>\n",
       "      <th>Sentiment\\r</th>\n",
       "    </tr>\n",
       "  </thead>\n",
       "  <tbody>\n",
       "    <tr>\n",
       "      <th>0</th>\n",
       "      <td>2020-10-15 00:00:02</td>\n",
       "      <td>['trump', 'student', 'used', 'hear', 'years', ...</td>\n",
       "      <td>2.0</td>\n",
       "      <td>1.0</td>\n",
       "      <td>Twitter Web App</td>\n",
       "      <td>1185.0</td>\n",
       "      <td>Portland</td>\n",
       "      <td>45.520247</td>\n",
       "      <td>-122.674195</td>\n",
       "      <td>Portland</td>\n",
       "      <td>United States of America</td>\n",
       "      <td>North America</td>\n",
       "      <td>Oregon</td>\n",
       "      <td>OR</td>\n",
       "      <td>ENGLISH</td>\n",
       "      <td>0.333333</td>\n",
       "      <td>0.333333</td>\n",
       "      <td>1.0</td>\n",
       "    </tr>\n",
       "    <tr>\n",
       "      <th>1</th>\n",
       "      <td>2020-10-15 00:00:02</td>\n",
       "      <td>['2', 'hours', 'since', 'last', 'tweet', 'trum...</td>\n",
       "      <td>0.0</td>\n",
       "      <td>0.0</td>\n",
       "      <td>Trumpytweeter</td>\n",
       "      <td>32.0</td>\n",
       "      <td>NaN</td>\n",
       "      <td>NaN</td>\n",
       "      <td>NaN</td>\n",
       "      <td>NaN</td>\n",
       "      <td>NaN</td>\n",
       "      <td>NaN</td>\n",
       "      <td>NaN</td>\n",
       "      <td>NaN</td>\n",
       "      <td>ENGLISH</td>\n",
       "      <td>0.066667</td>\n",
       "      <td>0.222222</td>\n",
       "      <td>1.0</td>\n",
       "    </tr>\n",
       "    <tr>\n",
       "      <th>2</th>\n",
       "      <td>2020-10-15 00:00:08</td>\n",
       "      <td>['get', 'tie', 'get', 'tie', 'trump', 'rally',...</td>\n",
       "      <td>4.0</td>\n",
       "      <td>3.0</td>\n",
       "      <td>Twitter for iPhone</td>\n",
       "      <td>5393.0</td>\n",
       "      <td>Washington DC</td>\n",
       "      <td>38.894992</td>\n",
       "      <td>-77.036558</td>\n",
       "      <td>Washington</td>\n",
       "      <td>United States of America</td>\n",
       "      <td>North America</td>\n",
       "      <td>District of Columbia</td>\n",
       "      <td>DC</td>\n",
       "      <td>ENGLISH</td>\n",
       "      <td>0.000000</td>\n",
       "      <td>0.000000</td>\n",
       "      <td>0.0</td>\n",
       "    </tr>\n",
       "    <tr>\n",
       "      <th>3</th>\n",
       "      <td>2020-10-15 00:00:17</td>\n",
       "      <td>['15', 'minutes', 'long', 'time', 'ago', 'omar...</td>\n",
       "      <td>2.0</td>\n",
       "      <td>0.0</td>\n",
       "      <td>Twitter for Android</td>\n",
       "      <td>2363.0</td>\n",
       "      <td>Perris,California</td>\n",
       "      <td>33.782519</td>\n",
       "      <td>-117.228648</td>\n",
       "      <td>NaN</td>\n",
       "      <td>United States of America</td>\n",
       "      <td>North America</td>\n",
       "      <td>California</td>\n",
       "      <td>CA</td>\n",
       "      <td>ENGLISH</td>\n",
       "      <td>-0.108333</td>\n",
       "      <td>0.416667</td>\n",
       "      <td>-1.0</td>\n",
       "    </tr>\n",
       "    <tr>\n",
       "      <th>4</th>\n",
       "      <td>2020-10-15 00:00:17</td>\n",
       "      <td>['glad', 'u', 'got', 'house', 'dicktrump', '20...</td>\n",
       "      <td>0.0</td>\n",
       "      <td>0.0</td>\n",
       "      <td>Twitter for iPhone</td>\n",
       "      <td>75.0</td>\n",
       "      <td>Powell, TN</td>\n",
       "      <td>NaN</td>\n",
       "      <td>NaN</td>\n",
       "      <td>NaN</td>\n",
       "      <td>NaN</td>\n",
       "      <td>NaN</td>\n",
       "      <td>NaN</td>\n",
       "      <td>NaN</td>\n",
       "      <td>ENGLISH</td>\n",
       "      <td>0.500000</td>\n",
       "      <td>1.000000</td>\n",
       "      <td>1.0</td>\n",
       "    </tr>\n",
       "    <tr>\n",
       "      <th>...</th>\n",
       "      <td>...</td>\n",
       "      <td>...</td>\n",
       "      <td>...</td>\n",
       "      <td>...</td>\n",
       "      <td>...</td>\n",
       "      <td>...</td>\n",
       "      <td>...</td>\n",
       "      <td>...</td>\n",
       "      <td>...</td>\n",
       "      <td>...</td>\n",
       "      <td>...</td>\n",
       "      <td>...</td>\n",
       "      <td>...</td>\n",
       "      <td>...</td>\n",
       "      <td>...</td>\n",
       "      <td>...</td>\n",
       "      <td>...</td>\n",
       "      <td>...</td>\n",
       "    </tr>\n",
       "    <tr>\n",
       "      <th>673202</th>\n",
       "      <td>2020-11-08 23:59:38</td>\n",
       "      <td>['stop', 'laying', 'paris', 'london', 'dont', ...</td>\n",
       "      <td>0.0</td>\n",
       "      <td>0.0</td>\n",
       "      <td>Twitter for iPhone</td>\n",
       "      <td>27.0</td>\n",
       "      <td>PARIS</td>\n",
       "      <td>48.856697</td>\n",
       "      <td>2.351462</td>\n",
       "      <td>Paris</td>\n",
       "      <td>France</td>\n",
       "      <td>Europe</td>\n",
       "      <td>Ile-de-France</td>\n",
       "      <td>IDF</td>\n",
       "      <td>ENGLISH</td>\n",
       "      <td>-0.400000</td>\n",
       "      <td>0.600000</td>\n",
       "      <td>-1.0</td>\n",
       "    </tr>\n",
       "    <tr>\n",
       "      <th>673203</th>\n",
       "      <td>2020-11-08 23:59:42</td>\n",
       "      <td>['earlier', 'week', 'got', 'rid', 'trump', 'to...</td>\n",
       "      <td>7.0</td>\n",
       "      <td>0.0</td>\n",
       "      <td>Twitter Web App</td>\n",
       "      <td>50.0</td>\n",
       "      <td>NaN</td>\n",
       "      <td>NaN</td>\n",
       "      <td>NaN</td>\n",
       "      <td>NaN</td>\n",
       "      <td>NaN</td>\n",
       "      <td>NaN</td>\n",
       "      <td>NaN</td>\n",
       "      <td>NaN</td>\n",
       "      <td>ENGLISH</td>\n",
       "      <td>-0.033333</td>\n",
       "      <td>0.666667</td>\n",
       "      <td>-1.0</td>\n",
       "    </tr>\n",
       "    <tr>\n",
       "      <th>673204</th>\n",
       "      <td>2020-11-08 23:59:48</td>\n",
       "      <td>['joe', 'biden', 'joe', 'biden', 'winned', 'tr...</td>\n",
       "      <td>4.0</td>\n",
       "      <td>0.0</td>\n",
       "      <td>Twitter Web App</td>\n",
       "      <td>19.0</td>\n",
       "      <td>NaN</td>\n",
       "      <td>NaN</td>\n",
       "      <td>NaN</td>\n",
       "      <td>NaN</td>\n",
       "      <td>NaN</td>\n",
       "      <td>NaN</td>\n",
       "      <td>NaN</td>\n",
       "      <td>NaN</td>\n",
       "      <td>ENGLISH</td>\n",
       "      <td>-0.150000</td>\n",
       "      <td>0.650000</td>\n",
       "      <td>-1.0</td>\n",
       "    </tr>\n",
       "    <tr>\n",
       "      <th>673205</th>\n",
       "      <td>2020-11-08 23:59:54</td>\n",
       "      <td>['first', 'would', 'need', 'compare', 'previou...</td>\n",
       "      <td>0.0</td>\n",
       "      <td>0.0</td>\n",
       "      <td>Twitter for iPad</td>\n",
       "      <td>1079.0</td>\n",
       "      <td>NaN</td>\n",
       "      <td>NaN</td>\n",
       "      <td>NaN</td>\n",
       "      <td>NaN</td>\n",
       "      <td>NaN</td>\n",
       "      <td>NaN</td>\n",
       "      <td>NaN</td>\n",
       "      <td>NaN</td>\n",
       "      <td>ENGLISH</td>\n",
       "      <td>0.130556</td>\n",
       "      <td>0.233333</td>\n",
       "      <td>1.0</td>\n",
       "    </tr>\n",
       "    <tr>\n",
       "      <th>673206</th>\n",
       "      <td>2020-11-08 23:59:55</td>\n",
       "      <td>['ok', 'trump', 'catapulttrump']</td>\n",
       "      <td>105.0</td>\n",
       "      <td>28.0</td>\n",
       "      <td>Twitter Web App</td>\n",
       "      <td>12192.0</td>\n",
       "      <td>✔ Official Twitter Account</td>\n",
       "      <td>NaN</td>\n",
       "      <td>NaN</td>\n",
       "      <td>NaN</td>\n",
       "      <td>NaN</td>\n",
       "      <td>NaN</td>\n",
       "      <td>NaN</td>\n",
       "      <td>NaN</td>\n",
       "      <td>ENGLISH</td>\n",
       "      <td>0.500000</td>\n",
       "      <td>0.500000</td>\n",
       "      <td>1.0</td>\n",
       "    </tr>\n",
       "  </tbody>\n",
       "</table>\n",
       "<p>673207 rows × 18 columns</p>\n",
       "</div>"
      ],
      "text/plain": [
       "                 created_at  \\\n",
       "0       2020-10-15 00:00:02   \n",
       "1       2020-10-15 00:00:02   \n",
       "2       2020-10-15 00:00:08   \n",
       "3       2020-10-15 00:00:17   \n",
       "4       2020-10-15 00:00:17   \n",
       "...                     ...   \n",
       "673202  2020-11-08 23:59:38   \n",
       "673203  2020-11-08 23:59:42   \n",
       "673204  2020-11-08 23:59:48   \n",
       "673205  2020-11-08 23:59:54   \n",
       "673206  2020-11-08 23:59:55   \n",
       "\n",
       "                                                    tweet  likes  \\\n",
       "0       ['trump', 'student', 'used', 'hear', 'years', ...    2.0   \n",
       "1       ['2', 'hours', 'since', 'last', 'tweet', 'trum...    0.0   \n",
       "2       ['get', 'tie', 'get', 'tie', 'trump', 'rally',...    4.0   \n",
       "3       ['15', 'minutes', 'long', 'time', 'ago', 'omar...    2.0   \n",
       "4       ['glad', 'u', 'got', 'house', 'dicktrump', '20...    0.0   \n",
       "...                                                   ...    ...   \n",
       "673202  ['stop', 'laying', 'paris', 'london', 'dont', ...    0.0   \n",
       "673203  ['earlier', 'week', 'got', 'rid', 'trump', 'to...    7.0   \n",
       "673204  ['joe', 'biden', 'joe', 'biden', 'winned', 'tr...    4.0   \n",
       "673205  ['first', 'would', 'need', 'compare', 'previou...    0.0   \n",
       "673206                   ['ok', 'trump', 'catapulttrump']  105.0   \n",
       "\n",
       "        retweet_count               source  user_followers_count  \\\n",
       "0                 1.0      Twitter Web App                1185.0   \n",
       "1                 0.0        Trumpytweeter                  32.0   \n",
       "2                 3.0   Twitter for iPhone                5393.0   \n",
       "3                 0.0  Twitter for Android                2363.0   \n",
       "4                 0.0   Twitter for iPhone                  75.0   \n",
       "...               ...                  ...                   ...   \n",
       "673202            0.0   Twitter for iPhone                  27.0   \n",
       "673203            0.0      Twitter Web App                  50.0   \n",
       "673204            0.0      Twitter Web App                  19.0   \n",
       "673205            0.0     Twitter for iPad                1079.0   \n",
       "673206           28.0      Twitter Web App               12192.0   \n",
       "\n",
       "                     user_location        lat        long        city  \\\n",
       "0                         Portland  45.520247 -122.674195    Portland   \n",
       "1                              NaN        NaN         NaN         NaN   \n",
       "2                    Washington DC  38.894992  -77.036558  Washington   \n",
       "3                Perris,California  33.782519 -117.228648         NaN   \n",
       "4                       Powell, TN        NaN         NaN         NaN   \n",
       "...                            ...        ...         ...         ...   \n",
       "673202                       PARIS  48.856697    2.351462       Paris   \n",
       "673203                         NaN        NaN         NaN         NaN   \n",
       "673204                         NaN        NaN         NaN         NaN   \n",
       "673205                         NaN        NaN         NaN         NaN   \n",
       "673206  ✔ Official Twitter Account        NaN         NaN         NaN   \n",
       "\n",
       "                         country      continent                 state  \\\n",
       "0       United States of America  North America                Oregon   \n",
       "1                            NaN            NaN                   NaN   \n",
       "2       United States of America  North America  District of Columbia   \n",
       "3       United States of America  North America            California   \n",
       "4                            NaN            NaN                   NaN   \n",
       "...                          ...            ...                   ...   \n",
       "673202                    France         Europe         Ile-de-France   \n",
       "673203                       NaN            NaN                   NaN   \n",
       "673204                       NaN            NaN                   NaN   \n",
       "673205                       NaN            NaN                   NaN   \n",
       "673206                       NaN            NaN                   NaN   \n",
       "\n",
       "       state_code     lang  Polarity  Subjectivity  Sentiment\\r  \n",
       "0              OR  ENGLISH  0.333333      0.333333          1.0  \n",
       "1             NaN  ENGLISH  0.066667      0.222222          1.0  \n",
       "2              DC  ENGLISH  0.000000      0.000000          0.0  \n",
       "3              CA  ENGLISH -0.108333      0.416667         -1.0  \n",
       "4             NaN  ENGLISH  0.500000      1.000000          1.0  \n",
       "...           ...      ...       ...           ...          ...  \n",
       "673202        IDF  ENGLISH -0.400000      0.600000         -1.0  \n",
       "673203        NaN  ENGLISH -0.033333      0.666667         -1.0  \n",
       "673204        NaN  ENGLISH -0.150000      0.650000         -1.0  \n",
       "673205        NaN  ENGLISH  0.130556      0.233333          1.0  \n",
       "673206        NaN  ENGLISH  0.500000      0.500000          1.0  \n",
       "\n",
       "[673207 rows x 18 columns]"
      ]
     },
     "execution_count": 3,
     "metadata": {},
     "output_type": "execute_result"
    }
   ],
   "source": [
    "trump_df"
   ]
  },
  {
   "cell_type": "code",
   "execution_count": 4,
   "id": "persistent-luxury",
   "metadata": {},
   "outputs": [
    {
     "data": {
      "text/plain": [
       "(277706, 18)"
      ]
     },
     "execution_count": 4,
     "metadata": {},
     "output_type": "execute_result"
    }
   ],
   "source": [
    "reviews1 = trump_df[trump_df['Polarity'] == 0.0000]\n",
    "reviews1.shape"
   ]
  },
  {
   "cell_type": "markdown",
   "id": "female-inspiration",
   "metadata": {},
   "source": [
    "neutral statements are of size 277706.which is quite large, we will drop them all"
   ]
  },
  {
   "cell_type": "code",
   "execution_count": 5,
   "id": "powerful-portsmouth",
   "metadata": {},
   "outputs": [
    {
     "data": {
      "text/plain": [
       "(395501, 18)"
      ]
     },
     "execution_count": 5,
     "metadata": {},
     "output_type": "execute_result"
    }
   ],
   "source": [
    "cond1=trump_df['Polarity'].isin(reviews1['Polarity'])\n",
    "trump_df.drop(trump_df[cond1].index, inplace = True)\n",
    "trump_df.shape"
   ]
  },
  {
   "cell_type": "code",
   "execution_count": 6,
   "id": "cognitive-shore",
   "metadata": {},
   "outputs": [],
   "source": [
    "X = trump_df[\"tweet\"]\n",
    "Y = trump_df[\"Sentiment\\r\"]"
   ]
  },
  {
   "cell_type": "code",
   "execution_count": 7,
   "id": "engaging-chemical",
   "metadata": {},
   "outputs": [],
   "source": [
    "vectorizer = TfidfVectorizer()\n",
    "X_tfid = vectorizer.fit_transform(X)"
   ]
  },
  {
   "cell_type": "code",
   "execution_count": 8,
   "id": "governing-geography",
   "metadata": {},
   "outputs": [],
   "source": [
    "X_tfid_train, X_tfid_test, Y_tfid_train, Y_tfid_test = train_test_split(X_tfid, Y, test_size=0.33)"
   ]
  },
  {
   "cell_type": "code",
   "execution_count": 9,
   "id": "capable-fleece",
   "metadata": {},
   "outputs": [
    {
     "name": "stdout",
     "output_type": "stream",
     "text": [
      "tuned hpyerparameters :(best parameters)  {'alpha': 0.1}\n",
      "accuracy : 0.8213747947997057\n",
      "              precision    recall  f1-score   support\n",
      "\n",
      "        -1.0       0.84      0.68      0.75     50637\n",
      "         1.0       0.82      0.92      0.86     79879\n",
      "\n",
      "    accuracy                           0.82    130516\n",
      "   macro avg       0.83      0.80      0.81    130516\n",
      "weighted avg       0.83      0.82      0.82    130516\n",
      "\n"
     ]
    }
   ],
   "source": [
    "params = {'alpha': [0.01, 0.1, 0.3, 0.5, 1.0, 10.0],}\n",
    "nb = MultinomialNB()\n",
    "with tf.device('/GPU:0'):\n",
    "    #logist=LogisticRegression()\n",
    "    nb_cv=GridSearchCV(nb,param_grid=params,cv=5)\n",
    "    nb_cv.fit(X_tfid_train,Y_tfid_train)\n",
    "\n",
    "    print(\"tuned hpyerparameters :(best parameters) \",nb_cv.best_params_)\n",
    "    print(\"accuracy :\",nb_cv.best_score_)\n",
    "    y_nb_pred = nb_cv.predict(X_tfid_test)\n",
    "    print(classification_report(Y_tfid_test, y_nb_pred))"
   ]
  },
  {
   "cell_type": "code",
   "execution_count": 10,
   "id": "certified-suite",
   "metadata": {},
   "outputs": [
    {
     "data": {
      "text/plain": [
       "<sklearn.metrics._plot.confusion_matrix.ConfusionMatrixDisplay at 0x15832f97ac0>"
      ]
     },
     "execution_count": 10,
     "metadata": {},
     "output_type": "execute_result"
    },
    {
     "data": {
      "image/png": "[encoded data removed]",
      "text/plain": [
       "<Figure size 432x288 with 2 Axes>"
      ]
     },
     "metadata": {
      "needs_background": "light"
     },
     "output_type": "display_data"
    }
   ],
   "source": [
    "test_matrix = metrics.confusion_matrix(Y_tfid_test, y_nb_pred)\n",
    "disp1 = ConfusionMatrixDisplay(confusion_matrix=test_matrix, display_labels=[\"-ve\",\"+ve\"])\n",
    "disp1.plot() "
   ]
  },
  {
   "cell_type": "code",
   "execution_count": 11,
   "id": "brutal-powder",
   "metadata": {},
   "outputs": [
    {
     "name": "stdout",
     "output_type": "stream",
     "text": [
      "              precision    recall  f1-score   support\n",
      "\n",
      "        -1.0       0.91      0.76      0.83    153851\n",
      "         1.0       0.86      0.95      0.91    241650\n",
      "\n",
      "    accuracy                           0.88    395501\n",
      "   macro avg       0.89      0.86      0.87    395501\n",
      "weighted avg       0.88      0.88      0.88    395501\n",
      "\n"
     ]
    }
   ],
   "source": [
    "with tf.device('/GPU:0'):\n",
    "    Y_pred = nb_cv.predict(X_tfid)\n",
    "    print(classification_report(Y, Y_pred))"
   ]
  },
  {
   "cell_type": "code",
   "execution_count": 12,
   "id": "complete-peeing",
   "metadata": {},
   "outputs": [
    {
     "data": {
      "text/plain": [
       "<sklearn.metrics._plot.confusion_matrix.ConfusionMatrixDisplay at 0x15888e99ee0>"
      ]
     },
     "execution_count": 12,
     "metadata": {},
     "output_type": "execute_result"
    },
    {
     "data": {
      "image/png": "[encoded data removed]",
      "text/plain": [
       "<Figure size 432x288 with 2 Axes>"
      ]
     },
     "metadata": {
      "needs_background": "light"
     },
     "output_type": "display_data"
    }
   ],
   "source": [
    "pred_matrix = metrics.confusion_matrix(Y, Y_pred)\n",
    "disp2 = ConfusionMatrixDisplay(confusion_matrix=pred_matrix, display_labels=[\"-ve\",\"+ve\"])\n",
    "disp2.plot() "
   ]
  },
  {
   "cell_type": "code",
   "execution_count": null,
   "id": "understood-obligation",
   "metadata": {},
   "outputs": [],
   "source": []
  }
 ],
 "metadata": {
  "kernelspec": {
   "display_name": "KERNEL_DISPLAY_NAME",
   "language": "python",
   "name": "environment_name"
  },
  "language_info": {
   "codemirror_mode": {
    "name": "ipython",
    "version": 3
   },
   "file_extension": ".py",
   "mimetype": "text/x-python",
   "name": "python",
   "nbconvert_exporter": "python",
   "pygments_lexer": "ipython3",
   "version": "3.8.5"
  }
 },
 "nbformat": 4,
 "nbformat_minor": 5
}

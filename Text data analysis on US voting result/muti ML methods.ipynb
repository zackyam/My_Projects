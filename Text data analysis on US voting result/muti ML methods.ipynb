{
 "cells": [
  {
   "cell_type": "code",
   "execution_count": 87,
   "id": "occupied-responsibility",
   "metadata": {},
   "outputs": [],
   "source": [
    "import numpy as np\n",
    "import pandas as pd\n",
    "import seaborn as sns\n",
    "import matplotlib.pyplot as plt\n",
    "from sklearn.metrics import classification_report, ConfusionMatrixDisplay\n",
    "from sklearn.model_selection import train_test_split\n",
    "from sklearn import metrics\n",
    "from sklearn.model_selection import GridSearchCV\n",
    "from sklearn.linear_model import LinearRegression, Ridge, Lasso\n",
    "from sklearn.neighbors import KNeighborsClassifier\n",
    "from sklearn.linear_model import LogisticRegression\n",
    "from sklearn import tree\n",
    "from sklearn.svm import SVC\n",
    "import statsmodels.api as sm\n",
    "from sklearn import preprocessing\n",
    "from sklearn.tree import DecisionTreeClassifier, plot_tree\n",
    "from sklearn import decomposition\n",
    "from sklearn import preprocessing\n",
    "from sklearn.decomposition import KernelPCA\n",
    "from sklearn.discriminant_analysis import LinearDiscriminantAnalysis as LDA\n",
    "from sklearn.preprocessing import StandardScaler\n",
    "\n",
    "\n"
   ]
  },
  {
   "cell_type": "markdown",
   "id": "healthy-tenant",
   "metadata": {},
   "source": [
    "## Cleaning Dataset"
   ]
  },
  {
   "cell_type": "code",
   "execution_count": 88,
   "id": "covered-channels",
   "metadata": {},
   "outputs": [],
   "source": [
    "data = pd.read_csv(\"final_df.csv\", thousands=',', decimal='.')"
   ]
  },
  {
   "cell_type": "code",
   "execution_count": 89,
   "id": "black-metadata",
   "metadata": {
    "scrolled": true
   },
   "outputs": [],
   "source": [
    "data = data.set_index(\"FIPS Code\")"
   ]
  },
  {
   "cell_type": "code",
   "execution_count": 90,
   "id": "vocational-constitutional",
   "metadata": {},
   "outputs": [],
   "source": [
    "data.index.name = None"
   ]
  },
  {
   "cell_type": "code",
   "execution_count": 91,
   "id": "reduced-gibson",
   "metadata": {},
   "outputs": [],
   "source": [
    "data.dropna(axis='columns',inplace=True)"
   ]
  },
  {
   "cell_type": "code",
   "execution_count": 92,
   "id": "young-aurora",
   "metadata": {
    "scrolled": true
   },
   "outputs": [
    {
     "data": {
      "text/html": [
       "<div>\n",
       "<style scoped>\n",
       "    .dataframe tbody tr th:only-of-type {\n",
       "        vertical-align: middle;\n",
       "    }\n",
       "\n",
       "    .dataframe tbody tr th {\n",
       "        vertical-align: top;\n",
       "    }\n",
       "\n",
       "    .dataframe thead th {\n",
       "        text-align: right;\n",
       "    }\n",
       "</style>\n",
       "<table border=\"1\" class=\"dataframe\">\n",
       "  <thead>\n",
       "    <tr style=\"text-align: right;\">\n",
       "      <th></th>\n",
       "      <th>Rep2020</th>\n",
       "      <th>Rep2016</th>\n",
       "      <th>Less than a high school diploma, 2015-19</th>\n",
       "      <th>High school diploma only, 2015-19</th>\n",
       "      <th>Some college or associate's degree, 2015-19</th>\n",
       "      <th>Bachelor's degree or higher, 2015-19</th>\n",
       "      <th>Percent of adults with less than a high school diploma, 2015-19</th>\n",
       "      <th>Percent of adults with a high school diploma only, 2015-19</th>\n",
       "      <th>Percent of adults completing some college or associate's degree, 2015-19</th>\n",
       "      <th>Percent of adults with a bachelor's degree or higher, 2015-19</th>\n",
       "      <th>...</th>\n",
       "      <th>CI90UB517P_2019</th>\n",
       "      <th>MEDHHINC_2019</th>\n",
       "      <th>CI90LBINC_2019</th>\n",
       "      <th>CI90UBINC_2019</th>\n",
       "      <th>Civilian_labor_force_2019</th>\n",
       "      <th>Employed_2019</th>\n",
       "      <th>Unemployed_2019</th>\n",
       "      <th>Unemployment_rate_2019</th>\n",
       "      <th>Median_Household_Income_2019</th>\n",
       "      <th>Med_HH_Income_Percent_of_State_Total_2019</th>\n",
       "    </tr>\n",
       "  </thead>\n",
       "  <tbody>\n",
       "    <tr>\n",
       "      <th>1001</th>\n",
       "      <td>1</td>\n",
       "      <td>1</td>\n",
       "      <td>4291</td>\n",
       "      <td>12551</td>\n",
       "      <td>10596</td>\n",
       "      <td>9929</td>\n",
       "      <td>11.5</td>\n",
       "      <td>33.6</td>\n",
       "      <td>28.4</td>\n",
       "      <td>26.6</td>\n",
       "      <td>...</td>\n",
       "      <td>19.4</td>\n",
       "      <td>58233</td>\n",
       "      <td>52517</td>\n",
       "      <td>63949</td>\n",
       "      <td>26172</td>\n",
       "      <td>25458</td>\n",
       "      <td>714</td>\n",
       "      <td>2.7</td>\n",
       "      <td>58233</td>\n",
       "      <td>112.5</td>\n",
       "    </tr>\n",
       "    <tr>\n",
       "      <th>1003</th>\n",
       "      <td>1</td>\n",
       "      <td>1</td>\n",
       "      <td>13893</td>\n",
       "      <td>41797</td>\n",
       "      <td>47274</td>\n",
       "      <td>48148</td>\n",
       "      <td>9.2</td>\n",
       "      <td>27.7</td>\n",
       "      <td>31.3</td>\n",
       "      <td>31.9</td>\n",
       "      <td>...</td>\n",
       "      <td>17.2</td>\n",
       "      <td>59871</td>\n",
       "      <td>54593</td>\n",
       "      <td>65149</td>\n",
       "      <td>97328</td>\n",
       "      <td>94675</td>\n",
       "      <td>2653</td>\n",
       "      <td>2.7</td>\n",
       "      <td>59871</td>\n",
       "      <td>115.6</td>\n",
       "    </tr>\n",
       "    <tr>\n",
       "      <th>1005</th>\n",
       "      <td>1</td>\n",
       "      <td>1</td>\n",
       "      <td>4812</td>\n",
       "      <td>6396</td>\n",
       "      <td>4676</td>\n",
       "      <td>2080</td>\n",
       "      <td>26.8</td>\n",
       "      <td>35.6</td>\n",
       "      <td>26.0</td>\n",
       "      <td>11.6</td>\n",
       "      <td>...</td>\n",
       "      <td>49.0</td>\n",
       "      <td>35972</td>\n",
       "      <td>31822</td>\n",
       "      <td>40122</td>\n",
       "      <td>8537</td>\n",
       "      <td>8213</td>\n",
       "      <td>324</td>\n",
       "      <td>3.8</td>\n",
       "      <td>35972</td>\n",
       "      <td>69.5</td>\n",
       "    </tr>\n",
       "    <tr>\n",
       "      <th>1007</th>\n",
       "      <td>1</td>\n",
       "      <td>1</td>\n",
       "      <td>3386</td>\n",
       "      <td>7256</td>\n",
       "      <td>3848</td>\n",
       "      <td>1678</td>\n",
       "      <td>20.9</td>\n",
       "      <td>44.9</td>\n",
       "      <td>23.8</td>\n",
       "      <td>10.4</td>\n",
       "      <td>...</td>\n",
       "      <td>32.7</td>\n",
       "      <td>47918</td>\n",
       "      <td>42291</td>\n",
       "      <td>53545</td>\n",
       "      <td>8685</td>\n",
       "      <td>8419</td>\n",
       "      <td>266</td>\n",
       "      <td>3.1</td>\n",
       "      <td>47918</td>\n",
       "      <td>92.6</td>\n",
       "    </tr>\n",
       "    <tr>\n",
       "      <th>1009</th>\n",
       "      <td>1</td>\n",
       "      <td>1</td>\n",
       "      <td>7763</td>\n",
       "      <td>13299</td>\n",
       "      <td>13519</td>\n",
       "      <td>5210</td>\n",
       "      <td>19.5</td>\n",
       "      <td>33.4</td>\n",
       "      <td>34.0</td>\n",
       "      <td>13.1</td>\n",
       "      <td>...</td>\n",
       "      <td>25.8</td>\n",
       "      <td>52902</td>\n",
       "      <td>46777</td>\n",
       "      <td>59027</td>\n",
       "      <td>25331</td>\n",
       "      <td>24655</td>\n",
       "      <td>676</td>\n",
       "      <td>2.7</td>\n",
       "      <td>52902</td>\n",
       "      <td>102.2</td>\n",
       "    </tr>\n",
       "    <tr>\n",
       "      <th>...</th>\n",
       "      <td>...</td>\n",
       "      <td>...</td>\n",
       "      <td>...</td>\n",
       "      <td>...</td>\n",
       "      <td>...</td>\n",
       "      <td>...</td>\n",
       "      <td>...</td>\n",
       "      <td>...</td>\n",
       "      <td>...</td>\n",
       "      <td>...</td>\n",
       "      <td>...</td>\n",
       "      <td>...</td>\n",
       "      <td>...</td>\n",
       "      <td>...</td>\n",
       "      <td>...</td>\n",
       "      <td>...</td>\n",
       "      <td>...</td>\n",
       "      <td>...</td>\n",
       "      <td>...</td>\n",
       "      <td>...</td>\n",
       "      <td>...</td>\n",
       "    </tr>\n",
       "    <tr>\n",
       "      <th>56037</th>\n",
       "      <td>1</td>\n",
       "      <td>1</td>\n",
       "      <td>2017</td>\n",
       "      <td>9239</td>\n",
       "      <td>10415</td>\n",
       "      <td>6291</td>\n",
       "      <td>7.2</td>\n",
       "      <td>33.0</td>\n",
       "      <td>37.2</td>\n",
       "      <td>22.5</td>\n",
       "      <td>...</td>\n",
       "      <td>11.1</td>\n",
       "      <td>80639</td>\n",
       "      <td>73437</td>\n",
       "      <td>87841</td>\n",
       "      <td>21274</td>\n",
       "      <td>20446</td>\n",
       "      <td>828</td>\n",
       "      <td>3.9</td>\n",
       "      <td>80639</td>\n",
       "      <td>121.9</td>\n",
       "    </tr>\n",
       "    <tr>\n",
       "      <th>56039</th>\n",
       "      <td>0</td>\n",
       "      <td>0</td>\n",
       "      <td>834</td>\n",
       "      <td>2577</td>\n",
       "      <td>4037</td>\n",
       "      <td>9875</td>\n",
       "      <td>4.8</td>\n",
       "      <td>14.9</td>\n",
       "      <td>23.3</td>\n",
       "      <td>57.0</td>\n",
       "      <td>...</td>\n",
       "      <td>6.7</td>\n",
       "      <td>98837</td>\n",
       "      <td>86531</td>\n",
       "      <td>111143</td>\n",
       "      <td>15575</td>\n",
       "      <td>15151</td>\n",
       "      <td>424</td>\n",
       "      <td>2.7</td>\n",
       "      <td>98837</td>\n",
       "      <td>149.4</td>\n",
       "    </tr>\n",
       "    <tr>\n",
       "      <th>56041</th>\n",
       "      <td>1</td>\n",
       "      <td>1</td>\n",
       "      <td>941</td>\n",
       "      <td>5383</td>\n",
       "      <td>4562</td>\n",
       "      <td>2078</td>\n",
       "      <td>7.3</td>\n",
       "      <td>41.5</td>\n",
       "      <td>35.2</td>\n",
       "      <td>16.0</td>\n",
       "      <td>...</td>\n",
       "      <td>11.1</td>\n",
       "      <td>70756</td>\n",
       "      <td>63191</td>\n",
       "      <td>78321</td>\n",
       "      <td>9035</td>\n",
       "      <td>8682</td>\n",
       "      <td>353</td>\n",
       "      <td>3.9</td>\n",
       "      <td>70756</td>\n",
       "      <td>107.0</td>\n",
       "    </tr>\n",
       "    <tr>\n",
       "      <th>56043</th>\n",
       "      <td>1</td>\n",
       "      <td>1</td>\n",
       "      <td>568</td>\n",
       "      <td>1650</td>\n",
       "      <td>2031</td>\n",
       "      <td>1297</td>\n",
       "      <td>10.2</td>\n",
       "      <td>29.8</td>\n",
       "      <td>36.6</td>\n",
       "      <td>23.4</td>\n",
       "      <td>...</td>\n",
       "      <td>17.4</td>\n",
       "      <td>55122</td>\n",
       "      <td>50050</td>\n",
       "      <td>60194</td>\n",
       "      <td>3941</td>\n",
       "      <td>3786</td>\n",
       "      <td>155</td>\n",
       "      <td>3.9</td>\n",
       "      <td>55122</td>\n",
       "      <td>83.3</td>\n",
       "    </tr>\n",
       "    <tr>\n",
       "      <th>56045</th>\n",
       "      <td>1</td>\n",
       "      <td>1</td>\n",
       "      <td>323</td>\n",
       "      <td>1904</td>\n",
       "      <td>1844</td>\n",
       "      <td>1016</td>\n",
       "      <td>6.3</td>\n",
       "      <td>37.4</td>\n",
       "      <td>36.2</td>\n",
       "      <td>20.0</td>\n",
       "      <td>...</td>\n",
       "      <td>16.7</td>\n",
       "      <td>59410</td>\n",
       "      <td>52275</td>\n",
       "      <td>66545</td>\n",
       "      <td>3811</td>\n",
       "      <td>3701</td>\n",
       "      <td>110</td>\n",
       "      <td>2.9</td>\n",
       "      <td>59410</td>\n",
       "      <td>89.8</td>\n",
       "    </tr>\n",
       "  </tbody>\n",
       "</table>\n",
       "<p>3111 rows × 51 columns</p>\n",
       "</div>"
      ],
      "text/plain": [
       "       Rep2020  Rep2016  Less than a high school diploma, 2015-19  \\\n",
       "1001         1        1                                      4291   \n",
       "1003         1        1                                     13893   \n",
       "1005         1        1                                      4812   \n",
       "1007         1        1                                      3386   \n",
       "1009         1        1                                      7763   \n",
       "...        ...      ...                                       ...   \n",
       "56037        1        1                                      2017   \n",
       "56039        0        0                                       834   \n",
       "56041        1        1                                       941   \n",
       "56043        1        1                                       568   \n",
       "56045        1        1                                       323   \n",
       "\n",
       "       High school diploma only, 2015-19  \\\n",
       "1001                               12551   \n",
       "1003                               41797   \n",
       "1005                                6396   \n",
       "1007                                7256   \n",
       "1009                               13299   \n",
       "...                                  ...   \n",
       "56037                               9239   \n",
       "56039                               2577   \n",
       "56041                               5383   \n",
       "56043                               1650   \n",
       "56045                               1904   \n",
       "\n",
       "       Some college or associate's degree, 2015-19  \\\n",
       "1001                                         10596   \n",
       "1003                                         47274   \n",
       "1005                                          4676   \n",
       "1007                                          3848   \n",
       "1009                                         13519   \n",
       "...                                            ...   \n",
       "56037                                        10415   \n",
       "56039                                         4037   \n",
       "56041                                         4562   \n",
       "56043                                         2031   \n",
       "56045                                         1844   \n",
       "\n",
       "       Bachelor's degree or higher, 2015-19  \\\n",
       "1001                                   9929   \n",
       "1003                                  48148   \n",
       "1005                                   2080   \n",
       "1007                                   1678   \n",
       "1009                                   5210   \n",
       "...                                     ...   \n",
       "56037                                  6291   \n",
       "56039                                  9875   \n",
       "56041                                  2078   \n",
       "56043                                  1297   \n",
       "56045                                  1016   \n",
       "\n",
       "       Percent of adults with less than a high school diploma, 2015-19  \\\n",
       "1001                                                11.5                 \n",
       "1003                                                 9.2                 \n",
       "1005                                                26.8                 \n",
       "1007                                                20.9                 \n",
       "1009                                                19.5                 \n",
       "...                                                  ...                 \n",
       "56037                                                7.2                 \n",
       "56039                                                4.8                 \n",
       "56041                                                7.3                 \n",
       "56043                                               10.2                 \n",
       "56045                                                6.3                 \n",
       "\n",
       "       Percent of adults with a high school diploma only, 2015-19  \\\n",
       "1001                                                33.6            \n",
       "1003                                                27.7            \n",
       "1005                                                35.6            \n",
       "1007                                                44.9            \n",
       "1009                                                33.4            \n",
       "...                                                  ...            \n",
       "56037                                               33.0            \n",
       "56039                                               14.9            \n",
       "56041                                               41.5            \n",
       "56043                                               29.8            \n",
       "56045                                               37.4            \n",
       "\n",
       "       Percent of adults completing some college or associate's degree, 2015-19  \\\n",
       "1001                                                28.4                          \n",
       "1003                                                31.3                          \n",
       "1005                                                26.0                          \n",
       "1007                                                23.8                          \n",
       "1009                                                34.0                          \n",
       "...                                                  ...                          \n",
       "56037                                               37.2                          \n",
       "56039                                               23.3                          \n",
       "56041                                               35.2                          \n",
       "56043                                               36.6                          \n",
       "56045                                               36.2                          \n",
       "\n",
       "       Percent of adults with a bachelor's degree or higher, 2015-19  ...  \\\n",
       "1001                                                26.6              ...   \n",
       "1003                                                31.9              ...   \n",
       "1005                                                11.6              ...   \n",
       "1007                                                10.4              ...   \n",
       "1009                                                13.1              ...   \n",
       "...                                                  ...              ...   \n",
       "56037                                               22.5              ...   \n",
       "56039                                               57.0              ...   \n",
       "56041                                               16.0              ...   \n",
       "56043                                               23.4              ...   \n",
       "56045                                               20.0              ...   \n",
       "\n",
       "       CI90UB517P_2019  MEDHHINC_2019  CI90LBINC_2019  CI90UBINC_2019  \\\n",
       "1001              19.4          58233           52517           63949   \n",
       "1003              17.2          59871           54593           65149   \n",
       "1005              49.0          35972           31822           40122   \n",
       "1007              32.7          47918           42291           53545   \n",
       "1009              25.8          52902           46777           59027   \n",
       "...                ...            ...             ...             ...   \n",
       "56037             11.1          80639           73437           87841   \n",
       "56039              6.7          98837           86531          111143   \n",
       "56041             11.1          70756           63191           78321   \n",
       "56043             17.4          55122           50050           60194   \n",
       "56045             16.7          59410           52275           66545   \n",
       "\n",
       "       Civilian_labor_force_2019  Employed_2019  Unemployed_2019  \\\n",
       "1001                       26172          25458              714   \n",
       "1003                       97328          94675             2653   \n",
       "1005                        8537           8213              324   \n",
       "1007                        8685           8419              266   \n",
       "1009                       25331          24655              676   \n",
       "...                          ...            ...              ...   \n",
       "56037                      21274          20446              828   \n",
       "56039                      15575          15151              424   \n",
       "56041                       9035           8682              353   \n",
       "56043                       3941           3786              155   \n",
       "56045                       3811           3701              110   \n",
       "\n",
       "       Unemployment_rate_2019  Median_Household_Income_2019  \\\n",
       "1001                      2.7                         58233   \n",
       "1003                      2.7                         59871   \n",
       "1005                      3.8                         35972   \n",
       "1007                      3.1                         47918   \n",
       "1009                      2.7                         52902   \n",
       "...                       ...                           ...   \n",
       "56037                     3.9                         80639   \n",
       "56039                     2.7                         98837   \n",
       "56041                     3.9                         70756   \n",
       "56043                     3.9                         55122   \n",
       "56045                     2.9                         59410   \n",
       "\n",
       "       Med_HH_Income_Percent_of_State_Total_2019  \n",
       "1001                                       112.5  \n",
       "1003                                       115.6  \n",
       "1005                                        69.5  \n",
       "1007                                        92.6  \n",
       "1009                                       102.2  \n",
       "...                                          ...  \n",
       "56037                                      121.9  \n",
       "56039                                      149.4  \n",
       "56041                                      107.0  \n",
       "56043                                       83.3  \n",
       "56045                                       89.8  \n",
       "\n",
       "[3111 rows x 51 columns]"
      ]
     },
     "execution_count": 92,
     "metadata": {},
     "output_type": "execute_result"
    }
   ],
   "source": [
    "data"
   ]
  },
  {
   "cell_type": "code",
   "execution_count": 93,
   "id": "aware-argument",
   "metadata": {},
   "outputs": [],
   "source": [
    "X = data.drop(['Rep2020'], axis = 1)\n",
    "Y = data[\"Rep2020\"]"
   ]
  },
  {
   "cell_type": "code",
   "execution_count": 94,
   "id": "painful-commonwealth",
   "metadata": {},
   "outputs": [],
   "source": [
    "x_in, x_out, y_in, y_out = train_test_split(X, Y, test_size=0.25)"
   ]
  },
  {
   "cell_type": "code",
   "execution_count": 95,
   "id": "exposed-clinton",
   "metadata": {},
   "outputs": [],
   "source": [
    "sc = StandardScaler()\n",
    "x_in = sc.fit_transform(x_in)\n",
    "x_out = sc.transform(x_out)"
   ]
  },
  {
   "cell_type": "code",
   "execution_count": 96,
   "id": "extra-spyware",
   "metadata": {},
   "outputs": [],
   "source": [
    "lda = LDA(n_components=1)\n",
    "x_in = lda.fit_transform(x_in, y_in)\n",
    "x_out = lda.transform(x_out)"
   ]
  },
  {
   "cell_type": "code",
   "execution_count": 97,
   "id": "italic-investing",
   "metadata": {},
   "outputs": [],
   "source": [
    "target_names =  [\"Rep Lose\",\"Rep Win\"]"
   ]
  },
  {
   "cell_type": "code",
   "execution_count": 98,
   "id": "opponent-attribute",
   "metadata": {},
   "outputs": [
    {
     "name": "stdout",
     "output_type": "stream",
     "text": [
      "tuned hpyerparameters :(best parameters)  {'C': 0.001, 'max_iter': 4000, 'penalty': 'l2'}\n",
      "accuracy : 0.974282930953672\n",
      "              precision    recall  f1-score   support\n",
      "\n",
      "    Rep Lose       0.98      0.90      0.94       140\n",
      "     Rep Win       0.98      1.00      0.99       638\n",
      "\n",
      "    accuracy                           0.98       778\n",
      "   macro avg       0.98      0.95      0.96       778\n",
      "weighted avg       0.98      0.98      0.98       778\n",
      "\n"
     ]
    }
   ],
   "source": [
    "grid={ 'C': [0.001,0.01,0.1,1,10,100,1000], \"penalty\":[\"l2\"], \"max_iter\":[4000]}\n",
    "logist=LogisticRegression()\n",
    "logist_cv=GridSearchCV(logist,grid,cv=5)\n",
    "logist_cv.fit(x_in,y_in)\n",
    "\n",
    "print(\"tuned hpyerparameters :(best parameters) \",logist_cv.best_params_)\n",
    "print(\"accuracy :\",logist_cv.best_score_)\n",
    "y_logit_pred = logist_cv.predict(x_out)\n",
    "print(classification_report(y_out, y_logit_pred, target_names=target_names))"
   ]
  },
  {
   "cell_type": "code",
   "execution_count": 99,
   "id": "significant-certificate",
   "metadata": {
    "scrolled": false
   },
   "outputs": [
    {
     "name": "stdout",
     "output_type": "stream",
     "text": [
      "tuned hpyerparameters :(best parameters)  {'metric': 'euclidean', 'n_neighbors': 9, 'weights': 'uniform'}\n",
      "accuracy : 0.9738546654290469\n",
      "              precision    recall  f1-score   support\n",
      "\n",
      "    Rep Lose       0.97      0.90      0.93       140\n",
      "     Rep Win       0.98      0.99      0.99       638\n",
      "\n",
      "    accuracy                           0.98       778\n",
      "   macro avg       0.97      0.95      0.96       778\n",
      "weighted avg       0.98      0.98      0.98       778\n",
      "\n"
     ]
    }
   ],
   "source": [
    "grid={ 'n_neighbors': [1,3,7,9,11,13,15], \"weights\":[\"uniform\",\"distance\"], \"metric\":[\"euclidean\",\"manhattan\"]}\n",
    "knn = KNeighborsClassifier()\n",
    "knn_cv = GridSearchCV(knn,grid,cv=5)\n",
    "knn_cv.fit(x_in,y_in)\n",
    "\n",
    "print(\"tuned hpyerparameters :(best parameters) \",knn_cv.best_params_)\n",
    "print(\"accuracy :\",knn_cv.best_score_)\n",
    "y_KNN_pred = knn_cv.predict(x_out)\n",
    "print(classification_report(y_out, y_KNN_pred, target_names=target_names))"
   ]
  },
  {
   "cell_type": "code",
   "execution_count": 100,
   "id": "expected-discount",
   "metadata": {
    "scrolled": false
   },
   "outputs": [
    {
     "name": "stdout",
     "output_type": "stream",
     "text": [
      "tuned hpyerparameters :(best parameters)  {'criterion': 'entropy', 'max_depth': 3, 'min_samples_leaf': 10, 'min_samples_split': 2}\n",
      "accuracy : 0.9729962963303344\n",
      "              precision    recall  f1-score   support\n",
      "\n",
      "    Rep Lose       0.96      0.90      0.93       140\n",
      "     Rep Win       0.98      0.99      0.99       638\n",
      "\n",
      "    accuracy                           0.98       778\n",
      "   macro avg       0.97      0.95      0.96       778\n",
      "weighted avg       0.98      0.98      0.98       778\n",
      "\n"
     ]
    }
   ],
   "source": [
    "grid = {\"criterion\" : [\"gini\",\"entropy\"] , \"max_depth\":[3,5,7,9,11] , \"min_samples_split\":[2,4,6,8,10] , \"min_samples_leaf\":[2,4,6,8,10]}\n",
    "dt = tree.DecisionTreeClassifier()\n",
    "dt_cv = GridSearchCV(dt,grid,cv=5)\n",
    "dt_cv.fit(x_in,y_in)\n",
    "\n",
    "print(\"tuned hpyerparameters :(best parameters) \",dt_cv.best_params_)\n",
    "print(\"accuracy :\",dt_cv.best_score_)\n",
    "y_DT_pred = dt_cv.predict(x_out)\n",
    "print(classification_report(y_out, y_DT_pred, target_names=target_names))"
   ]
  },
  {
   "cell_type": "markdown",
   "id": "amber-abortion",
   "metadata": {},
   "source": [
    "## Predict All Counties with the Best Model"
   ]
  },
  {
   "cell_type": "markdown",
   "id": "impaired-proof",
   "metadata": {},
   "source": [
    "using LDA to reduce the dimentionality of the dataset"
   ]
  },
  {
   "cell_type": "code",
   "execution_count": 101,
   "id": "returning-intellectual",
   "metadata": {},
   "outputs": [],
   "source": [
    "X_all = lda.fit_transform(X, Y)"
   ]
  },
  {
   "cell_type": "code",
   "execution_count": 102,
   "id": "functioning-soccer",
   "metadata": {
    "scrolled": false
   },
   "outputs": [
    {
     "name": "stdout",
     "output_type": "stream",
     "text": [
      "              precision    recall  f1-score   support\n",
      "\n",
      "    Rep Lose       0.97      0.89      0.93       537\n",
      "     Rep Win       0.98      0.99      0.99      2574\n",
      "\n",
      "    accuracy                           0.98      3111\n",
      "   macro avg       0.97      0.94      0.96      3111\n",
      "weighted avg       0.98      0.98      0.98      3111\n",
      "\n"
     ]
    }
   ],
   "source": [
    "predict_all = knn_cv.predict(X_all)\n",
    "print(classification_report(Y, predict_all, target_names=target_names))"
   ]
  },
  {
   "cell_type": "code",
   "execution_count": 103,
   "id": "utility-tractor",
   "metadata": {
    "scrolled": true
   },
   "outputs": [
    {
     "data": {
      "text/plain": [
       "<sklearn.metrics._plot.confusion_matrix.ConfusionMatrixDisplay at 0x170b79b36d0>"
      ]
     },
     "execution_count": 103,
     "metadata": {},
     "output_type": "execute_result"
    },
    {
     "data": {
      "image/png": "[encoded data removed]",
      "text/plain": [
       "<Figure size 432x288 with 2 Axes>"
      ]
     },
     "metadata": {
      "needs_background": "light"
     },
     "output_type": "display_data"
    }
   ],
   "source": [
    "result_matrix = metrics.confusion_matrix(Y, predict_all)\n",
    "disp1 = ConfusionMatrixDisplay(confusion_matrix=result_matrix, display_labels=target_names)\n",
    "disp1.plot()"
   ]
  },
  {
   "cell_type": "markdown",
   "id": "radio-vitamin",
   "metadata": {},
   "source": [
    "## Can We Use the Same Counties Data to Predict Which are the Swing Counties?"
   ]
  },
  {
   "cell_type": "markdown",
   "id": "contemporary-idaho",
   "metadata": {},
   "source": [
    "Assign col with rep2020 =/= rep2016"
   ]
  },
  {
   "cell_type": "code",
   "execution_count": 18,
   "id": "equal-glass",
   "metadata": {},
   "outputs": [],
   "source": [
    "vote_result = data[[\"Rep2020\",\"Rep2016\"]]"
   ]
  },
  {
   "cell_type": "code",
   "execution_count": 19,
   "id": "divine-stranger",
   "metadata": {},
   "outputs": [
    {
     "data": {
      "text/html": [
       "<div>\n",
       "<style scoped>\n",
       "    .dataframe tbody tr th:only-of-type {\n",
       "        vertical-align: middle;\n",
       "    }\n",
       "\n",
       "    .dataframe tbody tr th {\n",
       "        vertical-align: top;\n",
       "    }\n",
       "\n",
       "    .dataframe thead th {\n",
       "        text-align: right;\n",
       "    }\n",
       "</style>\n",
       "<table border=\"1\" class=\"dataframe\">\n",
       "  <thead>\n",
       "    <tr style=\"text-align: right;\">\n",
       "      <th></th>\n",
       "      <th>Rep2020</th>\n",
       "      <th>Rep2016</th>\n",
       "    </tr>\n",
       "  </thead>\n",
       "  <tbody>\n",
       "    <tr>\n",
       "      <th>1001</th>\n",
       "      <td>1</td>\n",
       "      <td>1</td>\n",
       "    </tr>\n",
       "    <tr>\n",
       "      <th>1003</th>\n",
       "      <td>1</td>\n",
       "      <td>1</td>\n",
       "    </tr>\n",
       "    <tr>\n",
       "      <th>1005</th>\n",
       "      <td>1</td>\n",
       "      <td>1</td>\n",
       "    </tr>\n",
       "    <tr>\n",
       "      <th>1007</th>\n",
       "      <td>1</td>\n",
       "      <td>1</td>\n",
       "    </tr>\n",
       "    <tr>\n",
       "      <th>1009</th>\n",
       "      <td>1</td>\n",
       "      <td>1</td>\n",
       "    </tr>\n",
       "    <tr>\n",
       "      <th>...</th>\n",
       "      <td>...</td>\n",
       "      <td>...</td>\n",
       "    </tr>\n",
       "    <tr>\n",
       "      <th>56037</th>\n",
       "      <td>1</td>\n",
       "      <td>1</td>\n",
       "    </tr>\n",
       "    <tr>\n",
       "      <th>56039</th>\n",
       "      <td>0</td>\n",
       "      <td>0</td>\n",
       "    </tr>\n",
       "    <tr>\n",
       "      <th>56041</th>\n",
       "      <td>1</td>\n",
       "      <td>1</td>\n",
       "    </tr>\n",
       "    <tr>\n",
       "      <th>56043</th>\n",
       "      <td>1</td>\n",
       "      <td>1</td>\n",
       "    </tr>\n",
       "    <tr>\n",
       "      <th>56045</th>\n",
       "      <td>1</td>\n",
       "      <td>1</td>\n",
       "    </tr>\n",
       "  </tbody>\n",
       "</table>\n",
       "<p>3111 rows × 2 columns</p>\n",
       "</div>"
      ],
      "text/plain": [
       "       Rep2020  Rep2016\n",
       "1001         1        1\n",
       "1003         1        1\n",
       "1005         1        1\n",
       "1007         1        1\n",
       "1009         1        1\n",
       "...        ...      ...\n",
       "56037        1        1\n",
       "56039        0        0\n",
       "56041        1        1\n",
       "56043        1        1\n",
       "56045        1        1\n",
       "\n",
       "[3111 rows x 2 columns]"
      ]
     },
     "execution_count": 19,
     "metadata": {},
     "output_type": "execute_result"
    }
   ],
   "source": [
    "vote_result"
   ]
  },
  {
   "cell_type": "code",
   "execution_count": 41,
   "id": "remarkable-holiday",
   "metadata": {},
   "outputs": [
    {
     "name": "stderr",
     "output_type": "stream",
     "text": [
      "<ipython-input-41-54f341a0e352>:9: SettingWithCopyWarning: \n",
      "A value is trying to be set on a copy of a slice from a DataFrame.\n",
      "Try using .loc[row_indexer,col_indexer] = value instead\n",
      "\n",
      "See the caveats in the documentation: https://pandas.pydata.org/pandas-docs/stable/user_guide/indexing.html#returning-a-view-versus-a-copy\n",
      "  vote_result['Swingvote'] = vote_result.apply(swingvotes, axis=1)\n"
     ]
    }
   ],
   "source": [
    "def swingvotes(row):\n",
    "    if row['Rep2020'] != row['Rep2016']:\n",
    "        val = 1\n",
    "    else:\n",
    "        val = 0\n",
    "    return val\n",
    "\n",
    "\n",
    "vote_result['Swingvote'] = vote_result.apply(swingvotes, axis=1)"
   ]
  },
  {
   "cell_type": "code",
   "execution_count": 42,
   "id": "compressed-little",
   "metadata": {
    "scrolled": true
   },
   "outputs": [
    {
     "data": {
      "text/html": [
       "<div>\n",
       "<style scoped>\n",
       "    .dataframe tbody tr th:only-of-type {\n",
       "        vertical-align: middle;\n",
       "    }\n",
       "\n",
       "    .dataframe tbody tr th {\n",
       "        vertical-align: top;\n",
       "    }\n",
       "\n",
       "    .dataframe thead th {\n",
       "        text-align: right;\n",
       "    }\n",
       "</style>\n",
       "<table border=\"1\" class=\"dataframe\">\n",
       "  <thead>\n",
       "    <tr style=\"text-align: right;\">\n",
       "      <th></th>\n",
       "      <th>Rep2020</th>\n",
       "      <th>Rep2016</th>\n",
       "    </tr>\n",
       "    <tr>\n",
       "      <th>Swingvote</th>\n",
       "      <th></th>\n",
       "      <th></th>\n",
       "    </tr>\n",
       "  </thead>\n",
       "  <tbody>\n",
       "    <tr>\n",
       "      <th>0</th>\n",
       "      <td>3032</td>\n",
       "      <td>3032</td>\n",
       "    </tr>\n",
       "    <tr>\n",
       "      <th>1</th>\n",
       "      <td>79</td>\n",
       "      <td>79</td>\n",
       "    </tr>\n",
       "  </tbody>\n",
       "</table>\n",
       "</div>"
      ],
      "text/plain": [
       "           Rep2020  Rep2016\n",
       "Swingvote                  \n",
       "0             3032     3032\n",
       "1               79       79"
      ]
     },
     "execution_count": 42,
     "metadata": {},
     "output_type": "execute_result"
    }
   ],
   "source": [
    "vote_result.groupby('Swingvote').count()"
   ]
  },
  {
   "cell_type": "code",
   "execution_count": 43,
   "id": "collaborative-correction",
   "metadata": {},
   "outputs": [],
   "source": [
    "Y_change = vote_result['Swingvote']\n",
    "X_change = data.drop([\"Rep2020\"], axis = 1) "
   ]
  },
  {
   "cell_type": "code",
   "execution_count": 44,
   "id": "satisfied-current",
   "metadata": {},
   "outputs": [],
   "source": [
    "x_change_in, x_change_out, y_change_in, y_change_out = train_test_split(X_change, Y_change, test_size=0.3)"
   ]
  },
  {
   "cell_type": "code",
   "execution_count": 45,
   "id": "prepared-entrance",
   "metadata": {},
   "outputs": [],
   "source": [
    "sc = StandardScaler()\n",
    "x_change_in = sc.fit_transform(x_change_in)\n",
    "x_change_out = sc.transform(x_change_out)\n",
    "lda = LDA(n_components=1)\n",
    "x_change_in = lda.fit_transform(x_change_in,y_change_in)\n",
    "x_change_out = lda.transform(x_change_out)"
   ]
  },
  {
   "cell_type": "code",
   "execution_count": 46,
   "id": "isolated-plaza",
   "metadata": {},
   "outputs": [
    {
     "name": "stdout",
     "output_type": "stream",
     "text": [
      "tuned hpyerparameters :(best parameters)  {'C': 0.01, 'max_iter': 4000, 'penalty': 'l2'}\n",
      "accuracy : 0.9719802984822223\n",
      "              precision    recall  f1-score   support\n",
      "\n",
      "   No Change       0.98      1.00      0.99       918\n",
      " Vote Change       0.00      0.00      0.00        16\n",
      "\n",
      "    accuracy                           0.98       934\n",
      "   macro avg       0.49      0.50      0.50       934\n",
      "weighted avg       0.97      0.98      0.97       934\n",
      "\n"
     ]
    }
   ],
   "source": [
    "grid={ 'C': [0.001,0.01,0.1,1,10,100,1000], \"penalty\":[\"l2\"], \"max_iter\":[4000]}\n",
    "change_logist_cv=GridSearchCV(logist,grid,cv=10)\n",
    "change_logist_cv.fit(x_change_in,y_change_in)\n",
    "print(\"tuned hpyerparameters :(best parameters) \",change_logist_cv.best_params_)\n",
    "print(\"accuracy :\",change_logist_cv.best_score_)\n",
    "y_change_logit_pred = change_logist_cv.predict(x_change_out)\n",
    "print(classification_report(y_change_out, y_change_logit_pred, target_names= [\"No Change\", \"Vote Change\"]))"
   ]
  },
  {
   "cell_type": "code",
   "execution_count": 47,
   "id": "overhead-warner",
   "metadata": {},
   "outputs": [
    {
     "name": "stdout",
     "output_type": "stream",
     "text": [
      "tuned hpyerparameters :(best parameters)  {'metric': 'euclidean', 'n_neighbors': 13, 'weights': 'uniform'}\n",
      "accuracy : 0.9710628672895618\n",
      "              precision    recall  f1-score   support\n",
      "\n",
      "   No Change       0.98      1.00      0.99       918\n",
      " Vote Change       0.00      0.00      0.00        16\n",
      "\n",
      "    accuracy                           0.98       934\n",
      "   macro avg       0.49      0.50      0.50       934\n",
      "weighted avg       0.97      0.98      0.97       934\n",
      "\n"
     ]
    },
    {
     "name": "stderr",
     "output_type": "stream",
     "text": [
      "C:\\Users\\Zack\\anaconda3\\lib\\site-packages\\sklearn\\metrics\\_classification.py:1248: UndefinedMetricWarning: Precision and F-score are ill-defined and being set to 0.0 in labels with no predicted samples. Use `zero_division` parameter to control this behavior.\n",
      "  _warn_prf(average, modifier, msg_start, len(result))\n",
      "C:\\Users\\Zack\\anaconda3\\lib\\site-packages\\sklearn\\metrics\\_classification.py:1248: UndefinedMetricWarning: Precision and F-score are ill-defined and being set to 0.0 in labels with no predicted samples. Use `zero_division` parameter to control this behavior.\n",
      "  _warn_prf(average, modifier, msg_start, len(result))\n",
      "C:\\Users\\Zack\\anaconda3\\lib\\site-packages\\sklearn\\metrics\\_classification.py:1248: UndefinedMetricWarning: Precision and F-score are ill-defined and being set to 0.0 in labels with no predicted samples. Use `zero_division` parameter to control this behavior.\n",
      "  _warn_prf(average, modifier, msg_start, len(result))\n"
     ]
    }
   ],
   "source": [
    "grid={ 'n_neighbors': [1,3,7,9,11,13,15], \"weights\":[\"uniform\",\"distance\"], \"metric\":[\"euclidean\",\"manhattan\"]}\n",
    "change_knn_cv = GridSearchCV(knn,grid,cv=10)\n",
    "change_knn_cv.fit(x_change_in,y_change_in)\n",
    "\n",
    "print(\"tuned hpyerparameters :(best parameters) \",change_knn_cv.best_params_)\n",
    "print(\"accuracy :\",change_knn_cv.best_score_)\n",
    "y_change_KNN_pred = change_knn_cv.predict(x_change_out)\n",
    "print(classification_report(y_change_out, y_change_KNN_pred, target_names= [\"No Change\", \"Vote Change\"]))"
   ]
  },
  {
   "cell_type": "code",
   "execution_count": 48,
   "id": "lonely-municipality",
   "metadata": {
    "scrolled": true
   },
   "outputs": [
    {
     "name": "stdout",
     "output_type": "stream",
     "text": [
      "tuned hpyerparameters :(best parameters)  {'criterion': 'entropy', 'max_depth': 5, 'min_samples_leaf': 2, 'min_samples_split': 2}\n",
      "accuracy : 0.971521582885892\n",
      "              precision    recall  f1-score   support\n",
      "\n",
      "   No Change       0.98      1.00      0.99       918\n",
      " Vote Change       0.25      0.06      0.10        16\n",
      "\n",
      "    accuracy                           0.98       934\n",
      "   macro avg       0.62      0.53      0.55       934\n",
      "weighted avg       0.97      0.98      0.98       934\n",
      "\n"
     ]
    }
   ],
   "source": [
    "grid = {\"criterion\" : [\"gini\",\"entropy\"] , \"max_depth\":[3,5,7,9,11] , \"min_samples_split\":[2,4,6,8,10] , \"min_samples_leaf\":[2,4,6,8,10]}\n",
    "change_dt_cv = GridSearchCV(dt,grid,cv=10)\n",
    "change_dt_cv.fit(x_change_in,y_change_in)\n",
    "\n",
    "print(\"tuned hpyerparameters :(best parameters) \",change_dt_cv.best_params_)\n",
    "print(\"accuracy :\",change_dt_cv.best_score_)\n",
    "y_change_DT_pred = change_dt_cv.predict(x_change_out)\n",
    "print(classification_report(y_change_out, y_change_DT_pred, target_names= [\"No Change\", \"Vote Change\"]))"
   ]
  },
  {
   "cell_type": "code",
   "execution_count": 51,
   "id": "stopped-secretariat",
   "metadata": {},
   "outputs": [
    {
     "name": "stdout",
     "output_type": "stream",
     "text": [
      "              precision    recall  f1-score   support\n",
      "\n",
      "   No Change       0.98      1.00      0.99      3032\n",
      " Vote Change       0.23      0.04      0.07        79\n",
      "\n",
      "    accuracy                           0.97      3111\n",
      "   macro avg       0.60      0.52      0.53      3111\n",
      "weighted avg       0.96      0.97      0.96      3111\n",
      "\n"
     ]
    }
   ],
   "source": [
    "X_change_all = lda.fit_transform(X_change, Y_change)\n",
    "predict_change_all = change_dt_cv.predict(X_change_all)\n",
    "print(classification_report(Y_change, predict_change_all, target_names= [\"No Change\", \"Vote Change\"]))"
   ]
  },
  {
   "cell_type": "code",
   "execution_count": 52,
   "id": "disturbed-mailing",
   "metadata": {},
   "outputs": [
    {
     "data": {
      "text/plain": [
       "<sklearn.metrics._plot.confusion_matrix.ConfusionMatrixDisplay at 0x170b65b29a0>"
      ]
     },
     "execution_count": 52,
     "metadata": {},
     "output_type": "execute_result"
    },
    {
     "data": {
      "image/png": "[encoded data removed]",
      "text/plain": [
       "<Figure size 432x288 with 2 Axes>"
      ]
     },
     "metadata": {
      "needs_background": "light"
     },
     "output_type": "display_data"
    }
   ],
   "source": [
    "change_matrix = metrics.confusion_matrix(Y_change, predict_change_all)\n",
    "disp2 = ConfusionMatrixDisplay(confusion_matrix=change_matrix, display_labels=[\"No Change\", \"Vote Change\"])\n",
    "disp2.plot() "
   ]
  },
  {
   "cell_type": "code",
   "execution_count": null,
   "id": "intimate-proportion",
   "metadata": {},
   "outputs": [],
   "source": []
  },
  {
   "cell_type": "code",
   "execution_count": null,
   "id": "social-ballot",
   "metadata": {},
   "outputs": [],
   "source": []
  }
 ],
 "metadata": {
  "kernelspec": {
   "display_name": "Python 3",
   "language": "python",
   "name": "python3"
  },
  "language_info": {
   "codemirror_mode": {
    "name": "ipython",
    "version": 3
   },
   "file_extension": ".py",
   "mimetype": "text/x-python",
   "name": "python",
   "nbconvert_exporter": "python",
   "pygments_lexer": "ipython3",
   "version": "3.8.5"
  }
 },
 "nbformat": 4,
 "nbformat_minor": 5
}
